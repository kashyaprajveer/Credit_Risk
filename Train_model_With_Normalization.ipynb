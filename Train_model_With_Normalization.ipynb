{
 "cells": [
  {
   "cell_type": "code",
   "execution_count": 1,
   "id": "08bc93ff",
   "metadata": {},
   "outputs": [
    {
     "name": "stderr",
     "output_type": "stream",
     "text": [
      "C:\\ProgramData\\Anaconda3\\lib\\site-packages\\numpy\\_distributor_init.py:30: UserWarning: loaded more than 1 DLL from .libs:\n",
      "C:\\ProgramData\\Anaconda3\\lib\\site-packages\\numpy\\.libs\\libopenblas.EL2C6PLE4ZYW3ECEVIV3OXXGRN2NRFM2.gfortran-win_amd64.dll\n",
      "C:\\ProgramData\\Anaconda3\\lib\\site-packages\\numpy\\.libs\\libopenblas.GK7GX5KEQ4F6UYO3P26ULGBQYHGQO7J4.gfortran-win_amd64.dll\n",
      "  warnings.warn(\"loaded more than 1 DLL from .libs:\"\n"
     ]
    }
   ],
   "source": [
    "import pandas as pd\n",
    "import numpy as np\n",
    "from sklearn.model_selection import train_test_split"
   ]
  },
  {
   "cell_type": "code",
   "execution_count": 2,
   "id": "772593f6",
   "metadata": {},
   "outputs": [
    {
     "data": {
      "text/html": [
       "<div>\n",
       "<style scoped>\n",
       "    .dataframe tbody tr th:only-of-type {\n",
       "        vertical-align: middle;\n",
       "    }\n",
       "\n",
       "    .dataframe tbody tr th {\n",
       "        vertical-align: top;\n",
       "    }\n",
       "\n",
       "    .dataframe thead th {\n",
       "        text-align: right;\n",
       "    }\n",
       "</style>\n",
       "<table border=\"1\" class=\"dataframe\">\n",
       "  <thead>\n",
       "    <tr style=\"text-align: right;\">\n",
       "      <th></th>\n",
       "      <th>person_age</th>\n",
       "      <th>person_income</th>\n",
       "      <th>person_emp_length</th>\n",
       "      <th>loan_amnt</th>\n",
       "      <th>loan_int_rate</th>\n",
       "      <th>loan_status</th>\n",
       "      <th>loan_percent_income</th>\n",
       "      <th>cb_person_cred_hist_length</th>\n",
       "      <th>loan_to_income_ratio</th>\n",
       "      <th>loan_to_emp_length_ratio</th>\n",
       "      <th>...</th>\n",
       "      <th>medium</th>\n",
       "      <th>large</th>\n",
       "      <th>very large</th>\n",
       "      <th>A</th>\n",
       "      <th>B</th>\n",
       "      <th>C</th>\n",
       "      <th>D</th>\n",
       "      <th>E</th>\n",
       "      <th>F</th>\n",
       "      <th>G</th>\n",
       "    </tr>\n",
       "  </thead>\n",
       "  <tbody>\n",
       "    <tr>\n",
       "      <th>0</th>\n",
       "      <td>21</td>\n",
       "      <td>9600</td>\n",
       "      <td>5.0</td>\n",
       "      <td>1000</td>\n",
       "      <td>11.14</td>\n",
       "      <td>0</td>\n",
       "      <td>0.10</td>\n",
       "      <td>2</td>\n",
       "      <td>0.104167</td>\n",
       "      <td>0.005000</td>\n",
       "      <td>...</td>\n",
       "      <td>0</td>\n",
       "      <td>0</td>\n",
       "      <td>0</td>\n",
       "      <td>0</td>\n",
       "      <td>1</td>\n",
       "      <td>0</td>\n",
       "      <td>0</td>\n",
       "      <td>0</td>\n",
       "      <td>0</td>\n",
       "      <td>0</td>\n",
       "    </tr>\n",
       "    <tr>\n",
       "      <th>1</th>\n",
       "      <td>25</td>\n",
       "      <td>9600</td>\n",
       "      <td>1.0</td>\n",
       "      <td>5500</td>\n",
       "      <td>12.87</td>\n",
       "      <td>1</td>\n",
       "      <td>0.57</td>\n",
       "      <td>3</td>\n",
       "      <td>0.572917</td>\n",
       "      <td>0.000182</td>\n",
       "      <td>...</td>\n",
       "      <td>1</td>\n",
       "      <td>0</td>\n",
       "      <td>0</td>\n",
       "      <td>0</td>\n",
       "      <td>0</td>\n",
       "      <td>1</td>\n",
       "      <td>0</td>\n",
       "      <td>0</td>\n",
       "      <td>0</td>\n",
       "      <td>0</td>\n",
       "    </tr>\n",
       "  </tbody>\n",
       "</table>\n",
       "<p>2 rows × 44 columns</p>\n",
       "</div>"
      ],
      "text/plain": [
       "   person_age  person_income  person_emp_length  loan_amnt  loan_int_rate  \\\n",
       "0          21           9600                5.0       1000          11.14   \n",
       "1          25           9600                1.0       5500          12.87   \n",
       "\n",
       "   loan_status  loan_percent_income  cb_person_cred_hist_length  \\\n",
       "0            0                 0.10                           2   \n",
       "1            1                 0.57                           3   \n",
       "\n",
       "   loan_to_income_ratio  loan_to_emp_length_ratio  ...  medium  large  \\\n",
       "0              0.104167                  0.005000  ...       0      0   \n",
       "1              0.572917                  0.000182  ...       1      0   \n",
       "\n",
       "   very large  A  B  C  D  E  F  G  \n",
       "0           0  0  1  0  0  0  0  0  \n",
       "1           0  0  0  1  0  0  0  0  \n",
       "\n",
       "[2 rows x 44 columns]"
      ]
     },
     "execution_count": 2,
     "metadata": {},
     "output_type": "execute_result"
    }
   ],
   "source": [
    "df = pd.read_csv(\"./data/pre_processed_credit.csv\")\n",
    "df.head(2)"
   ]
  },
  {
   "cell_type": "code",
   "execution_count": 3,
   "id": "63394596",
   "metadata": {},
   "outputs": [
    {
     "data": {
      "text/plain": [
       "Index(['person_age', 'person_income', 'person_emp_length', 'loan_amnt',\n",
       "       'loan_int_rate', 'loan_status', 'loan_percent_income',\n",
       "       'cb_person_cred_hist_length', 'loan_to_income_ratio',\n",
       "       'loan_to_emp_length_ratio', 'int_rate_to_loan_amt_ratio', 'MORTGAGE',\n",
       "       'OTHER', 'OWN', 'RENT', 'DEBTCONSOLIDATION', 'EDUCATION',\n",
       "       'HOMEIMPROVEMENT', 'MEDICAL', 'PERSONAL', 'VENTURE', 'N', 'Y', '20-25',\n",
       "       '26-35', '36-45', '46-55', '56-65', 'low', 'low-middle', 'middle',\n",
       "       'high-middle', 'high', 'small', 'medium', 'large', 'very large', 'A',\n",
       "       'B', 'C', 'D', 'E', 'F', 'G'],\n",
       "      dtype='object')"
      ]
     },
     "execution_count": 3,
     "metadata": {},
     "output_type": "execute_result"
    }
   ],
   "source": [
    "df.columns"
   ]
  },
  {
   "cell_type": "code",
   "execution_count": 4,
   "id": "166cb9b8",
   "metadata": {},
   "outputs": [],
   "source": [
    "y = df[\"loan_status\"]"
   ]
  },
  {
   "cell_type": "code",
   "execution_count": 5,
   "id": "53c4535c",
   "metadata": {},
   "outputs": [],
   "source": [
    "df.drop(['loan_status'],  axis =1 ,inplace=True)"
   ]
  },
  {
   "cell_type": "code",
   "execution_count": 6,
   "id": "98c36c45",
   "metadata": {},
   "outputs": [
    {
     "data": {
      "text/plain": [
       "Index(['person_age', 'person_income', 'person_emp_length', 'loan_amnt',\n",
       "       'loan_int_rate', 'loan_percent_income', 'cb_person_cred_hist_length',\n",
       "       'loan_to_income_ratio', 'loan_to_emp_length_ratio',\n",
       "       'int_rate_to_loan_amt_ratio', 'MORTGAGE', 'OTHER', 'OWN', 'RENT',\n",
       "       'DEBTCONSOLIDATION', 'EDUCATION', 'HOMEIMPROVEMENT', 'MEDICAL',\n",
       "       'PERSONAL', 'VENTURE', 'N', 'Y', '20-25', '26-35', '36-45', '46-55',\n",
       "       '56-65', 'low', 'low-middle', 'middle', 'high-middle', 'high', 'small',\n",
       "       'medium', 'large', 'very large', 'A', 'B', 'C', 'D', 'E', 'F', 'G'],\n",
       "      dtype='object')"
      ]
     },
     "execution_count": 6,
     "metadata": {},
     "output_type": "execute_result"
    }
   ],
   "source": [
    "df.columns"
   ]
  },
  {
   "cell_type": "code",
   "execution_count": 7,
   "id": "d3d11530",
   "metadata": {},
   "outputs": [],
   "source": [
    "X_train, X_test, y_train, y_test = train_test_split(df, y, test_size=0.33, random_state=42)"
   ]
  },
  {
   "cell_type": "code",
   "execution_count": 8,
   "id": "8111fdc2",
   "metadata": {},
   "outputs": [
    {
     "data": {
      "text/plain": [
       "(19182, 43)"
      ]
     },
     "execution_count": 8,
     "metadata": {},
     "output_type": "execute_result"
    }
   ],
   "source": [
    "X_train.shape"
   ]
  },
  {
   "cell_type": "code",
   "execution_count": 9,
   "id": "9c21f956",
   "metadata": {},
   "outputs": [
    {
     "data": {
      "text/plain": [
       "(9448, 43)"
      ]
     },
     "execution_count": 9,
     "metadata": {},
     "output_type": "execute_result"
    }
   ],
   "source": [
    "X_test.shape"
   ]
  },
  {
   "cell_type": "code",
   "execution_count": 10,
   "id": "1f93e94a",
   "metadata": {},
   "outputs": [
    {
     "data": {
      "text/plain": [
       "(19182,)"
      ]
     },
     "execution_count": 10,
     "metadata": {},
     "output_type": "execute_result"
    }
   ],
   "source": [
    "y_train.shape"
   ]
  },
  {
   "cell_type": "code",
   "execution_count": 11,
   "id": "42d93c9f",
   "metadata": {},
   "outputs": [
    {
     "data": {
      "text/plain": [
       "(9448,)"
      ]
     },
     "execution_count": 11,
     "metadata": {},
     "output_type": "execute_result"
    }
   ],
   "source": [
    "y_test.shape"
   ]
  },
  {
   "cell_type": "markdown",
   "id": "85ec196e",
   "metadata": {},
   "source": [
    "# Normalize data"
   ]
  },
  {
   "cell_type": "code",
   "execution_count": 12,
   "id": "111db59c",
   "metadata": {},
   "outputs": [],
   "source": [
    "# data normalization with sklearn\n",
    "from sklearn.preprocessing import MinMaxScaler\n",
    "\n",
    "# fit scaler on training data\n",
    "norm = MinMaxScaler().fit(X_train)\n",
    "\n",
    "# transform training data\n",
    "X_train_norm = norm.transform(X_train)\n",
    "\n",
    "# transform testing dataabs\n",
    "X_test_norm = norm.transform(X_test)"
   ]
  },
  {
   "cell_type": "code",
   "execution_count": 13,
   "id": "b778d088",
   "metadata": {},
   "outputs": [],
   "source": [
    "X_train = X_train_norm\n",
    "X_test = X_test_norm"
   ]
  },
  {
   "cell_type": "markdown",
   "id": "54d1fc46",
   "metadata": {},
   "source": [
    "# LOGISTIC REGRESSION"
   ]
  },
  {
   "cell_type": "code",
   "execution_count": 14,
   "id": "41deef81",
   "metadata": {},
   "outputs": [],
   "source": [
    "from sklearn.linear_model import LogisticRegression\n",
    "LR = LogisticRegression(penalty= 'l1', solver='saga')"
   ]
  },
  {
   "cell_type": "code",
   "execution_count": 15,
   "id": "9f188283",
   "metadata": {},
   "outputs": [],
   "source": [
    "param_grid = [    \n",
    "    {#'penalty' : ['l1', 'l2', 'elasticnet', 'none'],\n",
    "    'C' : np.logspace(-4, 4, 20)\n",
    "    }\n",
    "]"
   ]
  },
  {
   "cell_type": "code",
   "execution_count": 16,
   "id": "a2f33370",
   "metadata": {},
   "outputs": [],
   "source": [
    "from sklearn.model_selection import GridSearchCV\n",
    "clf = GridSearchCV(LR, param_grid = param_grid, cv = 3, verbose=True, n_jobs=-1)"
   ]
  },
  {
   "cell_type": "code",
   "execution_count": 17,
   "id": "60bde1e3",
   "metadata": {},
   "outputs": [
    {
     "name": "stdout",
     "output_type": "stream",
     "text": [
      "Fitting 3 folds for each of 20 candidates, totalling 60 fits\n"
     ]
    },
    {
     "name": "stderr",
     "output_type": "stream",
     "text": [
      "C:\\ProgramData\\Anaconda3\\lib\\site-packages\\sklearn\\linear_model\\_sag.py:328: ConvergenceWarning: The max_iter was reached which means the coef_ did not converge\n",
      "  warnings.warn(\"The max_iter was reached which means \"\n"
     ]
    }
   ],
   "source": [
    "best_clf = clf.fit(X_train,y_train)"
   ]
  },
  {
   "cell_type": "code",
   "execution_count": 18,
   "id": "b9fd1ad8",
   "metadata": {},
   "outputs": [
    {
     "data": {
      "text/plain": [
       "LogisticRegression(C=78.47599703514607, penalty='l1', solver='saga')"
      ]
     },
     "execution_count": 18,
     "metadata": {},
     "output_type": "execute_result"
    }
   ],
   "source": [
    "best_clf.best_estimator_"
   ]
  },
  {
   "cell_type": "code",
   "execution_count": 19,
   "id": "728b6b0c",
   "metadata": {},
   "outputs": [
    {
     "name": "stdout",
     "output_type": "stream",
     "text": [
      "Accuracy: 0.879\n"
     ]
    }
   ],
   "source": [
    "print (f'Accuracy: {best_clf.score(X_train,y_train):.3f}')"
   ]
  },
  {
   "cell_type": "code",
   "execution_count": 20,
   "id": "3520abea",
   "metadata": {},
   "outputs": [],
   "source": [
    "y_pred_LR = best_clf.predict(X_test)"
   ]
  },
  {
   "cell_type": "code",
   "execution_count": 21,
   "id": "2b97a09a",
   "metadata": {},
   "outputs": [
    {
     "data": {
      "text/plain": [
       "array([[7016,  349],\n",
       "       [ 861, 1222]], dtype=int64)"
      ]
     },
     "execution_count": 21,
     "metadata": {},
     "output_type": "execute_result"
    }
   ],
   "source": [
    "from sklearn.metrics import confusion_matrix\n",
    "confusion_matrix(y_test,y_pred_LR)"
   ]
  },
  {
   "cell_type": "code",
   "execution_count": 22,
   "id": "53922579",
   "metadata": {},
   "outputs": [
    {
     "name": "stdout",
     "output_type": "stream",
     "text": [
      "Classification report - \n",
      "               precision    recall  f1-score   support\n",
      "\n",
      "           0       0.89      0.95      0.92      7365\n",
      "           1       0.78      0.59      0.67      2083\n",
      "\n",
      "    accuracy                           0.87      9448\n",
      "   macro avg       0.83      0.77      0.79      9448\n",
      "weighted avg       0.87      0.87      0.87      9448\n",
      "\n"
     ]
    }
   ],
   "source": [
    "from sklearn.metrics import classification_report\n",
    "print(\"Classification report - \\n\", classification_report(y_test,y_pred_LR))"
   ]
  },
  {
   "cell_type": "markdown",
   "id": "1e80b340",
   "metadata": {},
   "source": [
    "### penalty= 'l2', solver='saga'"
   ]
  },
  {
   "cell_type": "code",
   "execution_count": 23,
   "id": "73776924",
   "metadata": {},
   "outputs": [
    {
     "data": {
      "text/plain": [
       "LogisticRegression(solver='liblinear')"
      ]
     },
     "execution_count": 23,
     "metadata": {},
     "output_type": "execute_result"
    }
   ],
   "source": [
    "LR = LogisticRegression(penalty= 'l2', solver='liblinear')\n",
    "LR.fit(X_train,y_train)"
   ]
  },
  {
   "cell_type": "code",
   "execution_count": 24,
   "id": "8f7b0dbb",
   "metadata": {},
   "outputs": [],
   "source": [
    "y_pred_LR = LR.predict(X_test)"
   ]
  },
  {
   "cell_type": "code",
   "execution_count": 25,
   "id": "bd51fdee",
   "metadata": {},
   "outputs": [
    {
     "data": {
      "text/plain": [
       "array([[7016,  349],\n",
       "       [ 890, 1193]], dtype=int64)"
      ]
     },
     "execution_count": 25,
     "metadata": {},
     "output_type": "execute_result"
    }
   ],
   "source": [
    "confusion_matrix(y_test,y_pred_LR)"
   ]
  },
  {
   "cell_type": "code",
   "execution_count": 26,
   "id": "9d4c12ce",
   "metadata": {},
   "outputs": [
    {
     "name": "stdout",
     "output_type": "stream",
     "text": [
      "Classification report - \n",
      "               precision    recall  f1-score   support\n",
      "\n",
      "           0       0.89      0.95      0.92      7365\n",
      "           1       0.77      0.57      0.66      2083\n",
      "\n",
      "    accuracy                           0.87      9448\n",
      "   macro avg       0.83      0.76      0.79      9448\n",
      "weighted avg       0.86      0.87      0.86      9448\n",
      "\n"
     ]
    }
   ],
   "source": [
    "print(\"Classification report - \\n\", classification_report(y_test,y_pred_LR))"
   ]
  },
  {
   "cell_type": "code",
   "execution_count": 27,
   "id": "149d4400",
   "metadata": {},
   "outputs": [
    {
     "data": {
      "text/plain": [
       "0.868861134631668"
      ]
     },
     "execution_count": 27,
     "metadata": {},
     "output_type": "execute_result"
    }
   ],
   "source": [
    "from sklearn.metrics import accuracy_score\n",
    "accuracy_score(y_test,y_pred_LR)"
   ]
  },
  {
   "cell_type": "code",
   "execution_count": 28,
   "id": "b35de98b",
   "metadata": {},
   "outputs": [
    {
     "data": {
      "text/plain": [
       "['./model/Logistic_model.pkl']"
      ]
     },
     "execution_count": 28,
     "metadata": {},
     "output_type": "execute_result"
    }
   ],
   "source": [
    "from joblib import Parallel, delayed \n",
    "import joblib \n",
    "  \n",
    "  \n",
    "# Save the model as a pickle in a file \n",
    "joblib.dump(LR, './model/Logistic_model.pkl') "
   ]
  },
  {
   "cell_type": "markdown",
   "id": "b35dc568",
   "metadata": {},
   "source": [
    "# Decision Tree"
   ]
  },
  {
   "cell_type": "code",
   "execution_count": 29,
   "id": "bce2513c",
   "metadata": {},
   "outputs": [],
   "source": [
    "from sklearn.tree import DecisionTreeClassifier#for checking testing results\n",
    "from sklearn.metrics import classification_report, confusion_matrix#for visualizing tree "
   ]
  },
  {
   "cell_type": "code",
   "execution_count": 30,
   "id": "5e98db05",
   "metadata": {},
   "outputs": [
    {
     "name": "stdout",
     "output_type": "stream",
     "text": [
      "Decision Tree Classifier Created\n"
     ]
    }
   ],
   "source": [
    "# Defining the decision tree algorithm\n",
    "dtree=DecisionTreeClassifier(max_depth=100)\n",
    "dtree.fit(X_train,y_train)\n",
    "print('Decision Tree Classifier Created')"
   ]
  },
  {
   "cell_type": "code",
   "execution_count": 31,
   "id": "eb8f522c",
   "metadata": {},
   "outputs": [
    {
     "name": "stdout",
     "output_type": "stream",
     "text": [
      "Classification report - \n",
      "               precision    recall  f1-score   support\n",
      "\n",
      "           0       0.93      0.92      0.93      7365\n",
      "           1       0.73      0.76      0.75      2083\n",
      "\n",
      "    accuracy                           0.89      9448\n",
      "   macro avg       0.83      0.84      0.84      9448\n",
      "weighted avg       0.89      0.89      0.89      9448\n",
      "\n"
     ]
    }
   ],
   "source": [
    "# Predicting the values of test data\n",
    "y_pred_DT = dtree.predict(X_test)\n",
    "print(\"Classification report - \\n\", classification_report(y_test,y_pred_DT))"
   ]
  },
  {
   "cell_type": "code",
   "execution_count": 32,
   "id": "25450fa7",
   "metadata": {},
   "outputs": [
    {
     "data": {
      "text/plain": [
       "array([[6781,  584],\n",
       "       [ 490, 1593]], dtype=int64)"
      ]
     },
     "execution_count": 32,
     "metadata": {},
     "output_type": "execute_result"
    }
   ],
   "source": [
    "from sklearn.metrics import confusion_matrix\n",
    "confusion_matrix(y_test,y_pred_DT)"
   ]
  },
  {
   "cell_type": "code",
   "execution_count": 33,
   "id": "5e212ee0",
   "metadata": {},
   "outputs": [
    {
     "data": {
      "text/plain": [
       "0.8863251481795089"
      ]
     },
     "execution_count": 33,
     "metadata": {},
     "output_type": "execute_result"
    }
   ],
   "source": [
    "from sklearn.metrics import accuracy_score\n",
    "accuracy_score(y_test,y_pred_DT)"
   ]
  },
  {
   "cell_type": "code",
   "execution_count": 34,
   "id": "1fe40bfb",
   "metadata": {},
   "outputs": [
    {
     "data": {
      "text/plain": [
       "['./model/decisiontree_model.pkl']"
      ]
     },
     "execution_count": 34,
     "metadata": {},
     "output_type": "execute_result"
    }
   ],
   "source": [
    "from joblib import Parallel, delayed \n",
    "import joblib \n",
    "  \n",
    "  \n",
    "# Save the model as a pickle in a file \n",
    "joblib.dump(dtree, './model/decisiontree_model.pkl') "
   ]
  },
  {
   "cell_type": "markdown",
   "id": "37883f72",
   "metadata": {},
   "source": [
    "# RANDOM FOREST"
   ]
  },
  {
   "cell_type": "code",
   "execution_count": 35,
   "id": "608ca6c0",
   "metadata": {},
   "outputs": [
    {
     "data": {
      "text/plain": [
       "RandomForestClassifier(n_estimators=50)"
      ]
     },
     "execution_count": 35,
     "metadata": {},
     "output_type": "execute_result"
    }
   ],
   "source": [
    "from sklearn.ensemble import RandomForestClassifier\n",
    "RF = RandomForestClassifier(n_estimators=50)\n",
    "\n",
    "#RF.fit(X_train_scaled,y_train)\n",
    "RF.fit(X_train,y_train)"
   ]
  },
  {
   "cell_type": "code",
   "execution_count": 36,
   "id": "4777d870",
   "metadata": {},
   "outputs": [],
   "source": [
    "#y_pred_RF = RF.predict(X_test_scaled)\n",
    "y_pred_RF = RF.predict(X_test)"
   ]
  },
  {
   "cell_type": "code",
   "execution_count": 37,
   "id": "78d73f37",
   "metadata": {},
   "outputs": [
    {
     "data": {
      "text/plain": [
       "array([[7288,   77],\n",
       "       [ 586, 1497]], dtype=int64)"
      ]
     },
     "execution_count": 37,
     "metadata": {},
     "output_type": "execute_result"
    }
   ],
   "source": [
    "from sklearn.metrics import confusion_matrix\n",
    "confusion_matrix(y_test,y_pred_RF)"
   ]
  },
  {
   "cell_type": "code",
   "execution_count": 38,
   "id": "7bee55f6",
   "metadata": {},
   "outputs": [
    {
     "data": {
      "text/plain": [
       "0.9298264182895851"
      ]
     },
     "execution_count": 38,
     "metadata": {},
     "output_type": "execute_result"
    }
   ],
   "source": [
    "from sklearn.metrics import accuracy_score\n",
    "accuracy_score(y_test,y_pred_RF)"
   ]
  },
  {
   "cell_type": "code",
   "execution_count": 39,
   "id": "3e3a33a1",
   "metadata": {},
   "outputs": [
    {
     "name": "stdout",
     "output_type": "stream",
     "text": [
      "Classification report - \n",
      "               precision    recall  f1-score   support\n",
      "\n",
      "           0       0.93      0.99      0.96      7365\n",
      "           1       0.95      0.72      0.82      2083\n",
      "\n",
      "    accuracy                           0.93      9448\n",
      "   macro avg       0.94      0.85      0.89      9448\n",
      "weighted avg       0.93      0.93      0.93      9448\n",
      "\n"
     ]
    }
   ],
   "source": [
    "print(\"Classification report - \\n\", classification_report(y_test,y_pred_RF))"
   ]
  },
  {
   "cell_type": "code",
   "execution_count": 40,
   "id": "deeff0d7",
   "metadata": {},
   "outputs": [
    {
     "data": {
      "text/plain": [
       "['./model/randomforest_model.pkl']"
      ]
     },
     "execution_count": 40,
     "metadata": {},
     "output_type": "execute_result"
    }
   ],
   "source": [
    "from joblib import Parallel, delayed \n",
    "import joblib \n",
    "  \n",
    "  \n",
    "# Save the model as a pickle in a file \n",
    "joblib.dump(RF, './model/randomforest_model.pkl') "
   ]
  },
  {
   "cell_type": "markdown",
   "id": "5c3f50d6",
   "metadata": {},
   "source": [
    "# Neural Network"
   ]
  },
  {
   "cell_type": "code",
   "execution_count": 41,
   "id": "3538cce3",
   "metadata": {},
   "outputs": [],
   "source": [
    "from keras.models import Sequential\n",
    "from keras.layers import Dense\n",
    "from keras.layers import Dropout\n",
    "import keras"
   ]
  },
  {
   "cell_type": "code",
   "execution_count": 42,
   "id": "8d21f3d9",
   "metadata": {},
   "outputs": [
    {
     "name": "stdout",
     "output_type": "stream",
     "text": [
      "Epoch 1/200\n"
     ]
    },
    {
     "name": "stderr",
     "output_type": "stream",
     "text": [
      "C:\\Users\\My Pc\\AppData\\Roaming\\Python\\Python38\\site-packages\\keras\\optimizer_v2\\adam.py:105: UserWarning: The `lr` argument is deprecated, use `learning_rate` instead.\n",
      "  super(Adam, self).__init__(name, **kwargs)\n"
     ]
    },
    {
     "name": "stdout",
     "output_type": "stream",
     "text": [
      "20/20 [==============================] - 1s 3ms/step - loss: 0.6900 - accuracy: 0.5529\n",
      "Epoch 2/200\n",
      "20/20 [==============================] - 0s 3ms/step - loss: 0.5893 - accuracy: 0.7254\n",
      "Epoch 3/200\n",
      "20/20 [==============================] - 0s 2ms/step - loss: 0.5481 - accuracy: 0.7640\n",
      "Epoch 4/200\n",
      "20/20 [==============================] - 0s 3ms/step - loss: 0.5242 - accuracy: 0.7772\n",
      "Epoch 5/200\n",
      "20/20 [==============================] - 0s 2ms/step - loss: 0.5005 - accuracy: 0.7880\n",
      "Epoch 6/200\n",
      "20/20 [==============================] - 0s 3ms/step - loss: 0.4761 - accuracy: 0.8009\n",
      "Epoch 7/200\n",
      "20/20 [==============================] - 0s 2ms/step - loss: 0.4551 - accuracy: 0.8150\n",
      "Epoch 8/200\n",
      "20/20 [==============================] - 0s 3ms/step - loss: 0.4356 - accuracy: 0.8197\n",
      "Epoch 9/200\n",
      "20/20 [==============================] - 0s 2ms/step - loss: 0.4160 - accuracy: 0.8325\n",
      "Epoch 10/200\n",
      "20/20 [==============================] - 0s 3ms/step - loss: 0.4065 - accuracy: 0.8358\n",
      "Epoch 11/200\n",
      "20/20 [==============================] - 0s 2ms/step - loss: 0.3976 - accuracy: 0.8409\n",
      "Epoch 12/200\n",
      "20/20 [==============================] - 0s 3ms/step - loss: 0.3901 - accuracy: 0.8467\n",
      "Epoch 13/200\n",
      "20/20 [==============================] - 0s 2ms/step - loss: 0.3825 - accuracy: 0.8495\n",
      "Epoch 14/200\n",
      "20/20 [==============================] - 0s 3ms/step - loss: 0.3738 - accuracy: 0.8518\n",
      "Epoch 15/200\n",
      "20/20 [==============================] - 0s 4ms/step - loss: 0.3750 - accuracy: 0.8531\n",
      "Epoch 16/200\n",
      "20/20 [==============================] - 0s 3ms/step - loss: 0.3682 - accuracy: 0.8565\n",
      "Epoch 17/200\n",
      "20/20 [==============================] - 0s 3ms/step - loss: 0.3643 - accuracy: 0.8615\n",
      "Epoch 18/200\n",
      "20/20 [==============================] - 0s 3ms/step - loss: 0.3638 - accuracy: 0.8613\n",
      "Epoch 19/200\n",
      "20/20 [==============================] - 0s 5ms/step - loss: 0.3573 - accuracy: 0.8631\n",
      "Epoch 20/200\n",
      "20/20 [==============================] - 0s 5ms/step - loss: 0.3568 - accuracy: 0.8637\n",
      "Epoch 21/200\n",
      "20/20 [==============================] - 0s 4ms/step - loss: 0.3539 - accuracy: 0.8666\n",
      "Epoch 22/200\n",
      "20/20 [==============================] - 0s 2ms/step - loss: 0.3464 - accuracy: 0.8730\n",
      "Epoch 23/200\n",
      "20/20 [==============================] - 0s 2ms/step - loss: 0.3424 - accuracy: 0.8716\n",
      "Epoch 24/200\n",
      "20/20 [==============================] - 0s 2ms/step - loss: 0.3395 - accuracy: 0.8727\n",
      "Epoch 25/200\n",
      "20/20 [==============================] - 0s 3ms/step - loss: 0.3349 - accuracy: 0.8758\n",
      "Epoch 26/200\n",
      "20/20 [==============================] - 0s 4ms/step - loss: 0.3323 - accuracy: 0.8766\n",
      "Epoch 27/200\n",
      "20/20 [==============================] - 0s 4ms/step - loss: 0.3290 - accuracy: 0.8797\n",
      "Epoch 28/200\n",
      "20/20 [==============================] - 0s 3ms/step - loss: 0.3240 - accuracy: 0.8798\n",
      "Epoch 29/200\n",
      "20/20 [==============================] - 0s 4ms/step - loss: 0.3210 - accuracy: 0.8836\n",
      "Epoch 30/200\n",
      "20/20 [==============================] - 0s 3ms/step - loss: 0.3180 - accuracy: 0.8847\n",
      "Epoch 31/200\n",
      "20/20 [==============================] - 0s 3ms/step - loss: 0.3121 - accuracy: 0.8881\n",
      "Epoch 32/200\n",
      "20/20 [==============================] - 0s 5ms/step - loss: 0.3134 - accuracy: 0.8868\n",
      "Epoch 33/200\n",
      "20/20 [==============================] - 0s 6ms/step - loss: 0.3108 - accuracy: 0.8882\n",
      "Epoch 34/200\n",
      "20/20 [==============================] - 0s 4ms/step - loss: 0.3100 - accuracy: 0.8890\n",
      "Epoch 35/200\n",
      "20/20 [==============================] - 0s 4ms/step - loss: 0.3080 - accuracy: 0.8889\n",
      "Epoch 36/200\n",
      "20/20 [==============================] - 0s 4ms/step - loss: 0.3080 - accuracy: 0.8904\n",
      "Epoch 37/200\n",
      "20/20 [==============================] - 0s 5ms/step - loss: 0.3057 - accuracy: 0.8928\n",
      "Epoch 38/200\n",
      "20/20 [==============================] - 0s 4ms/step - loss: 0.3007 - accuracy: 0.8945\n",
      "Epoch 39/200\n",
      "20/20 [==============================] - 0s 4ms/step - loss: 0.2982 - accuracy: 0.8963\n",
      "Epoch 40/200\n",
      "20/20 [==============================] - 0s 4ms/step - loss: 0.3017 - accuracy: 0.8946\n",
      "Epoch 41/200\n",
      "20/20 [==============================] - 0s 3ms/step - loss: 0.2957 - accuracy: 0.8961\n",
      "Epoch 42/200\n",
      "20/20 [==============================] - 0s 3ms/step - loss: 0.2987 - accuracy: 0.8962\n",
      "Epoch 43/200\n",
      "20/20 [==============================] - 0s 2ms/step - loss: 0.2960 - accuracy: 0.8962\n",
      "Epoch 44/200\n",
      "20/20 [==============================] - 0s 2ms/step - loss: 0.2917 - accuracy: 0.8945\n",
      "Epoch 45/200\n",
      "20/20 [==============================] - 0s 4ms/step - loss: 0.2920 - accuracy: 0.8981\n",
      "Epoch 46/200\n",
      "20/20 [==============================] - 0s 4ms/step - loss: 0.2909 - accuracy: 0.8997\n",
      "Epoch 47/200\n",
      "20/20 [==============================] - 0s 4ms/step - loss: 0.2899 - accuracy: 0.8991\n",
      "Epoch 48/200\n",
      "20/20 [==============================] - 0s 5ms/step - loss: 0.2907 - accuracy: 0.8994\n",
      "Epoch 49/200\n",
      "20/20 [==============================] - 0s 4ms/step - loss: 0.2903 - accuracy: 0.9004\n",
      "Epoch 50/200\n",
      "20/20 [==============================] - 0s 6ms/step - loss: 0.2855 - accuracy: 0.9015\n",
      "Epoch 51/200\n",
      "20/20 [==============================] - 0s 5ms/step - loss: 0.2882 - accuracy: 0.8989\n",
      "Epoch 52/200\n",
      "20/20 [==============================] - 0s 5ms/step - loss: 0.2857 - accuracy: 0.9020\n",
      "Epoch 53/200\n",
      "20/20 [==============================] - 0s 6ms/step - loss: 0.2859 - accuracy: 0.9025\n",
      "Epoch 54/200\n",
      "20/20 [==============================] - 0s 4ms/step - loss: 0.2834 - accuracy: 0.9038\n",
      "Epoch 55/200\n",
      "20/20 [==============================] - 0s 5ms/step - loss: 0.2810 - accuracy: 0.9036\n",
      "Epoch 56/200\n",
      "20/20 [==============================] - 0s 6ms/step - loss: 0.2806 - accuracy: 0.9020\n",
      "Epoch 57/200\n",
      "20/20 [==============================] - 0s 4ms/step - loss: 0.2837 - accuracy: 0.9026\n",
      "Epoch 58/200\n",
      "20/20 [==============================] - 0s 4ms/step - loss: 0.2807 - accuracy: 0.9047\n",
      "Epoch 59/200\n",
      "20/20 [==============================] - 0s 4ms/step - loss: 0.2767 - accuracy: 0.9043\n",
      "Epoch 60/200\n",
      "20/20 [==============================] - 0s 6ms/step - loss: 0.2797 - accuracy: 0.9043\n",
      "Epoch 61/200\n",
      "20/20 [==============================] - 0s 5ms/step - loss: 0.2792 - accuracy: 0.9032\n",
      "Epoch 62/200\n",
      "20/20 [==============================] - 0s 4ms/step - loss: 0.2757 - accuracy: 0.9055\n",
      "Epoch 63/200\n",
      "20/20 [==============================] - 0s 5ms/step - loss: 0.2775 - accuracy: 0.9044\n",
      "Epoch 64/200\n",
      "20/20 [==============================] - 0s 4ms/step - loss: 0.2762 - accuracy: 0.9059\n",
      "Epoch 65/200\n",
      "20/20 [==============================] - 0s 5ms/step - loss: 0.2728 - accuracy: 0.9061\n",
      "Epoch 66/200\n",
      "20/20 [==============================] - 0s 5ms/step - loss: 0.2744 - accuracy: 0.9076\n",
      "Epoch 67/200\n",
      "20/20 [==============================] - 0s 4ms/step - loss: 0.2756 - accuracy: 0.9065\n",
      "Epoch 68/200\n",
      "20/20 [==============================] - 0s 3ms/step - loss: 0.2719 - accuracy: 0.9082\n",
      "Epoch 69/200\n",
      "20/20 [==============================] - 0s 4ms/step - loss: 0.2711 - accuracy: 0.9074\n",
      "Epoch 70/200\n",
      "20/20 [==============================] - 0s 5ms/step - loss: 0.2694 - accuracy: 0.9092\n",
      "Epoch 71/200\n",
      "20/20 [==============================] - 0s 3ms/step - loss: 0.2731 - accuracy: 0.9077\n",
      "Epoch 72/200\n",
      "20/20 [==============================] - 0s 3ms/step - loss: 0.2722 - accuracy: 0.9086\n",
      "Epoch 73/200\n",
      "20/20 [==============================] - 0s 3ms/step - loss: 0.2683 - accuracy: 0.9103\n",
      "Epoch 74/200\n",
      "20/20 [==============================] - 0s 3ms/step - loss: 0.2670 - accuracy: 0.9089\n",
      "Epoch 75/200\n",
      "20/20 [==============================] - 0s 3ms/step - loss: 0.2685 - accuracy: 0.9103\n",
      "Epoch 76/200\n",
      "20/20 [==============================] - 0s 4ms/step - loss: 0.2648 - accuracy: 0.9104\n",
      "Epoch 77/200\n",
      "20/20 [==============================] - 0s 4ms/step - loss: 0.2683 - accuracy: 0.9093\n",
      "Epoch 78/200\n",
      "20/20 [==============================] - 0s 4ms/step - loss: 0.2661 - accuracy: 0.9099\n",
      "Epoch 79/200\n",
      "20/20 [==============================] - 0s 3ms/step - loss: 0.2676 - accuracy: 0.9091\n",
      "Epoch 80/200\n",
      "20/20 [==============================] - 0s 4ms/step - loss: 0.2666 - accuracy: 0.9101\n",
      "Epoch 81/200\n",
      "20/20 [==============================] - 0s 3ms/step - loss: 0.2660 - accuracy: 0.9101\n",
      "Epoch 82/200\n",
      "20/20 [==============================] - 0s 2ms/step - loss: 0.2635 - accuracy: 0.9119\n",
      "Epoch 83/200\n"
     ]
    },
    {
     "name": "stdout",
     "output_type": "stream",
     "text": [
      "20/20 [==============================] - 0s 2ms/step - loss: 0.2655 - accuracy: 0.9104\n",
      "Epoch 84/200\n",
      "20/20 [==============================] - 0s 3ms/step - loss: 0.2650 - accuracy: 0.9126\n",
      "Epoch 85/200\n",
      "20/20 [==============================] - 0s 4ms/step - loss: 0.2614 - accuracy: 0.9115\n",
      "Epoch 86/200\n",
      "20/20 [==============================] - 0s 3ms/step - loss: 0.2633 - accuracy: 0.9115\n",
      "Epoch 87/200\n",
      "20/20 [==============================] - 0s 3ms/step - loss: 0.2616 - accuracy: 0.9114\n",
      "Epoch 88/200\n",
      "20/20 [==============================] - 0s 3ms/step - loss: 0.2619 - accuracy: 0.9136\n",
      "Epoch 89/200\n",
      "20/20 [==============================] - 0s 3ms/step - loss: 0.2610 - accuracy: 0.9117\n",
      "Epoch 90/200\n",
      "20/20 [==============================] - 0s 3ms/step - loss: 0.2634 - accuracy: 0.9134\n",
      "Epoch 91/200\n",
      "20/20 [==============================] - 0s 2ms/step - loss: 0.2610 - accuracy: 0.9113\n",
      "Epoch 92/200\n",
      "20/20 [==============================] - 0s 3ms/step - loss: 0.2572 - accuracy: 0.9130\n",
      "Epoch 93/200\n",
      "20/20 [==============================] - 0s 4ms/step - loss: 0.2588 - accuracy: 0.9128\n",
      "Epoch 94/200\n",
      "20/20 [==============================] - 0s 3ms/step - loss: 0.2623 - accuracy: 0.9125\n",
      "Epoch 95/200\n",
      "20/20 [==============================] - 0s 5ms/step - loss: 0.2572 - accuracy: 0.9149\n",
      "Epoch 96/200\n",
      "20/20 [==============================] - 0s 3ms/step - loss: 0.2590 - accuracy: 0.9148\n",
      "Epoch 97/200\n",
      "20/20 [==============================] - 0s 5ms/step - loss: 0.2580 - accuracy: 0.9145\n",
      "Epoch 98/200\n",
      "20/20 [==============================] - 0s 5ms/step - loss: 0.2575 - accuracy: 0.9148\n",
      "Epoch 99/200\n",
      "20/20 [==============================] - 0s 8ms/step - loss: 0.2554 - accuracy: 0.9133\n",
      "Epoch 100/200\n",
      "20/20 [==============================] - 0s 5ms/step - loss: 0.2587 - accuracy: 0.9113\n",
      "Epoch 101/200\n",
      "20/20 [==============================] - 0s 5ms/step - loss: 0.2576 - accuracy: 0.9133\n",
      "Epoch 102/200\n",
      "20/20 [==============================] - 0s 6ms/step - loss: 0.2542 - accuracy: 0.9160\n",
      "Epoch 103/200\n",
      "20/20 [==============================] - 0s 5ms/step - loss: 0.2519 - accuracy: 0.9158\n",
      "Epoch 104/200\n",
      "20/20 [==============================] - 0s 4ms/step - loss: 0.2533 - accuracy: 0.9154\n",
      "Epoch 105/200\n",
      "20/20 [==============================] - 0s 4ms/step - loss: 0.2533 - accuracy: 0.9148\n",
      "Epoch 106/200\n",
      "20/20 [==============================] - 0s 4ms/step - loss: 0.2541 - accuracy: 0.9143\n",
      "Epoch 107/200\n",
      "20/20 [==============================] - 0s 3ms/step - loss: 0.2546 - accuracy: 0.9143\n",
      "Epoch 108/200\n",
      "20/20 [==============================] - 0s 4ms/step - loss: 0.2520 - accuracy: 0.9152\n",
      "Epoch 109/200\n",
      "20/20 [==============================] - 0s 7ms/step - loss: 0.2517 - accuracy: 0.9158\n",
      "Epoch 110/200\n",
      "20/20 [==============================] - 0s 3ms/step - loss: 0.2536 - accuracy: 0.9164\n",
      "Epoch 111/200\n",
      "20/20 [==============================] - 0s 4ms/step - loss: 0.2505 - accuracy: 0.9159\n",
      "Epoch 112/200\n",
      "20/20 [==============================] - 0s 3ms/step - loss: 0.2511 - accuracy: 0.9170\n",
      "Epoch 113/200\n",
      "20/20 [==============================] - 0s 3ms/step - loss: 0.2529 - accuracy: 0.9158\n",
      "Epoch 114/200\n",
      "20/20 [==============================] - 0s 5ms/step - loss: 0.2512 - accuracy: 0.9171\n",
      "Epoch 115/200\n",
      "20/20 [==============================] - 0s 3ms/step - loss: 0.2498 - accuracy: 0.9159\n",
      "Epoch 116/200\n",
      "20/20 [==============================] - 0s 3ms/step - loss: 0.2500 - accuracy: 0.9152\n",
      "Epoch 117/200\n",
      "20/20 [==============================] - 0s 3ms/step - loss: 0.2500 - accuracy: 0.9159\n",
      "Epoch 118/200\n",
      "20/20 [==============================] - 0s 2ms/step - loss: 0.2499 - accuracy: 0.9171\n",
      "Epoch 119/200\n",
      "20/20 [==============================] - 0s 3ms/step - loss: 0.2496 - accuracy: 0.9173\n",
      "Epoch 120/200\n",
      "20/20 [==============================] - 0s 9ms/step - loss: 0.2485 - accuracy: 0.9165\n",
      "Epoch 121/200\n",
      "20/20 [==============================] - 0s 5ms/step - loss: 0.2461 - accuracy: 0.9185\n",
      "Epoch 122/200\n",
      "20/20 [==============================] - 0s 4ms/step - loss: 0.2496 - accuracy: 0.9182\n",
      "Epoch 123/200\n",
      "20/20 [==============================] - 0s 4ms/step - loss: 0.2476 - accuracy: 0.9159\n",
      "Epoch 124/200\n",
      "20/20 [==============================] - 0s 3ms/step - loss: 0.2454 - accuracy: 0.9183\n",
      "Epoch 125/200\n",
      "20/20 [==============================] - 0s 2ms/step - loss: 0.2460 - accuracy: 0.9167\n",
      "Epoch 126/200\n",
      "20/20 [==============================] - 0s 3ms/step - loss: 0.2494 - accuracy: 0.9157\n",
      "Epoch 127/200\n",
      "20/20 [==============================] - 0s 2ms/step - loss: 0.2469 - accuracy: 0.9161\n",
      "Epoch 128/200\n",
      "20/20 [==============================] - 0s 7ms/step - loss: 0.2471 - accuracy: 0.9163\n",
      "Epoch 129/200\n",
      "20/20 [==============================] - 0s 6ms/step - loss: 0.2477 - accuracy: 0.9167\n",
      "Epoch 130/200\n",
      "20/20 [==============================] - 0s 5ms/step - loss: 0.2453 - accuracy: 0.9183\n",
      "Epoch 131/200\n",
      "20/20 [==============================] - 0s 6ms/step - loss: 0.2484 - accuracy: 0.9173\n",
      "Epoch 132/200\n",
      "20/20 [==============================] - 0s 5ms/step - loss: 0.2440 - accuracy: 0.9173\n",
      "Epoch 133/200\n",
      "20/20 [==============================] - 0s 4ms/step - loss: 0.2460 - accuracy: 0.9183\n",
      "Epoch 134/200\n",
      "20/20 [==============================] - 0s 5ms/step - loss: 0.2436 - accuracy: 0.9193\n",
      "Epoch 135/200\n",
      "20/20 [==============================] - 0s 21ms/step - loss: 0.2443 - accuracy: 0.9170\n",
      "Epoch 136/200\n",
      "20/20 [==============================] - 0s 10ms/step - loss: 0.2424 - accuracy: 0.9186\n",
      "Epoch 137/200\n",
      "20/20 [==============================] - 0s 12ms/step - loss: 0.2459 - accuracy: 0.9183\n",
      "Epoch 138/200\n",
      "20/20 [==============================] - 0s 10ms/step - loss: 0.2421 - accuracy: 0.9198\n",
      "Epoch 139/200\n",
      "20/20 [==============================] - 0s 13ms/step - loss: 0.2428 - accuracy: 0.9190\n",
      "Epoch 140/200\n",
      "20/20 [==============================] - 0s 9ms/step - loss: 0.2424 - accuracy: 0.9190\n",
      "Epoch 141/200\n",
      "20/20 [==============================] - 0s 5ms/step - loss: 0.2418 - accuracy: 0.9192\n",
      "Epoch 142/200\n",
      "20/20 [==============================] - 0s 5ms/step - loss: 0.2416 - accuracy: 0.9187\n",
      "Epoch 143/200\n",
      "20/20 [==============================] - 0s 3ms/step - loss: 0.2414 - accuracy: 0.9202\n",
      "Epoch 144/200\n",
      "20/20 [==============================] - 0s 4ms/step - loss: 0.2426 - accuracy: 0.9182\n",
      "Epoch 145/200\n",
      "20/20 [==============================] - 0s 4ms/step - loss: 0.2411 - accuracy: 0.9192\n",
      "Epoch 146/200\n",
      "20/20 [==============================] - 0s 5ms/step - loss: 0.2409 - accuracy: 0.9196\n",
      "Epoch 147/200\n",
      "20/20 [==============================] - 0s 4ms/step - loss: 0.2400 - accuracy: 0.9204\n",
      "Epoch 148/200\n",
      "20/20 [==============================] - 0s 5ms/step - loss: 0.2404 - accuracy: 0.9185\n",
      "Epoch 149/200\n",
      "20/20 [==============================] - 0s 8ms/step - loss: 0.2410 - accuracy: 0.9198\n",
      "Epoch 150/200\n",
      "20/20 [==============================] - 0s 6ms/step - loss: 0.2378 - accuracy: 0.9211\n",
      "Epoch 151/200\n",
      "20/20 [==============================] - 0s 3ms/step - loss: 0.2410 - accuracy: 0.9189\n",
      "Epoch 152/200\n",
      "20/20 [==============================] - 0s 4ms/step - loss: 0.2404 - accuracy: 0.9190\n",
      "Epoch 153/200\n",
      "20/20 [==============================] - 0s 4ms/step - loss: 0.2370 - accuracy: 0.9200\n",
      "Epoch 154/200\n",
      "20/20 [==============================] - 0s 4ms/step - loss: 0.2360 - accuracy: 0.9204\n",
      "Epoch 155/200\n",
      "20/20 [==============================] - 0s 4ms/step - loss: 0.2375 - accuracy: 0.9190\n",
      "Epoch 156/200\n",
      "20/20 [==============================] - 0s 5ms/step - loss: 0.2383 - accuracy: 0.9205\n",
      "Epoch 157/200\n",
      "20/20 [==============================] - 0s 3ms/step - loss: 0.2375 - accuracy: 0.9197\n",
      "Epoch 158/200\n",
      "20/20 [==============================] - 0s 3ms/step - loss: 0.2381 - accuracy: 0.9190\n",
      "Epoch 159/200\n",
      "20/20 [==============================] - 0s 3ms/step - loss: 0.2397 - accuracy: 0.9186\n",
      "Epoch 160/200\n",
      "20/20 [==============================] - 0s 4ms/step - loss: 0.2381 - accuracy: 0.9189\n",
      "Epoch 161/200\n",
      "20/20 [==============================] - 0s 4ms/step - loss: 0.2381 - accuracy: 0.9194\n",
      "Epoch 162/200\n",
      "20/20 [==============================] - 0s 4ms/step - loss: 0.2351 - accuracy: 0.9204\n",
      "Epoch 163/200\n",
      "20/20 [==============================] - 0s 3ms/step - loss: 0.2342 - accuracy: 0.9217\n",
      "Epoch 164/200\n"
     ]
    },
    {
     "name": "stdout",
     "output_type": "stream",
     "text": [
      "20/20 [==============================] - 0s 3ms/step - loss: 0.2380 - accuracy: 0.9192\n",
      "Epoch 165/200\n",
      "20/20 [==============================] - 0s 4ms/step - loss: 0.2366 - accuracy: 0.9204\n",
      "Epoch 166/200\n",
      "20/20 [==============================] - 0s 4ms/step - loss: 0.2342 - accuracy: 0.9210\n",
      "Epoch 167/200\n",
      "20/20 [==============================] - 0s 4ms/step - loss: 0.2334 - accuracy: 0.9213\n",
      "Epoch 168/200\n",
      "20/20 [==============================] - 0s 3ms/step - loss: 0.2336 - accuracy: 0.9209\n",
      "Epoch 169/200\n",
      "20/20 [==============================] - 0s 3ms/step - loss: 0.2338 - accuracy: 0.9215\n",
      "Epoch 170/200\n",
      "20/20 [==============================] - 0s 3ms/step - loss: 0.2341 - accuracy: 0.9211\n",
      "Epoch 171/200\n",
      "20/20 [==============================] - 0s 3ms/step - loss: 0.2337 - accuracy: 0.9212\n",
      "Epoch 172/200\n",
      "20/20 [==============================] - 0s 3ms/step - loss: 0.2359 - accuracy: 0.9203\n",
      "Epoch 173/200\n",
      "20/20 [==============================] - 0s 3ms/step - loss: 0.2334 - accuracy: 0.9220\n",
      "Epoch 174/200\n",
      "20/20 [==============================] - 0s 3ms/step - loss: 0.2320 - accuracy: 0.9213\n",
      "Epoch 175/200\n",
      "20/20 [==============================] - 0s 3ms/step - loss: 0.2319 - accuracy: 0.9222\n",
      "Epoch 176/200\n",
      "20/20 [==============================] - 0s 3ms/step - loss: 0.2348 - accuracy: 0.9214\n",
      "Epoch 177/200\n",
      "20/20 [==============================] - 0s 3ms/step - loss: 0.2343 - accuracy: 0.9212\n",
      "Epoch 178/200\n",
      "20/20 [==============================] - 0s 3ms/step - loss: 0.2321 - accuracy: 0.9213\n",
      "Epoch 179/200\n",
      "20/20 [==============================] - 0s 3ms/step - loss: 0.2319 - accuracy: 0.9220\n",
      "Epoch 180/200\n",
      "20/20 [==============================] - 0s 4ms/step - loss: 0.2307 - accuracy: 0.9216\n",
      "Epoch 181/200\n",
      "20/20 [==============================] - 0s 5ms/step - loss: 0.2330 - accuracy: 0.9213\n",
      "Epoch 182/200\n",
      "20/20 [==============================] - 0s 3ms/step - loss: 0.2323 - accuracy: 0.9215\n",
      "Epoch 183/200\n",
      "20/20 [==============================] - 0s 4ms/step - loss: 0.2320 - accuracy: 0.9215\n",
      "Epoch 184/200\n",
      "20/20 [==============================] - 0s 4ms/step - loss: 0.2311 - accuracy: 0.9213\n",
      "Epoch 185/200\n",
      "20/20 [==============================] - 0s 4ms/step - loss: 0.2308 - accuracy: 0.9211\n",
      "Epoch 186/200\n",
      "20/20 [==============================] - 0s 4ms/step - loss: 0.2306 - accuracy: 0.9222\n",
      "Epoch 187/200\n",
      "20/20 [==============================] - 0s 4ms/step - loss: 0.2326 - accuracy: 0.9227\n",
      "Epoch 188/200\n",
      "20/20 [==============================] - 0s 3ms/step - loss: 0.2306 - accuracy: 0.9219\n",
      "Epoch 189/200\n",
      "20/20 [==============================] - 0s 3ms/step - loss: 0.2309 - accuracy: 0.9219\n",
      "Epoch 190/200\n",
      "20/20 [==============================] - 0s 4ms/step - loss: 0.2313 - accuracy: 0.9217\n",
      "Epoch 191/200\n",
      "20/20 [==============================] - 0s 3ms/step - loss: 0.2282 - accuracy: 0.9231\n",
      "Epoch 192/200\n",
      "20/20 [==============================] - 0s 3ms/step - loss: 0.2300 - accuracy: 0.9218\n",
      "Epoch 193/200\n",
      "20/20 [==============================] - 0s 3ms/step - loss: 0.2293 - accuracy: 0.9229\n",
      "Epoch 194/200\n",
      "20/20 [==============================] - 0s 3ms/step - loss: 0.2285 - accuracy: 0.9235\n",
      "Epoch 195/200\n",
      "20/20 [==============================] - 0s 3ms/step - loss: 0.2263 - accuracy: 0.9235\n",
      "Epoch 196/200\n",
      "20/20 [==============================] - 0s 4ms/step - loss: 0.2299 - accuracy: 0.9226\n",
      "Epoch 197/200\n",
      "20/20 [==============================] - 0s 8ms/step - loss: 0.2269 - accuracy: 0.9238\n",
      "Epoch 198/200\n",
      "20/20 [==============================] - 0s 4ms/step - loss: 0.2270 - accuracy: 0.9224\n",
      "Epoch 199/200\n",
      "20/20 [==============================] - 0s 3ms/step - loss: 0.2290 - accuracy: 0.9229\n",
      "Epoch 200/200\n",
      "20/20 [==============================] - 0s 3ms/step - loss: 0.2301 - accuracy: 0.9211\n",
      "296/296 [==============================] - 0s 914us/step - loss: 0.2336 - accuracy: 0.9192\n",
      "Accuracy: 91.92\n"
     ]
    }
   ],
   "source": [
    "# define the keras model\n",
    "import tensorflow as tf\n",
    "\n",
    "optimizer = tf.keras.optimizers.Adam(lr=0.001)\n",
    "model = Sequential()\n",
    "model.add(Dense(32, input_dim=43, activation='relu'))\n",
    "model.add(Dropout(0.2))\n",
    "model.add(Dense(8, activation='relu'))\n",
    "model.add(Dropout(0.2))\n",
    "model.add(Dense(1, activation='sigmoid'))\n",
    "model.compile(loss='binary_crossentropy', optimizer=optimizer, metrics=['accuracy'])\n",
    "model.fit(X_train, y_train, epochs=200, batch_size=1000)\n",
    "_, accuracy = model.evaluate(X_test, y_test)\n",
    "print('Accuracy: %.2f' % (accuracy*100))"
   ]
  },
  {
   "cell_type": "code",
   "execution_count": 43,
   "id": "4848e8bd",
   "metadata": {},
   "outputs": [],
   "source": [
    "loss, acc = model.evaluate(X_test, y_test, verbose=0)"
   ]
  },
  {
   "cell_type": "code",
   "execution_count": 44,
   "id": "d69b783b",
   "metadata": {},
   "outputs": [
    {
     "data": {
      "text/plain": [
       "0.2336268126964569"
      ]
     },
     "execution_count": 44,
     "metadata": {},
     "output_type": "execute_result"
    }
   ],
   "source": [
    "loss"
   ]
  },
  {
   "cell_type": "code",
   "execution_count": 45,
   "id": "33bb34e5",
   "metadata": {},
   "outputs": [
    {
     "data": {
      "text/plain": [
       "0.9192421436309814"
      ]
     },
     "execution_count": 45,
     "metadata": {},
     "output_type": "execute_result"
    }
   ],
   "source": [
    "acc"
   ]
  },
  {
   "cell_type": "code",
   "execution_count": 46,
   "id": "f1297e72",
   "metadata": {},
   "outputs": [],
   "source": [
    "predict_x=model.predict(X_test) \n",
    "yhat_classes=np.argmax(predict_x,axis=1)"
   ]
  },
  {
   "cell_type": "code",
   "execution_count": 47,
   "id": "f62fc36b",
   "metadata": {},
   "outputs": [
    {
     "name": "stdout",
     "output_type": "stream",
     "text": [
      "Accuracy: 0.779530\n",
      "Precision: 0.779530\n",
      "Recall: 1.000000\n",
      "F1 score: 0.876108\n",
      "[[7365    0]\n",
      " [2083    0]]\n"
     ]
    }
   ],
   "source": [
    "from sklearn.metrics import accuracy_score, f1_score, precision_score, recall_score, classification_report, confusion_matrix\n",
    "# accuracy: (tp + tn) / (p + n)\n",
    "accuracy = accuracy_score(y_test, yhat_classes)\n",
    "print(\"Accuracy: %f\" % accuracy)\n",
    "# precision tp / (tp + fp)\n",
    "precision = precision_score(y_test, yhat_classes, average='weighted', labels=np.unique(yhat_classes))\n",
    "print(\"Precision: %f\" % precision)\n",
    "# recall: tp / (tp + fn)\n",
    "recall = recall_score(y_test, yhat_classes, average='weighted', labels=np.unique(yhat_classes))\n",
    "print(\"Recall: %f\" % recall)\n",
    "# f1: 2 tp / (2 tp + fp + fn)\n",
    "f1 = f1_score(y_test, yhat_classes, average='weighted', labels=np.unique(yhat_classes))\n",
    "print(\"F1 score: %f\" % f1)\n",
    "\n",
    "# confusion matrix\n",
    "matrix = confusion_matrix(y_test, yhat_classes)\n",
    "print(matrix)"
   ]
  },
  {
   "cell_type": "code",
   "execution_count": 48,
   "id": "47cba348",
   "metadata": {},
   "outputs": [
    {
     "name": "stdout",
     "output_type": "stream",
     "text": [
      "INFO:tensorflow:Assets written to: ram://773a7816-7b95-423b-b16e-3d89159325c2/assets\n"
     ]
    },
    {
     "data": {
      "text/plain": [
       "['./model/nn_model.pkl']"
      ]
     },
     "execution_count": 48,
     "metadata": {},
     "output_type": "execute_result"
    }
   ],
   "source": [
    "from joblib import Parallel, delayed \n",
    "import joblib \n",
    "  \n",
    "  \n",
    "# Save the model as a pickle in a file \n",
    "joblib.dump(model, './model/nn_model.pkl') "
   ]
  }
 ],
 "metadata": {
  "kernelspec": {
   "display_name": "Python 3",
   "language": "python",
   "name": "python3"
  },
  "language_info": {
   "codemirror_mode": {
    "name": "ipython",
    "version": 3
   },
   "file_extension": ".py",
   "mimetype": "text/x-python",
   "name": "python",
   "nbconvert_exporter": "python",
   "pygments_lexer": "ipython3",
   "version": "3.8.8"
  }
 },
 "nbformat": 4,
 "nbformat_minor": 5
}
