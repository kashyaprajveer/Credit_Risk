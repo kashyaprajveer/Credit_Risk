{
 "cells": [
  {
   "cell_type": "code",
   "execution_count": 3,
   "id": "08bc93ff",
   "metadata": {},
   "outputs": [],
   "source": [
    "import pandas as pd\n",
    "import numpy as np\n",
    "from sklearn.model_selection import train_test_split"
   ]
  },
  {
   "cell_type": "code",
   "execution_count": 4,
   "id": "772593f6",
   "metadata": {},
   "outputs": [
    {
     "data": {
      "text/html": [
       "<div>\n",
       "<style scoped>\n",
       "    .dataframe tbody tr th:only-of-type {\n",
       "        vertical-align: middle;\n",
       "    }\n",
       "\n",
       "    .dataframe tbody tr th {\n",
       "        vertical-align: top;\n",
       "    }\n",
       "\n",
       "    .dataframe thead th {\n",
       "        text-align: right;\n",
       "    }\n",
       "</style>\n",
       "<table border=\"1\" class=\"dataframe\">\n",
       "  <thead>\n",
       "    <tr style=\"text-align: right;\">\n",
       "      <th></th>\n",
       "      <th>person_age</th>\n",
       "      <th>person_income</th>\n",
       "      <th>person_emp_length</th>\n",
       "      <th>loan_amnt</th>\n",
       "      <th>loan_int_rate</th>\n",
       "      <th>loan_status</th>\n",
       "      <th>loan_percent_income</th>\n",
       "      <th>cb_person_cred_hist_length</th>\n",
       "      <th>loan_to_income_ratio</th>\n",
       "      <th>loan_to_emp_length_ratio</th>\n",
       "      <th>...</th>\n",
       "      <th>medium</th>\n",
       "      <th>large</th>\n",
       "      <th>very large</th>\n",
       "      <th>A</th>\n",
       "      <th>B</th>\n",
       "      <th>C</th>\n",
       "      <th>D</th>\n",
       "      <th>E</th>\n",
       "      <th>F</th>\n",
       "      <th>G</th>\n",
       "    </tr>\n",
       "  </thead>\n",
       "  <tbody>\n",
       "    <tr>\n",
       "      <th>0</th>\n",
       "      <td>21</td>\n",
       "      <td>9600</td>\n",
       "      <td>5.0</td>\n",
       "      <td>1000</td>\n",
       "      <td>11.14</td>\n",
       "      <td>0</td>\n",
       "      <td>0.10</td>\n",
       "      <td>2</td>\n",
       "      <td>0.104167</td>\n",
       "      <td>0.005000</td>\n",
       "      <td>...</td>\n",
       "      <td>0</td>\n",
       "      <td>0</td>\n",
       "      <td>0</td>\n",
       "      <td>0</td>\n",
       "      <td>1</td>\n",
       "      <td>0</td>\n",
       "      <td>0</td>\n",
       "      <td>0</td>\n",
       "      <td>0</td>\n",
       "      <td>0</td>\n",
       "    </tr>\n",
       "    <tr>\n",
       "      <th>1</th>\n",
       "      <td>25</td>\n",
       "      <td>9600</td>\n",
       "      <td>1.0</td>\n",
       "      <td>5500</td>\n",
       "      <td>12.87</td>\n",
       "      <td>1</td>\n",
       "      <td>0.57</td>\n",
       "      <td>3</td>\n",
       "      <td>0.572917</td>\n",
       "      <td>0.000182</td>\n",
       "      <td>...</td>\n",
       "      <td>1</td>\n",
       "      <td>0</td>\n",
       "      <td>0</td>\n",
       "      <td>0</td>\n",
       "      <td>0</td>\n",
       "      <td>1</td>\n",
       "      <td>0</td>\n",
       "      <td>0</td>\n",
       "      <td>0</td>\n",
       "      <td>0</td>\n",
       "    </tr>\n",
       "  </tbody>\n",
       "</table>\n",
       "<p>2 rows × 44 columns</p>\n",
       "</div>"
      ],
      "text/plain": [
       "   person_age  person_income  person_emp_length  loan_amnt  loan_int_rate  \\\n",
       "0          21           9600                5.0       1000          11.14   \n",
       "1          25           9600                1.0       5500          12.87   \n",
       "\n",
       "   loan_status  loan_percent_income  cb_person_cred_hist_length  \\\n",
       "0            0                 0.10                           2   \n",
       "1            1                 0.57                           3   \n",
       "\n",
       "   loan_to_income_ratio  loan_to_emp_length_ratio  ...  medium  large  \\\n",
       "0              0.104167                  0.005000  ...       0      0   \n",
       "1              0.572917                  0.000182  ...       1      0   \n",
       "\n",
       "   very large  A  B  C  D  E  F  G  \n",
       "0           0  0  1  0  0  0  0  0  \n",
       "1           0  0  0  1  0  0  0  0  \n",
       "\n",
       "[2 rows x 44 columns]"
      ]
     },
     "execution_count": 4,
     "metadata": {},
     "output_type": "execute_result"
    }
   ],
   "source": [
    "df = pd.read_csv(\"./data/pre_processed_credit.csv\")\n",
    "df.head(2)"
   ]
  },
  {
   "cell_type": "code",
   "execution_count": 5,
   "id": "63394596",
   "metadata": {},
   "outputs": [
    {
     "data": {
      "text/plain": [
       "Index(['person_age', 'person_income', 'person_emp_length', 'loan_amnt',\n",
       "       'loan_int_rate', 'loan_status', 'loan_percent_income',\n",
       "       'cb_person_cred_hist_length', 'loan_to_income_ratio',\n",
       "       'loan_to_emp_length_ratio', 'int_rate_to_loan_amt_ratio', 'MORTGAGE',\n",
       "       'OTHER', 'OWN', 'RENT', 'DEBTCONSOLIDATION', 'EDUCATION',\n",
       "       'HOMEIMPROVEMENT', 'MEDICAL', 'PERSONAL', 'VENTURE', 'N', 'Y', '20-25',\n",
       "       '26-35', '36-45', '46-55', '56-65', 'low', 'low-middle', 'middle',\n",
       "       'high-middle', 'high', 'small', 'medium', 'large', 'very large', 'A',\n",
       "       'B', 'C', 'D', 'E', 'F', 'G'],\n",
       "      dtype='object')"
      ]
     },
     "execution_count": 5,
     "metadata": {},
     "output_type": "execute_result"
    }
   ],
   "source": [
    "df.columns"
   ]
  },
  {
   "cell_type": "code",
   "execution_count": 6,
   "id": "166cb9b8",
   "metadata": {},
   "outputs": [],
   "source": [
    "y = df[\"loan_status\"]"
   ]
  },
  {
   "cell_type": "code",
   "execution_count": 7,
   "id": "53c4535c",
   "metadata": {},
   "outputs": [],
   "source": [
    "df.drop(['loan_status'],  axis =1 ,inplace=True)"
   ]
  },
  {
   "cell_type": "code",
   "execution_count": 8,
   "id": "98c36c45",
   "metadata": {},
   "outputs": [
    {
     "data": {
      "text/plain": [
       "Index(['person_age', 'person_income', 'person_emp_length', 'loan_amnt',\n",
       "       'loan_int_rate', 'loan_percent_income', 'cb_person_cred_hist_length',\n",
       "       'loan_to_income_ratio', 'loan_to_emp_length_ratio',\n",
       "       'int_rate_to_loan_amt_ratio', 'MORTGAGE', 'OTHER', 'OWN', 'RENT',\n",
       "       'DEBTCONSOLIDATION', 'EDUCATION', 'HOMEIMPROVEMENT', 'MEDICAL',\n",
       "       'PERSONAL', 'VENTURE', 'N', 'Y', '20-25', '26-35', '36-45', '46-55',\n",
       "       '56-65', 'low', 'low-middle', 'middle', 'high-middle', 'high', 'small',\n",
       "       'medium', 'large', 'very large', 'A', 'B', 'C', 'D', 'E', 'F', 'G'],\n",
       "      dtype='object')"
      ]
     },
     "execution_count": 8,
     "metadata": {},
     "output_type": "execute_result"
    }
   ],
   "source": [
    "df.columns"
   ]
  },
  {
   "cell_type": "markdown",
   "id": "07144e32",
   "metadata": {},
   "source": [
    "# SMOTE"
   ]
  },
  {
   "cell_type": "code",
   "execution_count": 10,
   "id": "022c2921",
   "metadata": {},
   "outputs": [
    {
     "name": "stdout",
     "output_type": "stream",
     "text": [
      "Original dataset shape Counter({0: 22428, 1: 6202})\n",
      "New dataset shape Counter({0: 22428, 1: 22428})\n"
     ]
    }
   ],
   "source": [
    "from collections import Counter\n",
    "from imblearn.over_sampling import SMOTE\n",
    "print('Original dataset shape {}'.format(Counter(y)))\n",
    "smt = SMOTE(random_state=20)\n",
    "train_input_new, train_output_new = smt.fit_resample(df, y)\n",
    "print('New dataset shape {}'.format(Counter(train_output_new)))\n",
    "train_input_new = pd.DataFrame(train_input_new, columns = list(df.columns))\n",
    "X_train, X_test, y_train, y_test = train_test_split(df, y, test_size=0.33, random_state=42)"
   ]
  },
  {
   "cell_type": "raw",
   "id": "ecab90fd",
   "metadata": {},
   "source": [
    "X_train, X_test, y_train, y_test = train_test_split(df, y, test_size=0.33, random_state=42)"
   ]
  },
  {
   "cell_type": "code",
   "execution_count": 11,
   "id": "8111fdc2",
   "metadata": {},
   "outputs": [
    {
     "data": {
      "text/plain": [
       "(19182, 43)"
      ]
     },
     "execution_count": 11,
     "metadata": {},
     "output_type": "execute_result"
    }
   ],
   "source": [
    "X_train.shape"
   ]
  },
  {
   "cell_type": "code",
   "execution_count": 12,
   "id": "9c21f956",
   "metadata": {},
   "outputs": [
    {
     "data": {
      "text/plain": [
       "(9448, 43)"
      ]
     },
     "execution_count": 12,
     "metadata": {},
     "output_type": "execute_result"
    }
   ],
   "source": [
    "X_test.shape"
   ]
  },
  {
   "cell_type": "code",
   "execution_count": 13,
   "id": "1f93e94a",
   "metadata": {},
   "outputs": [
    {
     "data": {
      "text/plain": [
       "(19182,)"
      ]
     },
     "execution_count": 13,
     "metadata": {},
     "output_type": "execute_result"
    }
   ],
   "source": [
    "y_train.shape"
   ]
  },
  {
   "cell_type": "code",
   "execution_count": 14,
   "id": "42d93c9f",
   "metadata": {},
   "outputs": [
    {
     "data": {
      "text/plain": [
       "(9448,)"
      ]
     },
     "execution_count": 14,
     "metadata": {},
     "output_type": "execute_result"
    }
   ],
   "source": [
    "y_test.shape"
   ]
  },
  {
   "cell_type": "markdown",
   "id": "85ec196e",
   "metadata": {},
   "source": [
    "# Normalize data"
   ]
  },
  {
   "cell_type": "code",
   "execution_count": 15,
   "id": "111db59c",
   "metadata": {},
   "outputs": [],
   "source": [
    "# data normalization with sklearn\n",
    "from sklearn.preprocessing import MinMaxScaler\n",
    "\n",
    "# fit scaler on training data\n",
    "norm = MinMaxScaler().fit(X_train)\n",
    "\n",
    "# transform training data\n",
    "X_train_norm = norm.transform(X_train)\n",
    "\n",
    "# transform testing dataabs\n",
    "X_test_norm = norm.transform(X_test)"
   ]
  },
  {
   "cell_type": "code",
   "execution_count": 16,
   "id": "b778d088",
   "metadata": {},
   "outputs": [],
   "source": [
    "X_train = X_train_norm\n",
    "X_test = X_test_norm"
   ]
  },
  {
   "cell_type": "markdown",
   "id": "54d1fc46",
   "metadata": {},
   "source": [
    "# LOGISTIC REGRESSION"
   ]
  },
  {
   "cell_type": "code",
   "execution_count": 17,
   "id": "41deef81",
   "metadata": {},
   "outputs": [],
   "source": [
    "from sklearn.linear_model import LogisticRegression\n",
    "LR = LogisticRegression(penalty= 'l1', solver='saga')"
   ]
  },
  {
   "cell_type": "code",
   "execution_count": 18,
   "id": "9f188283",
   "metadata": {},
   "outputs": [],
   "source": [
    "param_grid = [    \n",
    "    {#'penalty' : ['l1', 'l2', 'elasticnet', 'none'],\n",
    "    'C' : np.logspace(-4, 4, 20)\n",
    "    }\n",
    "]"
   ]
  },
  {
   "cell_type": "code",
   "execution_count": 19,
   "id": "a2f33370",
   "metadata": {},
   "outputs": [],
   "source": [
    "from sklearn.model_selection import GridSearchCV\n",
    "clf = GridSearchCV(LR, param_grid = param_grid, cv = 3, verbose=True, n_jobs=-1)"
   ]
  },
  {
   "cell_type": "code",
   "execution_count": 20,
   "id": "60bde1e3",
   "metadata": {},
   "outputs": [
    {
     "name": "stdout",
     "output_type": "stream",
     "text": [
      "Fitting 3 folds for each of 20 candidates, totalling 60 fits\n"
     ]
    },
    {
     "name": "stderr",
     "output_type": "stream",
     "text": [
      "C:\\ProgramData\\Anaconda3\\lib\\site-packages\\sklearn\\linear_model\\_sag.py:328: ConvergenceWarning: The max_iter was reached which means the coef_ did not converge\n",
      "  warnings.warn(\"The max_iter was reached which means \"\n"
     ]
    }
   ],
   "source": [
    "best_clf = clf.fit(X_train,y_train)"
   ]
  },
  {
   "cell_type": "code",
   "execution_count": 21,
   "id": "b9fd1ad8",
   "metadata": {},
   "outputs": [
    {
     "data": {
      "text/plain": [
       "LogisticRegression(C=1438.44988828766, penalty='l1', solver='saga')"
      ]
     },
     "execution_count": 21,
     "metadata": {},
     "output_type": "execute_result"
    }
   ],
   "source": [
    "best_clf.best_estimator_"
   ]
  },
  {
   "cell_type": "code",
   "execution_count": 22,
   "id": "728b6b0c",
   "metadata": {},
   "outputs": [
    {
     "name": "stdout",
     "output_type": "stream",
     "text": [
      "Accuracy: 0.879\n"
     ]
    }
   ],
   "source": [
    "print (f'Accuracy: {best_clf.score(X_train,y_train):.3f}')"
   ]
  },
  {
   "cell_type": "code",
   "execution_count": 23,
   "id": "3520abea",
   "metadata": {},
   "outputs": [],
   "source": [
    "y_pred_LR = best_clf.predict(X_test)"
   ]
  },
  {
   "cell_type": "code",
   "execution_count": 24,
   "id": "2b97a09a",
   "metadata": {},
   "outputs": [
    {
     "data": {
      "text/plain": [
       "array([[7016,  349],\n",
       "       [ 860, 1223]], dtype=int64)"
      ]
     },
     "execution_count": 24,
     "metadata": {},
     "output_type": "execute_result"
    }
   ],
   "source": [
    "from sklearn.metrics import confusion_matrix\n",
    "confusion_matrix(y_test,y_pred_LR)"
   ]
  },
  {
   "cell_type": "code",
   "execution_count": 25,
   "id": "53922579",
   "metadata": {},
   "outputs": [
    {
     "name": "stdout",
     "output_type": "stream",
     "text": [
      "Classification report - \n",
      "               precision    recall  f1-score   support\n",
      "\n",
      "           0       0.89      0.95      0.92      7365\n",
      "           1       0.78      0.59      0.67      2083\n",
      "\n",
      "    accuracy                           0.87      9448\n",
      "   macro avg       0.83      0.77      0.79      9448\n",
      "weighted avg       0.87      0.87      0.87      9448\n",
      "\n"
     ]
    }
   ],
   "source": [
    "from sklearn.metrics import classification_report\n",
    "print(\"Classification report - \\n\", classification_report(y_test,y_pred_LR))"
   ]
  },
  {
   "cell_type": "markdown",
   "id": "1e80b340",
   "metadata": {},
   "source": [
    "### penalty= 'l2', solver='saga'"
   ]
  },
  {
   "cell_type": "code",
   "execution_count": 26,
   "id": "73776924",
   "metadata": {},
   "outputs": [
    {
     "data": {
      "text/plain": [
       "LogisticRegression(solver='liblinear')"
      ]
     },
     "execution_count": 26,
     "metadata": {},
     "output_type": "execute_result"
    }
   ],
   "source": [
    "LR = LogisticRegression(penalty= 'l2', solver='liblinear')\n",
    "LR.fit(X_train,y_train)"
   ]
  },
  {
   "cell_type": "code",
   "execution_count": 27,
   "id": "8f7b0dbb",
   "metadata": {},
   "outputs": [],
   "source": [
    "y_pred_LR = LR.predict(X_test)"
   ]
  },
  {
   "cell_type": "code",
   "execution_count": 28,
   "id": "bd51fdee",
   "metadata": {},
   "outputs": [
    {
     "data": {
      "text/plain": [
       "array([[7016,  349],\n",
       "       [ 890, 1193]], dtype=int64)"
      ]
     },
     "execution_count": 28,
     "metadata": {},
     "output_type": "execute_result"
    }
   ],
   "source": [
    "confusion_matrix(y_test,y_pred_LR)"
   ]
  },
  {
   "cell_type": "code",
   "execution_count": 29,
   "id": "9d4c12ce",
   "metadata": {},
   "outputs": [
    {
     "name": "stdout",
     "output_type": "stream",
     "text": [
      "Classification report - \n",
      "               precision    recall  f1-score   support\n",
      "\n",
      "           0       0.89      0.95      0.92      7365\n",
      "           1       0.77      0.57      0.66      2083\n",
      "\n",
      "    accuracy                           0.87      9448\n",
      "   macro avg       0.83      0.76      0.79      9448\n",
      "weighted avg       0.86      0.87      0.86      9448\n",
      "\n"
     ]
    }
   ],
   "source": [
    "print(\"Classification report - \\n\", classification_report(y_test,y_pred_LR))"
   ]
  },
  {
   "cell_type": "code",
   "execution_count": 30,
   "id": "149d4400",
   "metadata": {},
   "outputs": [
    {
     "data": {
      "text/plain": [
       "0.868861134631668"
      ]
     },
     "execution_count": 30,
     "metadata": {},
     "output_type": "execute_result"
    }
   ],
   "source": [
    "from sklearn.metrics import accuracy_score\n",
    "accuracy_score(y_test,y_pred_LR)"
   ]
  },
  {
   "cell_type": "markdown",
   "id": "b35dc568",
   "metadata": {},
   "source": [
    "# Decision Tree"
   ]
  },
  {
   "cell_type": "code",
   "execution_count": 31,
   "id": "bce2513c",
   "metadata": {},
   "outputs": [],
   "source": [
    "from sklearn.tree import DecisionTreeClassifier#for checking testing results\n",
    "from sklearn.metrics import classification_report, confusion_matrix#for visualizing tree "
   ]
  },
  {
   "cell_type": "code",
   "execution_count": 32,
   "id": "5e98db05",
   "metadata": {},
   "outputs": [
    {
     "name": "stdout",
     "output_type": "stream",
     "text": [
      "Decision Tree Classifier Created\n"
     ]
    }
   ],
   "source": [
    "# Defining the decision tree algorithm\n",
    "dtree=DecisionTreeClassifier(max_depth=100)\n",
    "dtree.fit(X_train,y_train)\n",
    "print('Decision Tree Classifier Created')"
   ]
  },
  {
   "cell_type": "code",
   "execution_count": 33,
   "id": "eb8f522c",
   "metadata": {},
   "outputs": [
    {
     "name": "stdout",
     "output_type": "stream",
     "text": [
      "Classification report - \n",
      "               precision    recall  f1-score   support\n",
      "\n",
      "           0       0.93      0.92      0.93      7365\n",
      "           1       0.73      0.77      0.75      2083\n",
      "\n",
      "    accuracy                           0.89      9448\n",
      "   macro avg       0.83      0.84      0.84      9448\n",
      "weighted avg       0.89      0.89      0.89      9448\n",
      "\n"
     ]
    }
   ],
   "source": [
    "# Predicting the values of test data\n",
    "y_pred_DT = dtree.predict(X_test)\n",
    "print(\"Classification report - \\n\", classification_report(y_test,y_pred_DT))"
   ]
  },
  {
   "cell_type": "code",
   "execution_count": 34,
   "id": "25450fa7",
   "metadata": {},
   "outputs": [
    {
     "data": {
      "text/plain": [
       "array([[6778,  587],\n",
       "       [ 486, 1597]], dtype=int64)"
      ]
     },
     "execution_count": 34,
     "metadata": {},
     "output_type": "execute_result"
    }
   ],
   "source": [
    "from sklearn.metrics import confusion_matrix\n",
    "confusion_matrix(y_test,y_pred_DT)"
   ]
  },
  {
   "cell_type": "code",
   "execution_count": 35,
   "id": "5e212ee0",
   "metadata": {},
   "outputs": [
    {
     "data": {
      "text/plain": [
       "0.8864309906858594"
      ]
     },
     "execution_count": 35,
     "metadata": {},
     "output_type": "execute_result"
    }
   ],
   "source": [
    "from sklearn.metrics import accuracy_score\n",
    "accuracy_score(y_test,y_pred_DT)"
   ]
  },
  {
   "cell_type": "markdown",
   "id": "37883f72",
   "metadata": {},
   "source": [
    "# RANDOM FOREST"
   ]
  },
  {
   "cell_type": "code",
   "execution_count": 36,
   "id": "608ca6c0",
   "metadata": {},
   "outputs": [
    {
     "data": {
      "text/plain": [
       "RandomForestClassifier(n_estimators=50)"
      ]
     },
     "execution_count": 36,
     "metadata": {},
     "output_type": "execute_result"
    }
   ],
   "source": [
    "from sklearn.ensemble import RandomForestClassifier\n",
    "RF = RandomForestClassifier(n_estimators=50)\n",
    "\n",
    "#RF.fit(X_train_scaled,y_train)\n",
    "RF.fit(X_train,y_train)"
   ]
  },
  {
   "cell_type": "code",
   "execution_count": 37,
   "id": "4777d870",
   "metadata": {},
   "outputs": [],
   "source": [
    "#y_pred_RF = RF.predict(X_test_scaled)\n",
    "y_pred_RF = RF.predict(X_test)"
   ]
  },
  {
   "cell_type": "code",
   "execution_count": 38,
   "id": "78d73f37",
   "metadata": {},
   "outputs": [
    {
     "data": {
      "text/plain": [
       "array([[7302,   63],\n",
       "       [ 600, 1483]], dtype=int64)"
      ]
     },
     "execution_count": 38,
     "metadata": {},
     "output_type": "execute_result"
    }
   ],
   "source": [
    "from sklearn.metrics import confusion_matrix\n",
    "confusion_matrix(y_test,y_pred_RF)"
   ]
  },
  {
   "cell_type": "code",
   "execution_count": 39,
   "id": "7bee55f6",
   "metadata": {},
   "outputs": [
    {
     "data": {
      "text/plain": [
       "0.9298264182895851"
      ]
     },
     "execution_count": 39,
     "metadata": {},
     "output_type": "execute_result"
    }
   ],
   "source": [
    "from sklearn.metrics import accuracy_score\n",
    "accuracy_score(y_test,y_pred_RF)"
   ]
  },
  {
   "cell_type": "code",
   "execution_count": 40,
   "id": "3e3a33a1",
   "metadata": {},
   "outputs": [
    {
     "name": "stdout",
     "output_type": "stream",
     "text": [
      "Classification report - \n",
      "               precision    recall  f1-score   support\n",
      "\n",
      "           0       0.92      0.99      0.96      7365\n",
      "           1       0.96      0.71      0.82      2083\n",
      "\n",
      "    accuracy                           0.93      9448\n",
      "   macro avg       0.94      0.85      0.89      9448\n",
      "weighted avg       0.93      0.93      0.93      9448\n",
      "\n"
     ]
    }
   ],
   "source": [
    "print(\"Classification report - \\n\", classification_report(y_test,y_pred_RF))"
   ]
  },
  {
   "cell_type": "markdown",
   "id": "5c3f50d6",
   "metadata": {},
   "source": [
    "# Neural Network"
   ]
  },
  {
   "cell_type": "code",
   "execution_count": 41,
   "id": "3538cce3",
   "metadata": {},
   "outputs": [],
   "source": [
    "from keras.models import Sequential\n",
    "from keras.layers import Dense\n",
    "from keras.layers import Dropout\n",
    "import keras"
   ]
  },
  {
   "cell_type": "code",
   "execution_count": 42,
   "id": "8d21f3d9",
   "metadata": {},
   "outputs": [
    {
     "name": "stdout",
     "output_type": "stream",
     "text": [
      "Epoch 1/200\n"
     ]
    },
    {
     "name": "stderr",
     "output_type": "stream",
     "text": [
      "C:\\Users\\My Pc\\AppData\\Roaming\\Python\\Python38\\site-packages\\keras\\optimizer_v2\\adam.py:105: UserWarning: The `lr` argument is deprecated, use `learning_rate` instead.\n",
      "  super(Adam, self).__init__(name, **kwargs)\n"
     ]
    },
    {
     "name": "stdout",
     "output_type": "stream",
     "text": [
      "20/20 [==============================] - 1s 3ms/step - loss: 0.6044 - accuracy: 0.7003\n",
      "Epoch 2/200\n",
      "20/20 [==============================] - 0s 3ms/step - loss: 0.5356 - accuracy: 0.7725\n",
      "Epoch 3/200\n",
      "20/20 [==============================] - 0s 3ms/step - loss: 0.5029 - accuracy: 0.7805\n",
      "Epoch 4/200\n",
      "20/20 [==============================] - 0s 2ms/step - loss: 0.4743 - accuracy: 0.7879\n",
      "Epoch 5/200\n",
      "20/20 [==============================] - 0s 3ms/step - loss: 0.4488 - accuracy: 0.7959\n",
      "Epoch 6/200\n",
      "20/20 [==============================] - 0s 3ms/step - loss: 0.4310 - accuracy: 0.8083\n",
      "Epoch 7/200\n",
      "20/20 [==============================] - 0s 3ms/step - loss: 0.4132 - accuracy: 0.8264\n",
      "Epoch 8/200\n",
      "20/20 [==============================] - 0s 3ms/step - loss: 0.3991 - accuracy: 0.8376\n",
      "Epoch 9/200\n",
      "20/20 [==============================] - 0s 3ms/step - loss: 0.3899 - accuracy: 0.8426\n",
      "Epoch 10/200\n",
      "20/20 [==============================] - 0s 3ms/step - loss: 0.3806 - accuracy: 0.8482\n",
      "Epoch 11/200\n",
      "20/20 [==============================] - 0s 3ms/step - loss: 0.3716 - accuracy: 0.8534\n",
      "Epoch 12/200\n",
      "20/20 [==============================] - 0s 3ms/step - loss: 0.3697 - accuracy: 0.8518\n",
      "Epoch 13/200\n",
      "20/20 [==============================] - 0s 3ms/step - loss: 0.3669 - accuracy: 0.8551\n",
      "Epoch 14/200\n",
      "20/20 [==============================] - 0s 2ms/step - loss: 0.3632 - accuracy: 0.8604\n",
      "Epoch 15/200\n",
      "20/20 [==============================] - 0s 3ms/step - loss: 0.3541 - accuracy: 0.8607\n",
      "Epoch 16/200\n",
      "20/20 [==============================] - 0s 3ms/step - loss: 0.3520 - accuracy: 0.8644\n",
      "Epoch 17/200\n",
      "20/20 [==============================] - 0s 3ms/step - loss: 0.3483 - accuracy: 0.8636\n",
      "Epoch 18/200\n",
      "20/20 [==============================] - 0s 3ms/step - loss: 0.3462 - accuracy: 0.8689\n",
      "Epoch 19/200\n",
      "20/20 [==============================] - 0s 3ms/step - loss: 0.3431 - accuracy: 0.8699\n",
      "Epoch 20/200\n",
      "20/20 [==============================] - 0s 3ms/step - loss: 0.3381 - accuracy: 0.8720\n",
      "Epoch 21/200\n",
      "20/20 [==============================] - 0s 3ms/step - loss: 0.3361 - accuracy: 0.8726\n",
      "Epoch 22/200\n",
      "20/20 [==============================] - 0s 3ms/step - loss: 0.3350 - accuracy: 0.8742\n",
      "Epoch 23/200\n",
      "20/20 [==============================] - 0s 3ms/step - loss: 0.3320 - accuracy: 0.8763\n",
      "Epoch 24/200\n",
      "20/20 [==============================] - 0s 3ms/step - loss: 0.3275 - accuracy: 0.8787\n",
      "Epoch 25/200\n",
      "20/20 [==============================] - 0s 3ms/step - loss: 0.3257 - accuracy: 0.8780\n",
      "Epoch 26/200\n",
      "20/20 [==============================] - 0s 3ms/step - loss: 0.3229 - accuracy: 0.8805\n",
      "Epoch 27/200\n",
      "20/20 [==============================] - 0s 3ms/step - loss: 0.3221 - accuracy: 0.8819\n",
      "Epoch 28/200\n",
      "20/20 [==============================] - 0s 3ms/step - loss: 0.3180 - accuracy: 0.8843\n",
      "Epoch 29/200\n",
      "20/20 [==============================] - 0s 3ms/step - loss: 0.3172 - accuracy: 0.8833\n",
      "Epoch 30/200\n",
      "20/20 [==============================] - 0s 3ms/step - loss: 0.3138 - accuracy: 0.8864\n",
      "Epoch 31/200\n",
      "20/20 [==============================] - 0s 3ms/step - loss: 0.3082 - accuracy: 0.8906\n",
      "Epoch 32/200\n",
      "20/20 [==============================] - 0s 3ms/step - loss: 0.3119 - accuracy: 0.8873\n",
      "Epoch 33/200\n",
      "20/20 [==============================] - 0s 3ms/step - loss: 0.3071 - accuracy: 0.8897\n",
      "Epoch 34/200\n",
      "20/20 [==============================] - 0s 3ms/step - loss: 0.3067 - accuracy: 0.8904\n",
      "Epoch 35/200\n",
      "20/20 [==============================] - 0s 3ms/step - loss: 0.3060 - accuracy: 0.8908\n",
      "Epoch 36/200\n",
      "20/20 [==============================] - 0s 3ms/step - loss: 0.2996 - accuracy: 0.8916\n",
      "Epoch 37/200\n",
      "20/20 [==============================] - 0s 2ms/step - loss: 0.2979 - accuracy: 0.8940\n",
      "Epoch 38/200\n",
      "20/20 [==============================] - 0s 3ms/step - loss: 0.2982 - accuracy: 0.8940\n",
      "Epoch 39/200\n",
      "20/20 [==============================] - 0s 3ms/step - loss: 0.2962 - accuracy: 0.8962\n",
      "Epoch 40/200\n",
      "20/20 [==============================] - 0s 3ms/step - loss: 0.2956 - accuracy: 0.8972\n",
      "Epoch 41/200\n",
      "20/20 [==============================] - 0s 3ms/step - loss: 0.2897 - accuracy: 0.8974\n",
      "Epoch 42/200\n",
      "20/20 [==============================] - 0s 3ms/step - loss: 0.2926 - accuracy: 0.8986\n",
      "Epoch 43/200\n",
      "20/20 [==============================] - 0s 3ms/step - loss: 0.2916 - accuracy: 0.8968\n",
      "Epoch 44/200\n",
      "20/20 [==============================] - 0s 3ms/step - loss: 0.2900 - accuracy: 0.8990\n",
      "Epoch 45/200\n",
      "20/20 [==============================] - 0s 3ms/step - loss: 0.2855 - accuracy: 0.9017\n",
      "Epoch 46/200\n",
      "20/20 [==============================] - 0s 3ms/step - loss: 0.2900 - accuracy: 0.8983\n",
      "Epoch 47/200\n",
      "20/20 [==============================] - 0s 3ms/step - loss: 0.2824 - accuracy: 0.9013\n",
      "Epoch 48/200\n",
      "20/20 [==============================] - 0s 3ms/step - loss: 0.2814 - accuracy: 0.9027\n",
      "Epoch 49/200\n",
      "20/20 [==============================] - 0s 3ms/step - loss: 0.2794 - accuracy: 0.9025\n",
      "Epoch 50/200\n",
      "20/20 [==============================] - 0s 4ms/step - loss: 0.2801 - accuracy: 0.9051\n",
      "Epoch 51/200\n",
      "20/20 [==============================] - 0s 3ms/step - loss: 0.2820 - accuracy: 0.9027\n",
      "Epoch 52/200\n",
      "20/20 [==============================] - 0s 3ms/step - loss: 0.2779 - accuracy: 0.9052\n",
      "Epoch 53/200\n",
      "20/20 [==============================] - 0s 2ms/step - loss: 0.2763 - accuracy: 0.9055\n",
      "Epoch 54/200\n",
      "20/20 [==============================] - 0s 2ms/step - loss: 0.2748 - accuracy: 0.9063\n",
      "Epoch 55/200\n",
      "20/20 [==============================] - 0s 3ms/step - loss: 0.2757 - accuracy: 0.9055\n",
      "Epoch 56/200\n",
      "20/20 [==============================] - 0s 2ms/step - loss: 0.2759 - accuracy: 0.9067\n",
      "Epoch 57/200\n",
      "20/20 [==============================] - 0s 2ms/step - loss: 0.2749 - accuracy: 0.9068\n",
      "Epoch 58/200\n",
      "20/20 [==============================] - 0s 2ms/step - loss: 0.2730 - accuracy: 0.9070\n",
      "Epoch 59/200\n",
      "20/20 [==============================] - 0s 3ms/step - loss: 0.2676 - accuracy: 0.9076\n",
      "Epoch 60/200\n",
      "20/20 [==============================] - 0s 2ms/step - loss: 0.2691 - accuracy: 0.9089\n",
      "Epoch 61/200\n",
      "20/20 [==============================] - 0s 2ms/step - loss: 0.2716 - accuracy: 0.9083\n",
      "Epoch 62/200\n",
      "20/20 [==============================] - 0s 2ms/step - loss: 0.2670 - accuracy: 0.9087\n",
      "Epoch 63/200\n",
      "20/20 [==============================] - 0s 2ms/step - loss: 0.2665 - accuracy: 0.9091\n",
      "Epoch 64/200\n",
      "20/20 [==============================] - 0s 3ms/step - loss: 0.2673 - accuracy: 0.9089\n",
      "Epoch 65/200\n",
      "20/20 [==============================] - 0s 3ms/step - loss: 0.2668 - accuracy: 0.9081\n",
      "Epoch 66/200\n",
      "20/20 [==============================] - 0s 2ms/step - loss: 0.2688 - accuracy: 0.9084\n",
      "Epoch 67/200\n",
      "20/20 [==============================] - 0s 2ms/step - loss: 0.2650 - accuracy: 0.9101\n",
      "Epoch 68/200\n",
      "20/20 [==============================] - 0s 3ms/step - loss: 0.2649 - accuracy: 0.9102\n",
      "Epoch 69/200\n",
      "20/20 [==============================] - 0s 2ms/step - loss: 0.2639 - accuracy: 0.9106\n",
      "Epoch 70/200\n",
      "20/20 [==============================] - 0s 3ms/step - loss: 0.2617 - accuracy: 0.9113\n",
      "Epoch 71/200\n",
      "20/20 [==============================] - 0s 3ms/step - loss: 0.2611 - accuracy: 0.9119\n",
      "Epoch 72/200\n",
      "20/20 [==============================] - 0s 2ms/step - loss: 0.2625 - accuracy: 0.9113\n",
      "Epoch 73/200\n",
      "20/20 [==============================] - 0s 2ms/step - loss: 0.2607 - accuracy: 0.9115\n",
      "Epoch 74/200\n",
      "20/20 [==============================] - 0s 2ms/step - loss: 0.2604 - accuracy: 0.9117\n",
      "Epoch 75/200\n",
      "20/20 [==============================] - 0s 2ms/step - loss: 0.2606 - accuracy: 0.9116\n",
      "Epoch 76/200\n",
      "20/20 [==============================] - 0s 3ms/step - loss: 0.2615 - accuracy: 0.9124\n",
      "Epoch 77/200\n",
      "20/20 [==============================] - 0s 2ms/step - loss: 0.2600 - accuracy: 0.9127\n",
      "Epoch 78/200\n",
      "20/20 [==============================] - 0s 2ms/step - loss: 0.2560 - accuracy: 0.9128\n",
      "Epoch 79/200\n",
      "20/20 [==============================] - 0s 3ms/step - loss: 0.2570 - accuracy: 0.9131\n",
      "Epoch 80/200\n",
      "20/20 [==============================] - 0s 3ms/step - loss: 0.2578 - accuracy: 0.9129\n",
      "Epoch 81/200\n",
      "20/20 [==============================] - 0s 3ms/step - loss: 0.2563 - accuracy: 0.9131\n",
      "Epoch 82/200\n",
      "20/20 [==============================] - 0s 2ms/step - loss: 0.2556 - accuracy: 0.9122\n",
      "Epoch 83/200\n"
     ]
    },
    {
     "name": "stdout",
     "output_type": "stream",
     "text": [
      "20/20 [==============================] - 0s 3ms/step - loss: 0.2559 - accuracy: 0.9135\n",
      "Epoch 84/200\n",
      "20/20 [==============================] - 0s 3ms/step - loss: 0.2559 - accuracy: 0.9139\n",
      "Epoch 85/200\n",
      "20/20 [==============================] - 0s 2ms/step - loss: 0.2573 - accuracy: 0.9131\n",
      "Epoch 86/200\n",
      "20/20 [==============================] - 0s 2ms/step - loss: 0.2554 - accuracy: 0.9123\n",
      "Epoch 87/200\n",
      "20/20 [==============================] - 0s 2ms/step - loss: 0.2546 - accuracy: 0.9140\n",
      "Epoch 88/200\n",
      "20/20 [==============================] - 0s 2ms/step - loss: 0.2566 - accuracy: 0.9141\n",
      "Epoch 89/200\n",
      "20/20 [==============================] - 0s 3ms/step - loss: 0.2516 - accuracy: 0.9154\n",
      "Epoch 90/200\n",
      "20/20 [==============================] - 0s 2ms/step - loss: 0.2519 - accuracy: 0.9143\n",
      "Epoch 91/200\n",
      "20/20 [==============================] - 0s 2ms/step - loss: 0.2542 - accuracy: 0.9127\n",
      "Epoch 92/200\n",
      "20/20 [==============================] - 0s 2ms/step - loss: 0.2520 - accuracy: 0.9155\n",
      "Epoch 93/200\n",
      "20/20 [==============================] - 0s 2ms/step - loss: 0.2511 - accuracy: 0.9150\n",
      "Epoch 94/200\n",
      "20/20 [==============================] - 0s 2ms/step - loss: 0.2520 - accuracy: 0.9140\n",
      "Epoch 95/200\n",
      "20/20 [==============================] - 0s 2ms/step - loss: 0.2528 - accuracy: 0.9162\n",
      "Epoch 96/200\n",
      "20/20 [==============================] - 0s 2ms/step - loss: 0.2509 - accuracy: 0.9154\n",
      "Epoch 97/200\n",
      "20/20 [==============================] - 0s 2ms/step - loss: 0.2495 - accuracy: 0.9145\n",
      "Epoch 98/200\n",
      "20/20 [==============================] - 0s 3ms/step - loss: 0.2483 - accuracy: 0.9166\n",
      "Epoch 99/200\n",
      "20/20 [==============================] - 0s 2ms/step - loss: 0.2485 - accuracy: 0.9154\n",
      "Epoch 100/200\n",
      "20/20 [==============================] - 0s 2ms/step - loss: 0.2501 - accuracy: 0.9150\n",
      "Epoch 101/200\n",
      "20/20 [==============================] - 0s 2ms/step - loss: 0.2475 - accuracy: 0.9158\n",
      "Epoch 102/200\n",
      "20/20 [==============================] - 0s 2ms/step - loss: 0.2484 - accuracy: 0.9166\n",
      "Epoch 103/200\n",
      "20/20 [==============================] - 0s 2ms/step - loss: 0.2461 - accuracy: 0.9175\n",
      "Epoch 104/200\n",
      "20/20 [==============================] - 0s 3ms/step - loss: 0.2479 - accuracy: 0.9148\n",
      "Epoch 105/200\n",
      "20/20 [==============================] - 0s 3ms/step - loss: 0.2480 - accuracy: 0.9157\n",
      "Epoch 106/200\n",
      "20/20 [==============================] - 0s 2ms/step - loss: 0.2473 - accuracy: 0.9174\n",
      "Epoch 107/200\n",
      "20/20 [==============================] - 0s 2ms/step - loss: 0.2478 - accuracy: 0.9181\n",
      "Epoch 108/200\n",
      "20/20 [==============================] - 0s 2ms/step - loss: 0.2457 - accuracy: 0.9185\n",
      "Epoch 109/200\n",
      "20/20 [==============================] - 0s 2ms/step - loss: 0.2483 - accuracy: 0.9162\n",
      "Epoch 110/200\n",
      "20/20 [==============================] - 0s 2ms/step - loss: 0.2463 - accuracy: 0.9167\n",
      "Epoch 111/200\n",
      "20/20 [==============================] - 0s 3ms/step - loss: 0.2472 - accuracy: 0.9173\n",
      "Epoch 112/200\n",
      "20/20 [==============================] - 0s 2ms/step - loss: 0.2454 - accuracy: 0.9164\n",
      "Epoch 113/200\n",
      "20/20 [==============================] - 0s 2ms/step - loss: 0.2442 - accuracy: 0.9187\n",
      "Epoch 114/200\n",
      "20/20 [==============================] - 0s 2ms/step - loss: 0.2454 - accuracy: 0.9180\n",
      "Epoch 115/200\n",
      "20/20 [==============================] - 0s 2ms/step - loss: 0.2445 - accuracy: 0.9177\n",
      "Epoch 116/200\n",
      "20/20 [==============================] - 0s 2ms/step - loss: 0.2437 - accuracy: 0.9178\n",
      "Epoch 117/200\n",
      "20/20 [==============================] - 0s 2ms/step - loss: 0.2441 - accuracy: 0.9186\n",
      "Epoch 118/200\n",
      "20/20 [==============================] - 0s 3ms/step - loss: 0.2439 - accuracy: 0.9187\n",
      "Epoch 119/200\n",
      "20/20 [==============================] - 0s 2ms/step - loss: 0.2458 - accuracy: 0.9167\n",
      "Epoch 120/200\n",
      "20/20 [==============================] - 0s 2ms/step - loss: 0.2428 - accuracy: 0.9169\n",
      "Epoch 121/200\n",
      "20/20 [==============================] - 0s 2ms/step - loss: 0.2442 - accuracy: 0.9186\n",
      "Epoch 122/200\n",
      "20/20 [==============================] - 0s 2ms/step - loss: 0.2423 - accuracy: 0.9188\n",
      "Epoch 123/200\n",
      "20/20 [==============================] - 0s 2ms/step - loss: 0.2417 - accuracy: 0.9180\n",
      "Epoch 124/200\n",
      "20/20 [==============================] - 0s 2ms/step - loss: 0.2425 - accuracy: 0.9188\n",
      "Epoch 125/200\n",
      "20/20 [==============================] - 0s 3ms/step - loss: 0.2410 - accuracy: 0.9178\n",
      "Epoch 126/200\n",
      "20/20 [==============================] - 0s 3ms/step - loss: 0.2411 - accuracy: 0.9186\n",
      "Epoch 127/200\n",
      "20/20 [==============================] - 0s 2ms/step - loss: 0.2407 - accuracy: 0.9182\n",
      "Epoch 128/200\n",
      "20/20 [==============================] - 0s 2ms/step - loss: 0.2408 - accuracy: 0.9179\n",
      "Epoch 129/200\n",
      "20/20 [==============================] - 0s 2ms/step - loss: 0.2411 - accuracy: 0.9186\n",
      "Epoch 130/200\n",
      "20/20 [==============================] - 0s 2ms/step - loss: 0.2399 - accuracy: 0.9190\n",
      "Epoch 131/200\n",
      "20/20 [==============================] - 0s 2ms/step - loss: 0.2389 - accuracy: 0.9188\n",
      "Epoch 132/200\n",
      "20/20 [==============================] - 0s 2ms/step - loss: 0.2376 - accuracy: 0.9198\n",
      "Epoch 133/200\n",
      "20/20 [==============================] - 0s 3ms/step - loss: 0.2387 - accuracy: 0.9188\n",
      "Epoch 134/200\n",
      "20/20 [==============================] - 0s 2ms/step - loss: 0.2375 - accuracy: 0.9190\n",
      "Epoch 135/200\n",
      "20/20 [==============================] - 0s 2ms/step - loss: 0.2391 - accuracy: 0.9195\n",
      "Epoch 136/200\n",
      "20/20 [==============================] - 0s 2ms/step - loss: 0.2362 - accuracy: 0.9197\n",
      "Epoch 137/200\n",
      "20/20 [==============================] - 0s 2ms/step - loss: 0.2394 - accuracy: 0.9196\n",
      "Epoch 138/200\n",
      "20/20 [==============================] - 0s 3ms/step - loss: 0.2380 - accuracy: 0.9192\n",
      "Epoch 139/200\n",
      "20/20 [==============================] - 0s 2ms/step - loss: 0.2391 - accuracy: 0.9182\n",
      "Epoch 140/200\n",
      "20/20 [==============================] - 0s 2ms/step - loss: 0.2362 - accuracy: 0.9200\n",
      "Epoch 141/200\n",
      "20/20 [==============================] - 0s 2ms/step - loss: 0.2388 - accuracy: 0.9198\n",
      "Epoch 142/200\n",
      "20/20 [==============================] - 0s 2ms/step - loss: 0.2348 - accuracy: 0.9199\n",
      "Epoch 143/200\n",
      "20/20 [==============================] - 0s 2ms/step - loss: 0.2367 - accuracy: 0.9199\n",
      "Epoch 144/200\n",
      "20/20 [==============================] - 0s 3ms/step - loss: 0.2371 - accuracy: 0.9207\n",
      "Epoch 145/200\n",
      "20/20 [==============================] - 0s 3ms/step - loss: 0.2334 - accuracy: 0.9211\n",
      "Epoch 146/200\n",
      "20/20 [==============================] - 0s 3ms/step - loss: 0.2335 - accuracy: 0.9202\n",
      "Epoch 147/200\n",
      "20/20 [==============================] - 0s 2ms/step - loss: 0.2371 - accuracy: 0.9202\n",
      "Epoch 148/200\n",
      "20/20 [==============================] - 0s 2ms/step - loss: 0.2346 - accuracy: 0.9208\n",
      "Epoch 149/200\n",
      "20/20 [==============================] - 0s 2ms/step - loss: 0.2369 - accuracy: 0.9190\n",
      "Epoch 150/200\n",
      "20/20 [==============================] - 0s 2ms/step - loss: 0.2360 - accuracy: 0.9211\n",
      "Epoch 151/200\n",
      "20/20 [==============================] - 0s 2ms/step - loss: 0.2350 - accuracy: 0.9193\n",
      "Epoch 152/200\n",
      "20/20 [==============================] - 0s 2ms/step - loss: 0.2332 - accuracy: 0.9207\n",
      "Epoch 153/200\n",
      "20/20 [==============================] - 0s 2ms/step - loss: 0.2343 - accuracy: 0.9212\n",
      "Epoch 154/200\n",
      "20/20 [==============================] - 0s 3ms/step - loss: 0.2338 - accuracy: 0.9211\n",
      "Epoch 155/200\n",
      "20/20 [==============================] - 0s 3ms/step - loss: 0.2314 - accuracy: 0.9211\n",
      "Epoch 156/200\n",
      "20/20 [==============================] - 0s 3ms/step - loss: 0.2327 - accuracy: 0.9203\n",
      "Epoch 157/200\n",
      "20/20 [==============================] - 0s 2ms/step - loss: 0.2321 - accuracy: 0.9196\n",
      "Epoch 158/200\n",
      "20/20 [==============================] - 0s 2ms/step - loss: 0.2317 - accuracy: 0.9212\n",
      "Epoch 159/200\n",
      "20/20 [==============================] - 0s 2ms/step - loss: 0.2316 - accuracy: 0.9207\n",
      "Epoch 160/200\n",
      "20/20 [==============================] - 0s 2ms/step - loss: 0.2332 - accuracy: 0.9216\n",
      "Epoch 161/200\n",
      "20/20 [==============================] - 0s 2ms/step - loss: 0.2314 - accuracy: 0.9228\n",
      "Epoch 162/200\n",
      "20/20 [==============================] - 0s 2ms/step - loss: 0.2311 - accuracy: 0.9220\n",
      "Epoch 163/200\n",
      "20/20 [==============================] - 0s 3ms/step - loss: 0.2329 - accuracy: 0.9209\n",
      "Epoch 164/200\n"
     ]
    },
    {
     "name": "stdout",
     "output_type": "stream",
     "text": [
      "20/20 [==============================] - 0s 2ms/step - loss: 0.2321 - accuracy: 0.9207\n",
      "Epoch 165/200\n",
      "20/20 [==============================] - 0s 2ms/step - loss: 0.2314 - accuracy: 0.9213\n",
      "Epoch 166/200\n",
      "20/20 [==============================] - 0s 2ms/step - loss: 0.2304 - accuracy: 0.9223\n",
      "Epoch 167/200\n",
      "20/20 [==============================] - 0s 2ms/step - loss: 0.2310 - accuracy: 0.9208\n",
      "Epoch 168/200\n",
      "20/20 [==============================] - 0s 2ms/step - loss: 0.2311 - accuracy: 0.9217\n",
      "Epoch 169/200\n",
      "20/20 [==============================] - 0s 2ms/step - loss: 0.2314 - accuracy: 0.9211\n",
      "Epoch 170/200\n",
      "20/20 [==============================] - 0s 2ms/step - loss: 0.2328 - accuracy: 0.9204\n",
      "Epoch 171/200\n",
      "20/20 [==============================] - 0s 3ms/step - loss: 0.2303 - accuracy: 0.9208\n",
      "Epoch 172/200\n",
      "20/20 [==============================] - 0s 2ms/step - loss: 0.2334 - accuracy: 0.9203\n",
      "Epoch 173/200\n",
      "20/20 [==============================] - 0s 2ms/step - loss: 0.2288 - accuracy: 0.9215\n",
      "Epoch 174/200\n",
      "20/20 [==============================] - 0s 2ms/step - loss: 0.2286 - accuracy: 0.9225\n",
      "Epoch 175/200\n",
      "20/20 [==============================] - 0s 2ms/step - loss: 0.2307 - accuracy: 0.9215\n",
      "Epoch 176/200\n",
      "20/20 [==============================] - 0s 2ms/step - loss: 0.2294 - accuracy: 0.9221\n",
      "Epoch 177/200\n",
      "20/20 [==============================] - 0s 2ms/step - loss: 0.2315 - accuracy: 0.9208\n",
      "Epoch 178/200\n",
      "20/20 [==============================] - 0s 2ms/step - loss: 0.2297 - accuracy: 0.9208\n",
      "Epoch 179/200\n",
      "20/20 [==============================] - 0s 3ms/step - loss: 0.2307 - accuracy: 0.9204\n",
      "Epoch 180/200\n",
      "20/20 [==============================] - 0s 2ms/step - loss: 0.2288 - accuracy: 0.9221\n",
      "Epoch 181/200\n",
      "20/20 [==============================] - 0s 2ms/step - loss: 0.2300 - accuracy: 0.9216\n",
      "Epoch 182/200\n",
      "20/20 [==============================] - 0s 2ms/step - loss: 0.2281 - accuracy: 0.9218\n",
      "Epoch 183/200\n",
      "20/20 [==============================] - 0s 2ms/step - loss: 0.2302 - accuracy: 0.9214\n",
      "Epoch 184/200\n",
      "20/20 [==============================] - 0s 2ms/step - loss: 0.2280 - accuracy: 0.9211\n",
      "Epoch 185/200\n",
      "20/20 [==============================] - 0s 2ms/step - loss: 0.2260 - accuracy: 0.9233\n",
      "Epoch 186/200\n",
      "20/20 [==============================] - 0s 2ms/step - loss: 0.2293 - accuracy: 0.9211\n",
      "Epoch 187/200\n",
      "20/20 [==============================] - 0s 2ms/step - loss: 0.2282 - accuracy: 0.9215\n",
      "Epoch 188/200\n",
      "20/20 [==============================] - 0s 2ms/step - loss: 0.2294 - accuracy: 0.9218\n",
      "Epoch 189/200\n",
      "20/20 [==============================] - 0s 3ms/step - loss: 0.2273 - accuracy: 0.9223\n",
      "Epoch 190/200\n",
      "20/20 [==============================] - 0s 2ms/step - loss: 0.2263 - accuracy: 0.9236\n",
      "Epoch 191/200\n",
      "20/20 [==============================] - 0s 2ms/step - loss: 0.2284 - accuracy: 0.9221\n",
      "Epoch 192/200\n",
      "20/20 [==============================] - 0s 2ms/step - loss: 0.2276 - accuracy: 0.9234\n",
      "Epoch 193/200\n",
      "20/20 [==============================] - 0s 2ms/step - loss: 0.2258 - accuracy: 0.9226\n",
      "Epoch 194/200\n",
      "20/20 [==============================] - 0s 2ms/step - loss: 0.2248 - accuracy: 0.9231\n",
      "Epoch 195/200\n",
      "20/20 [==============================] - 0s 2ms/step - loss: 0.2294 - accuracy: 0.9214\n",
      "Epoch 196/200\n",
      "20/20 [==============================] - 0s 2ms/step - loss: 0.2269 - accuracy: 0.9220\n",
      "Epoch 197/200\n",
      "20/20 [==============================] - 0s 2ms/step - loss: 0.2275 - accuracy: 0.9211\n",
      "Epoch 198/200\n",
      "20/20 [==============================] - 0s 2ms/step - loss: 0.2278 - accuracy: 0.9220\n",
      "Epoch 199/200\n",
      "20/20 [==============================] - 0s 2ms/step - loss: 0.2276 - accuracy: 0.9230\n",
      "Epoch 200/200\n",
      "20/20 [==============================] - 0s 2ms/step - loss: 0.2262 - accuracy: 0.9228\n",
      "296/296 [==============================] - 0s 868us/step - loss: 0.2328 - accuracy: 0.9181\n",
      "Accuracy: 91.81\n"
     ]
    }
   ],
   "source": [
    "# define the keras model\n",
    "import tensorflow as tf\n",
    "\n",
    "optimizer = tf.keras.optimizers.Adam(lr=0.001)\n",
    "model = Sequential()\n",
    "model.add(Dense(32, input_dim=43, activation='relu'))\n",
    "model.add(Dropout(0.2))\n",
    "model.add(Dense(8, activation='relu'))\n",
    "model.add(Dropout(0.2))\n",
    "model.add(Dense(1, activation='sigmoid'))\n",
    "model.compile(loss='binary_crossentropy', optimizer=optimizer, metrics=['accuracy'])\n",
    "model.fit(X_train, y_train, epochs=200, batch_size=1000)\n",
    "_, accuracy = model.evaluate(X_test, y_test)\n",
    "print('Accuracy: %.2f' % (accuracy*100))"
   ]
  },
  {
   "cell_type": "code",
   "execution_count": 43,
   "id": "4848e8bd",
   "metadata": {},
   "outputs": [],
   "source": [
    "loss, acc = model.evaluate(X_test, y_test, verbose=0)"
   ]
  },
  {
   "cell_type": "code",
   "execution_count": 44,
   "id": "d69b783b",
   "metadata": {},
   "outputs": [
    {
     "data": {
      "text/plain": [
       "0.2327815741300583"
      ]
     },
     "execution_count": 44,
     "metadata": {},
     "output_type": "execute_result"
    }
   ],
   "source": [
    "loss"
   ]
  },
  {
   "cell_type": "code",
   "execution_count": 45,
   "id": "33bb34e5",
   "metadata": {},
   "outputs": [
    {
     "data": {
      "text/plain": [
       "0.9180778861045837"
      ]
     },
     "execution_count": 45,
     "metadata": {},
     "output_type": "execute_result"
    }
   ],
   "source": [
    "acc"
   ]
  },
  {
   "cell_type": "code",
   "execution_count": 46,
   "id": "f1297e72",
   "metadata": {},
   "outputs": [],
   "source": [
    "predict_x=model.predict(X_test) \n",
    "yhat_classes=np.argmax(predict_x,axis=1)"
   ]
  },
  {
   "cell_type": "code",
   "execution_count": 47,
   "id": "f62fc36b",
   "metadata": {},
   "outputs": [
    {
     "name": "stdout",
     "output_type": "stream",
     "text": [
      "Accuracy: 0.779530\n",
      "Precision: 0.779530\n",
      "Recall: 1.000000\n",
      "F1 score: 0.876108\n",
      "[[7365    0]\n",
      " [2083    0]]\n"
     ]
    }
   ],
   "source": [
    "from sklearn.metrics import accuracy_score, f1_score, precision_score, recall_score, classification_report, confusion_matrix\n",
    "# accuracy: (tp + tn) / (p + n)\n",
    "accuracy = accuracy_score(y_test, yhat_classes)\n",
    "print(\"Accuracy: %f\" % accuracy)\n",
    "# precision tp / (tp + fp)\n",
    "precision = precision_score(y_test, yhat_classes, average='weighted', labels=np.unique(yhat_classes))\n",
    "print(\"Precision: %f\" % precision)\n",
    "# recall: tp / (tp + fn)\n",
    "recall = recall_score(y_test, yhat_classes, average='weighted', labels=np.unique(yhat_classes))\n",
    "print(\"Recall: %f\" % recall)\n",
    "# f1: 2 tp / (2 tp + fp + fn)\n",
    "f1 = f1_score(y_test, yhat_classes, average='weighted', labels=np.unique(yhat_classes))\n",
    "print(\"F1 score: %f\" % f1)\n",
    "\n",
    "# confusion matrix\n",
    "matrix = confusion_matrix(y_test, yhat_classes)\n",
    "print(matrix)"
   ]
  },
  {
   "cell_type": "code",
   "execution_count": null,
   "id": "47cba348",
   "metadata": {},
   "outputs": [],
   "source": []
  }
 ],
 "metadata": {
  "kernelspec": {
   "display_name": "Python 3",
   "language": "python",
   "name": "python3"
  },
  "language_info": {
   "codemirror_mode": {
    "name": "ipython",
    "version": 3
   },
   "file_extension": ".py",
   "mimetype": "text/x-python",
   "name": "python",
   "nbconvert_exporter": "python",
   "pygments_lexer": "ipython3",
   "version": "3.8.8"
  }
 },
 "nbformat": 4,
 "nbformat_minor": 5
}
