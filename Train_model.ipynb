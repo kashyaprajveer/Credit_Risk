{
 "cells": [
  {
   "cell_type": "code",
   "execution_count": 1,
   "id": "08bc93ff",
   "metadata": {},
   "outputs": [
    {
     "name": "stderr",
     "output_type": "stream",
     "text": [
      "C:\\ProgramData\\Anaconda3\\lib\\site-packages\\numpy\\_distributor_init.py:30: UserWarning: loaded more than 1 DLL from .libs:\n",
      "C:\\ProgramData\\Anaconda3\\lib\\site-packages\\numpy\\.libs\\libopenblas.EL2C6PLE4ZYW3ECEVIV3OXXGRN2NRFM2.gfortran-win_amd64.dll\n",
      "C:\\ProgramData\\Anaconda3\\lib\\site-packages\\numpy\\.libs\\libopenblas.GK7GX5KEQ4F6UYO3P26ULGBQYHGQO7J4.gfortran-win_amd64.dll\n",
      "  warnings.warn(\"loaded more than 1 DLL from .libs:\"\n"
     ]
    }
   ],
   "source": [
    "import pandas as pd\n",
    "import numpy as np\n",
    "from sklearn.model_selection import train_test_split"
   ]
  },
  {
   "cell_type": "code",
   "execution_count": 2,
   "id": "772593f6",
   "metadata": {},
   "outputs": [
    {
     "data": {
      "text/html": [
       "<div>\n",
       "<style scoped>\n",
       "    .dataframe tbody tr th:only-of-type {\n",
       "        vertical-align: middle;\n",
       "    }\n",
       "\n",
       "    .dataframe tbody tr th {\n",
       "        vertical-align: top;\n",
       "    }\n",
       "\n",
       "    .dataframe thead th {\n",
       "        text-align: right;\n",
       "    }\n",
       "</style>\n",
       "<table border=\"1\" class=\"dataframe\">\n",
       "  <thead>\n",
       "    <tr style=\"text-align: right;\">\n",
       "      <th></th>\n",
       "      <th>person_age</th>\n",
       "      <th>person_income</th>\n",
       "      <th>person_emp_length</th>\n",
       "      <th>loan_amnt</th>\n",
       "      <th>loan_int_rate</th>\n",
       "      <th>loan_status</th>\n",
       "      <th>loan_percent_income</th>\n",
       "      <th>cb_person_cred_hist_length</th>\n",
       "      <th>loan_to_income_ratio</th>\n",
       "      <th>loan_to_emp_length_ratio</th>\n",
       "      <th>...</th>\n",
       "      <th>medium</th>\n",
       "      <th>large</th>\n",
       "      <th>very large</th>\n",
       "      <th>A</th>\n",
       "      <th>B</th>\n",
       "      <th>C</th>\n",
       "      <th>D</th>\n",
       "      <th>E</th>\n",
       "      <th>F</th>\n",
       "      <th>G</th>\n",
       "    </tr>\n",
       "  </thead>\n",
       "  <tbody>\n",
       "    <tr>\n",
       "      <th>0</th>\n",
       "      <td>21</td>\n",
       "      <td>9600</td>\n",
       "      <td>5.0</td>\n",
       "      <td>1000</td>\n",
       "      <td>11.14</td>\n",
       "      <td>0</td>\n",
       "      <td>0.10</td>\n",
       "      <td>2</td>\n",
       "      <td>0.104167</td>\n",
       "      <td>0.005000</td>\n",
       "      <td>...</td>\n",
       "      <td>0</td>\n",
       "      <td>0</td>\n",
       "      <td>0</td>\n",
       "      <td>0</td>\n",
       "      <td>1</td>\n",
       "      <td>0</td>\n",
       "      <td>0</td>\n",
       "      <td>0</td>\n",
       "      <td>0</td>\n",
       "      <td>0</td>\n",
       "    </tr>\n",
       "    <tr>\n",
       "      <th>1</th>\n",
       "      <td>25</td>\n",
       "      <td>9600</td>\n",
       "      <td>1.0</td>\n",
       "      <td>5500</td>\n",
       "      <td>12.87</td>\n",
       "      <td>1</td>\n",
       "      <td>0.57</td>\n",
       "      <td>3</td>\n",
       "      <td>0.572917</td>\n",
       "      <td>0.000182</td>\n",
       "      <td>...</td>\n",
       "      <td>1</td>\n",
       "      <td>0</td>\n",
       "      <td>0</td>\n",
       "      <td>0</td>\n",
       "      <td>0</td>\n",
       "      <td>1</td>\n",
       "      <td>0</td>\n",
       "      <td>0</td>\n",
       "      <td>0</td>\n",
       "      <td>0</td>\n",
       "    </tr>\n",
       "  </tbody>\n",
       "</table>\n",
       "<p>2 rows × 44 columns</p>\n",
       "</div>"
      ],
      "text/plain": [
       "   person_age  person_income  person_emp_length  loan_amnt  loan_int_rate  \\\n",
       "0          21           9600                5.0       1000          11.14   \n",
       "1          25           9600                1.0       5500          12.87   \n",
       "\n",
       "   loan_status  loan_percent_income  cb_person_cred_hist_length  \\\n",
       "0            0                 0.10                           2   \n",
       "1            1                 0.57                           3   \n",
       "\n",
       "   loan_to_income_ratio  loan_to_emp_length_ratio  ...  medium  large  \\\n",
       "0              0.104167                  0.005000  ...       0      0   \n",
       "1              0.572917                  0.000182  ...       1      0   \n",
       "\n",
       "   very large  A  B  C  D  E  F  G  \n",
       "0           0  0  1  0  0  0  0  0  \n",
       "1           0  0  0  1  0  0  0  0  \n",
       "\n",
       "[2 rows x 44 columns]"
      ]
     },
     "execution_count": 2,
     "metadata": {},
     "output_type": "execute_result"
    }
   ],
   "source": [
    "df = pd.read_csv(\"./data/pre_processed_credit.csv\")\n",
    "df.head(2)"
   ]
  },
  {
   "cell_type": "code",
   "execution_count": 3,
   "id": "63394596",
   "metadata": {},
   "outputs": [
    {
     "data": {
      "text/plain": [
       "Index(['person_age', 'person_income', 'person_emp_length', 'loan_amnt',\n",
       "       'loan_int_rate', 'loan_status', 'loan_percent_income',\n",
       "       'cb_person_cred_hist_length', 'loan_to_income_ratio',\n",
       "       'loan_to_emp_length_ratio', 'int_rate_to_loan_amt_ratio', 'MORTGAGE',\n",
       "       'OTHER', 'OWN', 'RENT', 'DEBTCONSOLIDATION', 'EDUCATION',\n",
       "       'HOMEIMPROVEMENT', 'MEDICAL', 'PERSONAL', 'VENTURE', 'N', 'Y', '20-25',\n",
       "       '26-35', '36-45', '46-55', '56-65', 'low', 'low-middle', 'middle',\n",
       "       'high-middle', 'high', 'small', 'medium', 'large', 'very large', 'A',\n",
       "       'B', 'C', 'D', 'E', 'F', 'G'],\n",
       "      dtype='object')"
      ]
     },
     "execution_count": 3,
     "metadata": {},
     "output_type": "execute_result"
    }
   ],
   "source": [
    "df.columns"
   ]
  },
  {
   "cell_type": "code",
   "execution_count": 6,
   "id": "166cb9b8",
   "metadata": {},
   "outputs": [],
   "source": [
    "y = df[\"loan_status\"]"
   ]
  },
  {
   "cell_type": "code",
   "execution_count": 10,
   "id": "53c4535c",
   "metadata": {},
   "outputs": [],
   "source": [
    "df.drop(['loan_status'],  axis =1 ,inplace=True)"
   ]
  },
  {
   "cell_type": "code",
   "execution_count": 11,
   "id": "98c36c45",
   "metadata": {},
   "outputs": [
    {
     "data": {
      "text/plain": [
       "Index(['person_age', 'person_income', 'person_emp_length', 'loan_amnt',\n",
       "       'loan_int_rate', 'loan_percent_income', 'cb_person_cred_hist_length',\n",
       "       'loan_to_income_ratio', 'loan_to_emp_length_ratio',\n",
       "       'int_rate_to_loan_amt_ratio', 'MORTGAGE', 'OTHER', 'OWN', 'RENT',\n",
       "       'DEBTCONSOLIDATION', 'EDUCATION', 'HOMEIMPROVEMENT', 'MEDICAL',\n",
       "       'PERSONAL', 'VENTURE', 'N', 'Y', '20-25', '26-35', '36-45', '46-55',\n",
       "       '56-65', 'low', 'low-middle', 'middle', 'high-middle', 'high', 'small',\n",
       "       'medium', 'large', 'very large', 'A', 'B', 'C', 'D', 'E', 'F', 'G'],\n",
       "      dtype='object')"
      ]
     },
     "execution_count": 11,
     "metadata": {},
     "output_type": "execute_result"
    }
   ],
   "source": [
    "df.columns"
   ]
  },
  {
   "cell_type": "code",
   "execution_count": 12,
   "id": "d3d11530",
   "metadata": {},
   "outputs": [],
   "source": [
    "X_train, X_test, y_train, y_test = train_test_split(df, y, test_size=0.33, random_state=42)"
   ]
  },
  {
   "cell_type": "code",
   "execution_count": 15,
   "id": "8111fdc2",
   "metadata": {},
   "outputs": [
    {
     "data": {
      "text/plain": [
       "(19182, 43)"
      ]
     },
     "execution_count": 15,
     "metadata": {},
     "output_type": "execute_result"
    }
   ],
   "source": [
    "X_train.shape"
   ]
  },
  {
   "cell_type": "code",
   "execution_count": 16,
   "id": "9c21f956",
   "metadata": {},
   "outputs": [
    {
     "data": {
      "text/plain": [
       "(9448, 43)"
      ]
     },
     "execution_count": 16,
     "metadata": {},
     "output_type": "execute_result"
    }
   ],
   "source": [
    "X_test.shape"
   ]
  },
  {
   "cell_type": "code",
   "execution_count": 17,
   "id": "1f93e94a",
   "metadata": {},
   "outputs": [
    {
     "data": {
      "text/plain": [
       "(19182,)"
      ]
     },
     "execution_count": 17,
     "metadata": {},
     "output_type": "execute_result"
    }
   ],
   "source": [
    "y_train.shape"
   ]
  },
  {
   "cell_type": "code",
   "execution_count": 18,
   "id": "42d93c9f",
   "metadata": {},
   "outputs": [
    {
     "data": {
      "text/plain": [
       "(9448,)"
      ]
     },
     "execution_count": 18,
     "metadata": {},
     "output_type": "execute_result"
    }
   ],
   "source": [
    "y_test.shape"
   ]
  },
  {
   "cell_type": "markdown",
   "id": "54d1fc46",
   "metadata": {},
   "source": [
    "# LOGISTIC REGRESSION"
   ]
  },
  {
   "cell_type": "code",
   "execution_count": 19,
   "id": "41deef81",
   "metadata": {},
   "outputs": [],
   "source": [
    "from sklearn.linear_model import LogisticRegression\n",
    "LR = LogisticRegression(penalty= 'l1', solver='saga')"
   ]
  },
  {
   "cell_type": "code",
   "execution_count": 20,
   "id": "9f188283",
   "metadata": {},
   "outputs": [],
   "source": [
    "param_grid = [    \n",
    "    {#'penalty' : ['l1', 'l2', 'elasticnet', 'none'],\n",
    "    'C' : np.logspace(-4, 4, 20)\n",
    "    }\n",
    "]"
   ]
  },
  {
   "cell_type": "code",
   "execution_count": 21,
   "id": "a2f33370",
   "metadata": {},
   "outputs": [],
   "source": [
    "from sklearn.model_selection import GridSearchCV\n",
    "clf = GridSearchCV(LR, param_grid = param_grid, cv = 3, verbose=True, n_jobs=-1)"
   ]
  },
  {
   "cell_type": "code",
   "execution_count": 22,
   "id": "60bde1e3",
   "metadata": {},
   "outputs": [
    {
     "name": "stdout",
     "output_type": "stream",
     "text": [
      "Fitting 3 folds for each of 20 candidates, totalling 60 fits\n"
     ]
    },
    {
     "name": "stderr",
     "output_type": "stream",
     "text": [
      "C:\\ProgramData\\Anaconda3\\lib\\site-packages\\sklearn\\linear_model\\_sag.py:328: ConvergenceWarning: The max_iter was reached which means the coef_ did not converge\n",
      "  warnings.warn(\"The max_iter was reached which means \"\n"
     ]
    }
   ],
   "source": [
    "best_clf = clf.fit(X_train,y_train)"
   ]
  },
  {
   "cell_type": "code",
   "execution_count": 23,
   "id": "b9fd1ad8",
   "metadata": {},
   "outputs": [
    {
     "data": {
      "text/plain": [
       "LogisticRegression(C=0.0001, penalty='l1', solver='saga')"
      ]
     },
     "execution_count": 23,
     "metadata": {},
     "output_type": "execute_result"
    }
   ],
   "source": [
    "best_clf.best_estimator_"
   ]
  },
  {
   "cell_type": "code",
   "execution_count": 24,
   "id": "728b6b0c",
   "metadata": {},
   "outputs": [
    {
     "name": "stdout",
     "output_type": "stream",
     "text": [
      "Accuracy: 0.808\n"
     ]
    }
   ],
   "source": [
    "print (f'Accuracy: {best_clf.score(X_train,y_train):.3f}')"
   ]
  },
  {
   "cell_type": "code",
   "execution_count": 25,
   "id": "3520abea",
   "metadata": {},
   "outputs": [],
   "source": [
    "y_pred_LR = best_clf.predict(X_test)"
   ]
  },
  {
   "cell_type": "code",
   "execution_count": 26,
   "id": "2b97a09a",
   "metadata": {},
   "outputs": [
    {
     "data": {
      "text/plain": [
       "array([[7233,  132],\n",
       "       [1721,  362]], dtype=int64)"
      ]
     },
     "execution_count": 26,
     "metadata": {},
     "output_type": "execute_result"
    }
   ],
   "source": [
    "from sklearn.metrics import confusion_matrix\n",
    "confusion_matrix(y_test,y_pred_LR)"
   ]
  },
  {
   "cell_type": "code",
   "execution_count": 27,
   "id": "53922579",
   "metadata": {},
   "outputs": [
    {
     "name": "stdout",
     "output_type": "stream",
     "text": [
      "Classification report - \n",
      "               precision    recall  f1-score   support\n",
      "\n",
      "           0       0.81      0.98      0.89      7365\n",
      "           1       0.73      0.17      0.28      2083\n",
      "\n",
      "    accuracy                           0.80      9448\n",
      "   macro avg       0.77      0.58      0.58      9448\n",
      "weighted avg       0.79      0.80      0.75      9448\n",
      "\n"
     ]
    }
   ],
   "source": [
    "from sklearn.metrics import classification_report\n",
    "print(\"Classification report - \\n\", classification_report(y_test,y_pred_LR))"
   ]
  },
  {
   "cell_type": "markdown",
   "id": "1e80b340",
   "metadata": {},
   "source": [
    "### penalty= 'l2', solver='saga'"
   ]
  },
  {
   "cell_type": "code",
   "execution_count": 28,
   "id": "73776924",
   "metadata": {},
   "outputs": [
    {
     "data": {
      "text/plain": [
       "LogisticRegression(solver='liblinear')"
      ]
     },
     "execution_count": 28,
     "metadata": {},
     "output_type": "execute_result"
    }
   ],
   "source": [
    "LR = LogisticRegression(penalty= 'l2', solver='liblinear')\n",
    "LR.fit(X_train,y_train)"
   ]
  },
  {
   "cell_type": "code",
   "execution_count": 30,
   "id": "8f7b0dbb",
   "metadata": {},
   "outputs": [],
   "source": [
    "y_pred_LR = LR.predict(X_test)"
   ]
  },
  {
   "cell_type": "code",
   "execution_count": 31,
   "id": "bd51fdee",
   "metadata": {},
   "outputs": [
    {
     "data": {
      "text/plain": [
       "array([[7232,  133],\n",
       "       [1604,  479]], dtype=int64)"
      ]
     },
     "execution_count": 31,
     "metadata": {},
     "output_type": "execute_result"
    }
   ],
   "source": [
    "confusion_matrix(y_test,y_pred_LR)"
   ]
  },
  {
   "cell_type": "code",
   "execution_count": 32,
   "id": "9d4c12ce",
   "metadata": {},
   "outputs": [
    {
     "name": "stdout",
     "output_type": "stream",
     "text": [
      "Classification report - \n",
      "               precision    recall  f1-score   support\n",
      "\n",
      "           0       0.82      0.98      0.89      7365\n",
      "           1       0.78      0.23      0.36      2083\n",
      "\n",
      "    accuracy                           0.82      9448\n",
      "   macro avg       0.80      0.61      0.62      9448\n",
      "weighted avg       0.81      0.82      0.77      9448\n",
      "\n"
     ]
    }
   ],
   "source": [
    "print(\"Classification report - \\n\", classification_report(y_test,y_pred_LR))"
   ]
  },
  {
   "cell_type": "code",
   "execution_count": 34,
   "id": "149d4400",
   "metadata": {},
   "outputs": [
    {
     "data": {
      "text/plain": [
       "0.816151566469094"
      ]
     },
     "execution_count": 34,
     "metadata": {},
     "output_type": "execute_result"
    }
   ],
   "source": [
    "from sklearn.metrics import accuracy_score\n",
    "accuracy_score(y_test,y_pred_LR)"
   ]
  },
  {
   "cell_type": "markdown",
   "id": "b35dc568",
   "metadata": {},
   "source": [
    "# Decision Tree"
   ]
  },
  {
   "cell_type": "code",
   "execution_count": 36,
   "id": "bce2513c",
   "metadata": {},
   "outputs": [],
   "source": [
    "from sklearn.tree import DecisionTreeClassifier#for checking testing results\n",
    "from sklearn.metrics import classification_report, confusion_matrix#for visualizing tree "
   ]
  },
  {
   "cell_type": "code",
   "execution_count": 37,
   "id": "5e98db05",
   "metadata": {},
   "outputs": [
    {
     "name": "stdout",
     "output_type": "stream",
     "text": [
      "Decision Tree Classifier Created\n"
     ]
    }
   ],
   "source": [
    "# Defining the decision tree algorithm\n",
    "dtree=DecisionTreeClassifier(max_depth=100)\n",
    "dtree.fit(X_train,y_train)\n",
    "print('Decision Tree Classifier Created')"
   ]
  },
  {
   "cell_type": "code",
   "execution_count": 38,
   "id": "eb8f522c",
   "metadata": {},
   "outputs": [
    {
     "name": "stdout",
     "output_type": "stream",
     "text": [
      "Classification report - \n",
      "               precision    recall  f1-score   support\n",
      "\n",
      "           0       0.93      0.92      0.93      7365\n",
      "           1       0.73      0.77      0.75      2083\n",
      "\n",
      "    accuracy                           0.89      9448\n",
      "   macro avg       0.83      0.84      0.84      9448\n",
      "weighted avg       0.89      0.89      0.89      9448\n",
      "\n"
     ]
    }
   ],
   "source": [
    "# Predicting the values of test data\n",
    "y_pred_DT = dtree.predict(X_test)\n",
    "print(\"Classification report - \\n\", classification_report(y_test,y_pred_DT))"
   ]
  },
  {
   "cell_type": "code",
   "execution_count": 39,
   "id": "25450fa7",
   "metadata": {},
   "outputs": [
    {
     "data": {
      "text/plain": [
       "array([[6781,  584],\n",
       "       [ 481, 1602]], dtype=int64)"
      ]
     },
     "execution_count": 39,
     "metadata": {},
     "output_type": "execute_result"
    }
   ],
   "source": [
    "from sklearn.metrics import confusion_matrix\n",
    "confusion_matrix(y_test,y_pred_DT)"
   ]
  },
  {
   "cell_type": "code",
   "execution_count": 40,
   "id": "5e212ee0",
   "metadata": {},
   "outputs": [
    {
     "data": {
      "text/plain": [
       "0.8872777307366638"
      ]
     },
     "execution_count": 40,
     "metadata": {},
     "output_type": "execute_result"
    }
   ],
   "source": [
    "from sklearn.metrics import accuracy_score\n",
    "accuracy_score(y_test,y_pred_DT)"
   ]
  },
  {
   "cell_type": "markdown",
   "id": "37883f72",
   "metadata": {},
   "source": [
    "# RANDOM FOREST"
   ]
  },
  {
   "cell_type": "code",
   "execution_count": 41,
   "id": "608ca6c0",
   "metadata": {},
   "outputs": [
    {
     "data": {
      "text/plain": [
       "RandomForestClassifier(n_estimators=50)"
      ]
     },
     "execution_count": 41,
     "metadata": {},
     "output_type": "execute_result"
    }
   ],
   "source": [
    "from sklearn.ensemble import RandomForestClassifier\n",
    "RF = RandomForestClassifier(n_estimators=50)\n",
    "\n",
    "#RF.fit(X_train_scaled,y_train)\n",
    "RF.fit(X_train,y_train)"
   ]
  },
  {
   "cell_type": "code",
   "execution_count": 42,
   "id": "4777d870",
   "metadata": {},
   "outputs": [],
   "source": [
    "#y_pred_RF = RF.predict(X_test_scaled)\n",
    "y_pred_RF = RF.predict(X_test)"
   ]
  },
  {
   "cell_type": "code",
   "execution_count": 43,
   "id": "78d73f37",
   "metadata": {},
   "outputs": [
    {
     "data": {
      "text/plain": [
       "array([[7298,   67],\n",
       "       [ 595, 1488]], dtype=int64)"
      ]
     },
     "execution_count": 43,
     "metadata": {},
     "output_type": "execute_result"
    }
   ],
   "source": [
    "from sklearn.metrics import confusion_matrix\n",
    "confusion_matrix(y_test,y_pred_RF)"
   ]
  },
  {
   "cell_type": "code",
   "execution_count": 45,
   "id": "7bee55f6",
   "metadata": {},
   "outputs": [
    {
     "data": {
      "text/plain": [
       "0.9299322607959356"
      ]
     },
     "execution_count": 45,
     "metadata": {},
     "output_type": "execute_result"
    }
   ],
   "source": [
    "from sklearn.metrics import accuracy_score\n",
    "accuracy_score(y_test,y_pred_RF)"
   ]
  },
  {
   "cell_type": "code",
   "execution_count": 44,
   "id": "3e3a33a1",
   "metadata": {},
   "outputs": [
    {
     "name": "stdout",
     "output_type": "stream",
     "text": [
      "Classification report - \n",
      "               precision    recall  f1-score   support\n",
      "\n",
      "           0       0.92      0.99      0.96      7365\n",
      "           1       0.96      0.71      0.82      2083\n",
      "\n",
      "    accuracy                           0.93      9448\n",
      "   macro avg       0.94      0.85      0.89      9448\n",
      "weighted avg       0.93      0.93      0.93      9448\n",
      "\n"
     ]
    }
   ],
   "source": [
    "print(\"Classification report - \\n\", classification_report(y_test,y_pred_RF))"
   ]
  },
  {
   "cell_type": "markdown",
   "id": "5c3f50d6",
   "metadata": {},
   "source": [
    "# Neural Network"
   ]
  },
  {
   "cell_type": "code",
   "execution_count": 46,
   "id": "3538cce3",
   "metadata": {},
   "outputs": [],
   "source": [
    "from keras.models import Sequential\n",
    "from keras.layers import Dense\n",
    "from keras.layers import Dropout\n",
    "import keras"
   ]
  },
  {
   "cell_type": "code",
   "execution_count": 48,
   "id": "8d21f3d9",
   "metadata": {},
   "outputs": [
    {
     "name": "stdout",
     "output_type": "stream",
     "text": [
      "Epoch 1/200\n"
     ]
    },
    {
     "name": "stderr",
     "output_type": "stream",
     "text": [
      "C:\\Users\\My Pc\\AppData\\Roaming\\Python\\Python38\\site-packages\\keras\\optimizer_v2\\adam.py:105: UserWarning: The `lr` argument is deprecated, use `learning_rate` instead.\n",
      "  super(Adam, self).__init__(name, **kwargs)\n"
     ]
    },
    {
     "name": "stdout",
     "output_type": "stream",
     "text": [
      "20/20 [==============================] - 1s 3ms/step - loss: 2453.1738 - accuracy: 0.7547\n",
      "Epoch 2/200\n",
      "20/20 [==============================] - 0s 4ms/step - loss: 1515.3849 - accuracy: 0.6626\n",
      "Epoch 3/200\n",
      "20/20 [==============================] - 0s 4ms/step - loss: 1164.7732 - accuracy: 0.6926\n",
      "Epoch 4/200\n",
      "20/20 [==============================] - 0s 3ms/step - loss: 892.7590 - accuracy: 0.6877\n",
      "Epoch 5/200\n",
      "20/20 [==============================] - 0s 4ms/step - loss: 696.5309 - accuracy: 0.6937\n",
      "Epoch 6/200\n",
      "20/20 [==============================] - 0s 3ms/step - loss: 485.1662 - accuracy: 0.6944\n",
      "Epoch 7/200\n",
      "20/20 [==============================] - 0s 3ms/step - loss: 309.3263 - accuracy: 0.6408\n",
      "Epoch 8/200\n",
      "20/20 [==============================] - 0s 3ms/step - loss: 160.5465 - accuracy: 0.5180\n",
      "Epoch 9/200\n",
      "20/20 [==============================] - 0s 4ms/step - loss: 84.2223 - accuracy: 0.7377\n",
      "Epoch 10/200\n",
      "20/20 [==============================] - 0s 3ms/step - loss: 57.3941 - accuracy: 0.7478\n",
      "Epoch 11/200\n",
      "20/20 [==============================] - 0s 3ms/step - loss: 38.4389 - accuracy: 0.7596\n",
      "Epoch 12/200\n",
      "20/20 [==============================] - 0s 3ms/step - loss: 29.5985 - accuracy: 0.7670\n",
      "Epoch 13/200\n",
      "20/20 [==============================] - 0s 4ms/step - loss: 21.3855 - accuracy: 0.7689\n",
      "Epoch 14/200\n",
      "20/20 [==============================] - 0s 3ms/step - loss: 18.6871 - accuracy: 0.7732\n",
      "Epoch 15/200\n",
      "20/20 [==============================] - 0s 3ms/step - loss: 17.8130 - accuracy: 0.7716\n",
      "Epoch 16/200\n",
      "20/20 [==============================] - 0s 3ms/step - loss: 14.5014 - accuracy: 0.7745\n",
      "Epoch 17/200\n",
      "20/20 [==============================] - 0s 3ms/step - loss: 13.0306 - accuracy: 0.7768\n",
      "Epoch 18/200\n",
      "20/20 [==============================] - 0s 3ms/step - loss: 11.2252 - accuracy: 0.7771\n",
      "Epoch 19/200\n",
      "20/20 [==============================] - 0s 3ms/step - loss: 9.5836 - accuracy: 0.7740\n",
      "Epoch 20/200\n",
      "20/20 [==============================] - 0s 3ms/step - loss: 9.0805 - accuracy: 0.7765\n",
      "Epoch 21/200\n",
      "20/20 [==============================] - 0s 3ms/step - loss: 7.1018 - accuracy: 0.7781\n",
      "Epoch 22/200\n",
      "20/20 [==============================] - 0s 3ms/step - loss: 7.3663 - accuracy: 0.7784\n",
      "Epoch 23/200\n",
      "20/20 [==============================] - 0s 3ms/step - loss: 6.8304 - accuracy: 0.7801\n",
      "Epoch 24/200\n",
      "20/20 [==============================] - 0s 3ms/step - loss: 4.7627 - accuracy: 0.7794\n",
      "Epoch 25/200\n",
      "20/20 [==============================] - 0s 3ms/step - loss: 6.6014 - accuracy: 0.7807\n",
      "Epoch 26/200\n",
      "20/20 [==============================] - 0s 3ms/step - loss: 4.7743 - accuracy: 0.7810\n",
      "Epoch 27/200\n",
      "20/20 [==============================] - 0s 3ms/step - loss: 4.6288 - accuracy: 0.7799\n",
      "Epoch 28/200\n",
      "20/20 [==============================] - 0s 3ms/step - loss: 4.2623 - accuracy: 0.7814\n",
      "Epoch 29/200\n",
      "20/20 [==============================] - 0s 3ms/step - loss: 3.8076 - accuracy: 0.7816\n",
      "Epoch 30/200\n",
      "20/20 [==============================] - 0s 3ms/step - loss: 3.4775 - accuracy: 0.7823\n",
      "Epoch 31/200\n",
      "20/20 [==============================] - 0s 3ms/step - loss: 4.2511 - accuracy: 0.7814\n",
      "Epoch 32/200\n",
      "20/20 [==============================] - 0s 4ms/step - loss: 3.5445 - accuracy: 0.7818\n",
      "Epoch 33/200\n",
      "20/20 [==============================] - 0s 3ms/step - loss: 3.9001 - accuracy: 0.7824\n",
      "Epoch 34/200\n",
      "20/20 [==============================] - 0s 3ms/step - loss: 2.8123 - accuracy: 0.7813\n",
      "Epoch 35/200\n",
      "20/20 [==============================] - 0s 3ms/step - loss: 2.8201 - accuracy: 0.7818\n",
      "Epoch 36/200\n",
      "20/20 [==============================] - 0s 3ms/step - loss: 2.6057 - accuracy: 0.7817\n",
      "Epoch 37/200\n",
      "20/20 [==============================] - 0s 3ms/step - loss: 2.4043 - accuracy: 0.7813\n",
      "Epoch 38/200\n",
      "20/20 [==============================] - 0s 3ms/step - loss: 2.4771 - accuracy: 0.7823\n",
      "Epoch 39/200\n",
      "20/20 [==============================] - 0s 3ms/step - loss: 2.5946 - accuracy: 0.7845\n",
      "Epoch 40/200\n",
      "20/20 [==============================] - 0s 3ms/step - loss: 2.4435 - accuracy: 0.7841\n",
      "Epoch 41/200\n",
      "20/20 [==============================] - 0s 3ms/step - loss: 1.8187 - accuracy: 0.7843\n",
      "Epoch 42/200\n",
      "20/20 [==============================] - 0s 3ms/step - loss: 1.5454 - accuracy: 0.7843\n",
      "Epoch 43/200\n",
      "20/20 [==============================] - 0s 3ms/step - loss: 1.6345 - accuracy: 0.7842\n",
      "Epoch 44/200\n",
      "20/20 [==============================] - 0s 3ms/step - loss: 1.8158 - accuracy: 0.7837\n",
      "Epoch 45/200\n",
      "20/20 [==============================] - 0s 3ms/step - loss: 1.5346 - accuracy: 0.7844\n",
      "Epoch 46/200\n",
      "20/20 [==============================] - 0s 4ms/step - loss: 2.2260 - accuracy: 0.7843\n",
      "Epoch 47/200\n",
      "20/20 [==============================] - 0s 3ms/step - loss: 2.3002 - accuracy: 0.7839\n",
      "Epoch 48/200\n",
      "20/20 [==============================] - 0s 3ms/step - loss: 1.7346 - accuracy: 0.7845\n",
      "Epoch 49/200\n",
      "20/20 [==============================] - 0s 3ms/step - loss: 1.6274 - accuracy: 0.7849\n",
      "Epoch 50/200\n",
      "20/20 [==============================] - 0s 3ms/step - loss: 1.4297 - accuracy: 0.7846\n",
      "Epoch 51/200\n",
      "20/20 [==============================] - 0s 3ms/step - loss: 1.2796 - accuracy: 0.7845\n",
      "Epoch 52/200\n",
      "20/20 [==============================] - 0s 3ms/step - loss: 1.5911 - accuracy: 0.7847\n",
      "Epoch 53/200\n",
      "20/20 [==============================] - 0s 3ms/step - loss: 1.4547 - accuracy: 0.7850\n",
      "Epoch 54/200\n",
      "20/20 [==============================] - 0s 4ms/step - loss: 0.9769 - accuracy: 0.7852\n",
      "Epoch 55/200\n",
      "20/20 [==============================] - 0s 3ms/step - loss: 1.7426 - accuracy: 0.7843\n",
      "Epoch 56/200\n",
      "20/20 [==============================] - 0s 3ms/step - loss: 1.1146 - accuracy: 0.7846\n",
      "Epoch 57/200\n",
      "20/20 [==============================] - 0s 3ms/step - loss: 1.3967 - accuracy: 0.7847\n",
      "Epoch 58/200\n",
      "20/20 [==============================] - 0s 3ms/step - loss: 1.4695 - accuracy: 0.7847\n",
      "Epoch 59/200\n",
      "20/20 [==============================] - 0s 2ms/step - loss: 1.0922 - accuracy: 0.7851\n",
      "Epoch 60/200\n",
      "20/20 [==============================] - 0s 2ms/step - loss: 1.4617 - accuracy: 0.7850\n",
      "Epoch 61/200\n",
      "20/20 [==============================] - 0s 2ms/step - loss: 0.9167 - accuracy: 0.7847\n",
      "Epoch 62/200\n",
      "20/20 [==============================] - 0s 2ms/step - loss: 1.3374 - accuracy: 0.7847\n",
      "Epoch 63/200\n",
      "20/20 [==============================] - 0s 3ms/step - loss: 1.3206 - accuracy: 0.7850\n",
      "Epoch 64/200\n",
      "20/20 [==============================] - 0s 3ms/step - loss: 1.5515 - accuracy: 0.7845\n",
      "Epoch 65/200\n",
      "20/20 [==============================] - 0s 3ms/step - loss: 1.5497 - accuracy: 0.7851\n",
      "Epoch 66/200\n",
      "20/20 [==============================] - 0s 3ms/step - loss: 1.0812 - accuracy: 0.7850\n",
      "Epoch 67/200\n",
      "20/20 [==============================] - 0s 3ms/step - loss: 1.4356 - accuracy: 0.7852\n",
      "Epoch 68/200\n",
      "20/20 [==============================] - 0s 4ms/step - loss: 1.1830 - accuracy: 0.7850\n",
      "Epoch 69/200\n",
      "20/20 [==============================] - 0s 3ms/step - loss: 1.1474 - accuracy: 0.7850\n",
      "Epoch 70/200\n",
      "20/20 [==============================] - 0s 3ms/step - loss: 1.2541 - accuracy: 0.7847\n",
      "Epoch 71/200\n",
      "20/20 [==============================] - 0s 3ms/step - loss: 1.0062 - accuracy: 0.7847\n",
      "Epoch 72/200\n",
      "20/20 [==============================] - 0s 3ms/step - loss: 1.2881 - accuracy: 0.7850\n",
      "Epoch 73/200\n",
      "20/20 [==============================] - 0s 3ms/step - loss: 1.0822 - accuracy: 0.7850\n",
      "Epoch 74/200\n",
      "20/20 [==============================] - 0s 3ms/step - loss: 1.0583 - accuracy: 0.7848\n",
      "Epoch 75/200\n",
      "20/20 [==============================] - 0s 3ms/step - loss: 0.8758 - accuracy: 0.7849\n",
      "Epoch 76/200\n",
      "20/20 [==============================] - 0s 3ms/step - loss: 1.1068 - accuracy: 0.7850\n",
      "Epoch 77/200\n",
      "20/20 [==============================] - 0s 3ms/step - loss: 0.8864 - accuracy: 0.7850\n",
      "Epoch 78/200\n",
      "20/20 [==============================] - 0s 3ms/step - loss: 0.9906 - accuracy: 0.7850\n",
      "Epoch 79/200\n",
      "20/20 [==============================] - 0s 3ms/step - loss: 1.0481 - accuracy: 0.7851\n",
      "Epoch 80/200\n",
      "20/20 [==============================] - 0s 2ms/step - loss: 0.8338 - accuracy: 0.7851\n",
      "Epoch 81/200\n",
      "20/20 [==============================] - 0s 3ms/step - loss: 0.9944 - accuracy: 0.7851\n",
      "Epoch 82/200\n"
     ]
    },
    {
     "name": "stdout",
     "output_type": "stream",
     "text": [
      "20/20 [==============================] - 0s 4ms/step - loss: 0.8994 - accuracy: 0.7852\n",
      "Epoch 83/200\n",
      "20/20 [==============================] - 0s 3ms/step - loss: 0.8396 - accuracy: 0.7850\n",
      "Epoch 84/200\n",
      "20/20 [==============================] - 0s 4ms/step - loss: 0.9436 - accuracy: 0.7847\n",
      "Epoch 85/200\n",
      "20/20 [==============================] - 0s 3ms/step - loss: 1.0631 - accuracy: 0.7853\n",
      "Epoch 86/200\n",
      "20/20 [==============================] - 0s 3ms/step - loss: 1.0976 - accuracy: 0.7852\n",
      "Epoch 87/200\n",
      "20/20 [==============================] - 0s 3ms/step - loss: 1.0105 - accuracy: 0.7851\n",
      "Epoch 88/200\n",
      "20/20 [==============================] - 0s 3ms/step - loss: 0.7793 - accuracy: 0.7852\n",
      "Epoch 89/200\n",
      "20/20 [==============================] - 0s 3ms/step - loss: 0.7402 - accuracy: 0.7851\n",
      "Epoch 90/200\n",
      "20/20 [==============================] - 0s 3ms/step - loss: 0.9580 - accuracy: 0.7848\n",
      "Epoch 91/200\n",
      "20/20 [==============================] - 0s 3ms/step - loss: 0.8325 - accuracy: 0.7852\n",
      "Epoch 92/200\n",
      "20/20 [==============================] - 0s 3ms/step - loss: 0.8467 - accuracy: 0.7852\n",
      "Epoch 93/200\n",
      "20/20 [==============================] - 0s 2ms/step - loss: 0.8495 - accuracy: 0.7852\n",
      "Epoch 94/200\n",
      "20/20 [==============================] - 0s 3ms/step - loss: 0.8732 - accuracy: 0.7851\n",
      "Epoch 95/200\n",
      "20/20 [==============================] - 0s 4ms/step - loss: 0.7649 - accuracy: 0.7851\n",
      "Epoch 96/200\n",
      "20/20 [==============================] - 0s 4ms/step - loss: 0.7290 - accuracy: 0.7852\n",
      "Epoch 97/200\n",
      "20/20 [==============================] - 0s 3ms/step - loss: 0.8835 - accuracy: 0.7851\n",
      "Epoch 98/200\n",
      "20/20 [==============================] - 0s 3ms/step - loss: 0.8638 - accuracy: 0.7850\n",
      "Epoch 99/200\n",
      "20/20 [==============================] - 0s 3ms/step - loss: 1.0643 - accuracy: 0.7851\n",
      "Epoch 100/200\n",
      "20/20 [==============================] - 0s 3ms/step - loss: 0.8045 - accuracy: 0.7851\n",
      "Epoch 101/200\n",
      "20/20 [==============================] - 0s 3ms/step - loss: 0.7674 - accuracy: 0.7851\n",
      "Epoch 102/200\n",
      "20/20 [==============================] - 0s 3ms/step - loss: 0.9878 - accuracy: 0.7848\n",
      "Epoch 103/200\n",
      "20/20 [==============================] - 0s 3ms/step - loss: 0.8212 - accuracy: 0.7851\n",
      "Epoch 104/200\n",
      "20/20 [==============================] - 0s 3ms/step - loss: 0.9336 - accuracy: 0.7847\n",
      "Epoch 105/200\n",
      "20/20 [==============================] - 0s 3ms/step - loss: 0.7358 - accuracy: 0.7851\n",
      "Epoch 106/200\n",
      "20/20 [==============================] - 0s 3ms/step - loss: 0.7616 - accuracy: 0.7852\n",
      "Epoch 107/200\n",
      "20/20 [==============================] - 0s 3ms/step - loss: 0.6783 - accuracy: 0.7853\n",
      "Epoch 108/200\n",
      "20/20 [==============================] - 0s 3ms/step - loss: 0.8035 - accuracy: 0.7847\n",
      "Epoch 109/200\n",
      "20/20 [==============================] - 0s 3ms/step - loss: 0.8902 - accuracy: 0.7850\n",
      "Epoch 110/200\n",
      "20/20 [==============================] - 0s 2ms/step - loss: 0.6740 - accuracy: 0.7849\n",
      "Epoch 111/200\n",
      "20/20 [==============================] - 0s 3ms/step - loss: 0.7241 - accuracy: 0.7850\n",
      "Epoch 112/200\n",
      "20/20 [==============================] - 0s 2ms/step - loss: 0.8315 - accuracy: 0.7852\n",
      "Epoch 113/200\n",
      "20/20 [==============================] - 0s 2ms/step - loss: 0.7283 - accuracy: 0.7842\n",
      "Epoch 114/200\n",
      "20/20 [==============================] - 0s 3ms/step - loss: 0.7290 - accuracy: 0.7853\n",
      "Epoch 115/200\n",
      "20/20 [==============================] - 0s 3ms/step - loss: 0.7508 - accuracy: 0.7852\n",
      "Epoch 116/200\n",
      "20/20 [==============================] - 0s 3ms/step - loss: 0.7685 - accuracy: 0.7852\n",
      "Epoch 117/200\n",
      "20/20 [==============================] - 0s 2ms/step - loss: 0.7926 - accuracy: 0.7850\n",
      "Epoch 118/200\n",
      "20/20 [==============================] - 0s 3ms/step - loss: 0.8400 - accuracy: 0.7853\n",
      "Epoch 119/200\n",
      "20/20 [==============================] - 0s 3ms/step - loss: 0.7266 - accuracy: 0.7851\n",
      "Epoch 120/200\n",
      "20/20 [==============================] - 0s 3ms/step - loss: 0.7450 - accuracy: 0.7852\n",
      "Epoch 121/200\n",
      "20/20 [==============================] - 0s 2ms/step - loss: 0.7485 - accuracy: 0.7850\n",
      "Epoch 122/200\n",
      "20/20 [==============================] - 0s 3ms/step - loss: 0.6060 - accuracy: 0.7851\n",
      "Epoch 123/200\n",
      "20/20 [==============================] - 0s 3ms/step - loss: 0.7423 - accuracy: 0.7852\n",
      "Epoch 124/200\n",
      "20/20 [==============================] - 0s 3ms/step - loss: 0.7525 - accuracy: 0.7851\n",
      "Epoch 125/200\n",
      "20/20 [==============================] - 0s 3ms/step - loss: 0.7356 - accuracy: 0.7852\n",
      "Epoch 126/200\n",
      "20/20 [==============================] - 0s 3ms/step - loss: 0.6746 - accuracy: 0.7853\n",
      "Epoch 127/200\n",
      "20/20 [==============================] - 0s 3ms/step - loss: 0.6526 - accuracy: 0.7850\n",
      "Epoch 128/200\n",
      "20/20 [==============================] - 0s 2ms/step - loss: 0.6320 - accuracy: 0.7853\n",
      "Epoch 129/200\n",
      "20/20 [==============================] - 0s 3ms/step - loss: 0.6199 - accuracy: 0.7853\n",
      "Epoch 130/200\n",
      "20/20 [==============================] - 0s 4ms/step - loss: 0.6529 - accuracy: 0.7852\n",
      "Epoch 131/200\n",
      "20/20 [==============================] - 0s 3ms/step - loss: 0.5418 - accuracy: 0.7853\n",
      "Epoch 132/200\n",
      "20/20 [==============================] - 0s 3ms/step - loss: 0.7444 - accuracy: 0.7849\n",
      "Epoch 133/200\n",
      "20/20 [==============================] - 0s 3ms/step - loss: 0.5684 - accuracy: 0.7852\n",
      "Epoch 134/200\n",
      "20/20 [==============================] - 0s 3ms/step - loss: 0.5744 - accuracy: 0.7851\n",
      "Epoch 135/200\n",
      "20/20 [==============================] - 0s 2ms/step - loss: 0.5894 - accuracy: 0.7853\n",
      "Epoch 136/200\n",
      "20/20 [==============================] - 0s 3ms/step - loss: 0.7395 - accuracy: 0.7850\n",
      "Epoch 137/200\n",
      "20/20 [==============================] - 0s 3ms/step - loss: 0.5341 - accuracy: 0.7853\n",
      "Epoch 138/200\n",
      "20/20 [==============================] - 0s 3ms/step - loss: 0.6243 - accuracy: 0.7852\n",
      "Epoch 139/200\n",
      "20/20 [==============================] - 0s 3ms/step - loss: 0.6074 - accuracy: 0.7854\n",
      "Epoch 140/200\n",
      "20/20 [==============================] - 0s 3ms/step - loss: 0.7246 - accuracy: 0.7851\n",
      "Epoch 141/200\n",
      "20/20 [==============================] - 0s 3ms/step - loss: 0.6454 - accuracy: 0.7852\n",
      "Epoch 142/200\n",
      "20/20 [==============================] - 0s 3ms/step - loss: 0.6658 - accuracy: 0.7852\n",
      "Epoch 143/200\n",
      "20/20 [==============================] - 0s 4ms/step - loss: 0.5865 - accuracy: 0.7852\n",
      "Epoch 144/200\n",
      "20/20 [==============================] - 0s 3ms/step - loss: 0.6871 - accuracy: 0.7851\n",
      "Epoch 145/200\n",
      "20/20 [==============================] - 0s 3ms/step - loss: 0.6293 - accuracy: 0.7852\n",
      "Epoch 146/200\n",
      "20/20 [==============================] - 0s 3ms/step - loss: 0.6922 - accuracy: 0.7851\n",
      "Epoch 147/200\n",
      "20/20 [==============================] - 0s 3ms/step - loss: 0.6302 - accuracy: 0.7853\n",
      "Epoch 148/200\n",
      "20/20 [==============================] - 0s 3ms/step - loss: 0.6226 - accuracy: 0.7851\n",
      "Epoch 149/200\n",
      "20/20 [==============================] - 0s 3ms/step - loss: 0.6994 - accuracy: 0.7853\n",
      "Epoch 150/200\n",
      "20/20 [==============================] - 0s 3ms/step - loss: 0.6753 - accuracy: 0.7854\n",
      "Epoch 151/200\n",
      "20/20 [==============================] - 0s 2ms/step - loss: 0.6282 - accuracy: 0.7850\n",
      "Epoch 152/200\n",
      "20/20 [==============================] - 0s 4ms/step - loss: 0.6443 - accuracy: 0.7850\n",
      "Epoch 153/200\n",
      "20/20 [==============================] - 0s 3ms/step - loss: 0.6932 - accuracy: 0.7852\n",
      "Epoch 154/200\n",
      "20/20 [==============================] - 0s 2ms/step - loss: 0.7287 - accuracy: 0.7850\n",
      "Epoch 155/200\n",
      "20/20 [==============================] - 0s 3ms/step - loss: 0.6161 - accuracy: 0.7854\n",
      "Epoch 156/200\n",
      "20/20 [==============================] - 0s 3ms/step - loss: 0.5378 - accuracy: 0.7853\n",
      "Epoch 157/200\n",
      "20/20 [==============================] - 0s 2ms/step - loss: 0.5669 - accuracy: 0.7839\n",
      "Epoch 158/200\n",
      "20/20 [==============================] - 0s 3ms/step - loss: 0.5991 - accuracy: 0.7851\n",
      "Epoch 159/200\n",
      "20/20 [==============================] - 0s 3ms/step - loss: 0.5769 - accuracy: 0.7851\n",
      "Epoch 160/200\n",
      "20/20 [==============================] - 0s 3ms/step - loss: 0.5460 - accuracy: 0.7854\n",
      "Epoch 161/200\n",
      "20/20 [==============================] - 0s 2ms/step - loss: 0.5538 - accuracy: 0.7854\n",
      "Epoch 162/200\n",
      "20/20 [==============================] - 0s 3ms/step - loss: 0.8226 - accuracy: 0.7853\n",
      "Epoch 163/200\n"
     ]
    },
    {
     "name": "stdout",
     "output_type": "stream",
     "text": [
      "20/20 [==============================] - 0s 2ms/step - loss: 0.6393 - accuracy: 0.7852\n",
      "Epoch 164/200\n",
      "20/20 [==============================] - 0s 2ms/step - loss: 0.6233 - accuracy: 0.7851\n",
      "Epoch 165/200\n",
      "20/20 [==============================] - 0s 3ms/step - loss: 0.6347 - accuracy: 0.7852\n",
      "Epoch 166/200\n",
      "20/20 [==============================] - 0s 3ms/step - loss: 0.5982 - accuracy: 0.7853\n",
      "Epoch 167/200\n",
      "20/20 [==============================] - 0s 2ms/step - loss: 0.5535 - accuracy: 0.7852\n",
      "Epoch 168/200\n",
      "20/20 [==============================] - 0s 3ms/step - loss: 0.5680 - accuracy: 0.7853\n",
      "Epoch 169/200\n",
      "20/20 [==============================] - 0s 3ms/step - loss: 0.5866 - accuracy: 0.7852\n",
      "Epoch 170/200\n",
      "20/20 [==============================] - 0s 3ms/step - loss: 0.5888 - accuracy: 0.7851\n",
      "Epoch 171/200\n",
      "20/20 [==============================] - 0s 3ms/step - loss: 0.5767 - accuracy: 0.7854\n",
      "Epoch 172/200\n",
      "20/20 [==============================] - 0s 3ms/step - loss: 0.6390 - accuracy: 0.7852\n",
      "Epoch 173/200\n",
      "20/20 [==============================] - 0s 3ms/step - loss: 0.5791 - accuracy: 0.7852\n",
      "Epoch 174/200\n",
      "20/20 [==============================] - 0s 3ms/step - loss: 0.5408 - accuracy: 0.7853\n",
      "Epoch 175/200\n",
      "20/20 [==============================] - 0s 3ms/step - loss: 0.6467 - accuracy: 0.7850\n",
      "Epoch 176/200\n",
      "20/20 [==============================] - 0s 3ms/step - loss: 0.6431 - accuracy: 0.7849\n",
      "Epoch 177/200\n",
      "20/20 [==============================] - 0s 3ms/step - loss: 0.5489 - accuracy: 0.7847\n",
      "Epoch 178/200\n",
      "20/20 [==============================] - 0s 2ms/step - loss: 0.5309 - accuracy: 0.7850\n",
      "Epoch 179/200\n",
      "20/20 [==============================] - 0s 4ms/step - loss: 0.6605 - accuracy: 0.7853\n",
      "Epoch 180/200\n",
      "20/20 [==============================] - 0s 2ms/step - loss: 0.9758 - accuracy: 0.7847\n",
      "Epoch 181/200\n",
      "20/20 [==============================] - 0s 3ms/step - loss: 0.6133 - accuracy: 0.7852\n",
      "Epoch 182/200\n",
      "20/20 [==============================] - 0s 3ms/step - loss: 0.5885 - accuracy: 0.7852\n",
      "Epoch 183/200\n",
      "20/20 [==============================] - 0s 3ms/step - loss: 0.6126 - accuracy: 0.7851\n",
      "Epoch 184/200\n",
      "20/20 [==============================] - 0s 3ms/step - loss: 0.5821 - accuracy: 0.7852\n",
      "Epoch 185/200\n",
      "20/20 [==============================] - 0s 3ms/step - loss: 0.5655 - accuracy: 0.7847\n",
      "Epoch 186/200\n",
      "20/20 [==============================] - 0s 3ms/step - loss: 0.5513 - accuracy: 0.7850\n",
      "Epoch 187/200\n",
      "20/20 [==============================] - 0s 2ms/step - loss: 0.6207 - accuracy: 0.7851\n",
      "Epoch 188/200\n",
      "20/20 [==============================] - 0s 3ms/step - loss: 0.6861 - accuracy: 0.7853\n",
      "Epoch 189/200\n",
      "20/20 [==============================] - 0s 2ms/step - loss: 0.6417 - accuracy: 0.7851\n",
      "Epoch 190/200\n",
      "20/20 [==============================] - 0s 4ms/step - loss: 0.5979 - accuracy: 0.7852\n",
      "Epoch 191/200\n",
      "20/20 [==============================] - 0s 2ms/step - loss: 0.5875 - accuracy: 0.7847\n",
      "Epoch 192/200\n",
      "20/20 [==============================] - 0s 3ms/step - loss: 0.5570 - accuracy: 0.7852\n",
      "Epoch 193/200\n",
      "20/20 [==============================] - 0s 3ms/step - loss: 0.6460 - accuracy: 0.7851\n",
      "Epoch 194/200\n",
      "20/20 [==============================] - 0s 3ms/step - loss: 0.5562 - accuracy: 0.7851\n",
      "Epoch 195/200\n",
      "20/20 [==============================] - 0s 3ms/step - loss: 0.6936 - accuracy: 0.7848\n",
      "Epoch 196/200\n",
      "20/20 [==============================] - 0s 3ms/step - loss: 0.5282 - accuracy: 0.7852\n",
      "Epoch 197/200\n",
      "20/20 [==============================] - 0s 2ms/step - loss: 0.5368 - accuracy: 0.7851\n",
      "Epoch 198/200\n",
      "20/20 [==============================] - 0s 3ms/step - loss: 0.5534 - accuracy: 0.7848\n",
      "Epoch 199/200\n",
      "20/20 [==============================] - 0s 3ms/step - loss: 0.5387 - accuracy: 0.7853\n",
      "Epoch 200/200\n",
      "20/20 [==============================] - 0s 3ms/step - loss: 0.7143 - accuracy: 0.7852\n",
      "296/296 [==============================] - 0s 963us/step - loss: 0.5276 - accuracy: 0.7795\n",
      "Accuracy: 77.95\n"
     ]
    }
   ],
   "source": [
    "# define the keras model\n",
    "import tensorflow as tf\n",
    "\n",
    "optimizer = tf.keras.optimizers.Adam(lr=0.001)\n",
    "model = Sequential()\n",
    "model.add(Dense(32, input_dim=43, activation='relu'))\n",
    "model.add(Dropout(0.2))\n",
    "model.add(Dense(8, activation='relu'))\n",
    "model.add(Dropout(0.2))\n",
    "model.add(Dense(1, activation='sigmoid'))\n",
    "model.compile(loss='binary_crossentropy', optimizer=optimizer, metrics=['accuracy'])\n",
    "model.fit(X_train, y_train, epochs=200, batch_size=1000)\n",
    "_, accuracy = model.evaluate(X_test, y_test)\n",
    "print('Accuracy: %.2f' % (accuracy*100))"
   ]
  },
  {
   "cell_type": "code",
   "execution_count": 49,
   "id": "4848e8bd",
   "metadata": {},
   "outputs": [],
   "source": [
    "loss, acc = model.evaluate(X_test, y_test, verbose=0)"
   ]
  },
  {
   "cell_type": "code",
   "execution_count": 50,
   "id": "d69b783b",
   "metadata": {},
   "outputs": [
    {
     "data": {
      "text/plain": [
       "0.5276073813438416"
      ]
     },
     "execution_count": 50,
     "metadata": {},
     "output_type": "execute_result"
    }
   ],
   "source": [
    "loss"
   ]
  },
  {
   "cell_type": "code",
   "execution_count": 51,
   "id": "33bb34e5",
   "metadata": {},
   "outputs": [
    {
     "data": {
      "text/plain": [
       "0.7795300483703613"
      ]
     },
     "execution_count": 51,
     "metadata": {},
     "output_type": "execute_result"
    }
   ],
   "source": [
    "acc"
   ]
  },
  {
   "cell_type": "code",
   "execution_count": 52,
   "id": "f1297e72",
   "metadata": {},
   "outputs": [],
   "source": [
    "predict_x=model.predict(X_test) \n",
    "yhat_classes=np.argmax(predict_x,axis=1)"
   ]
  },
  {
   "cell_type": "code",
   "execution_count": 58,
   "id": "f62fc36b",
   "metadata": {},
   "outputs": [
    {
     "name": "stdout",
     "output_type": "stream",
     "text": [
      "Accuracy: 0.779530\n",
      "Precision: 0.779530\n",
      "Recall: 1.000000\n",
      "F1 score: 0.876108\n",
      "[[7365    0]\n",
      " [2083    0]]\n"
     ]
    }
   ],
   "source": [
    "from sklearn.metrics import accuracy_score, f1_score, precision_score, recall_score, classification_report, confusion_matrix\n",
    "# accuracy: (tp + tn) / (p + n)\n",
    "accuracy = accuracy_score(y_test, yhat_classes)\n",
    "print(\"Accuracy: %f\" % accuracy)\n",
    "# precision tp / (tp + fp)\n",
    "precision = precision_score(y_test, yhat_classes, average='weighted', labels=np.unique(yhat_classes))\n",
    "print(\"Precision: %f\" % precision)\n",
    "# recall: tp / (tp + fn)\n",
    "recall = recall_score(y_test, yhat_classes, average='weighted', labels=np.unique(yhat_classes))\n",
    "print(\"Recall: %f\" % recall)\n",
    "# f1: 2 tp / (2 tp + fp + fn)\n",
    "f1 = f1_score(y_test, yhat_classes, average='weighted', labels=np.unique(yhat_classes))\n",
    "print(\"F1 score: %f\" % f1)\n",
    "\n",
    "# confusion matrix\n",
    "matrix = confusion_matrix(y_test, yhat_classes)\n",
    "print(matrix)"
   ]
  },
  {
   "cell_type": "code",
   "execution_count": null,
   "id": "47cba348",
   "metadata": {},
   "outputs": [],
   "source": []
  }
 ],
 "metadata": {
  "kernelspec": {
   "display_name": "Python 3",
   "language": "python",
   "name": "python3"
  },
  "language_info": {
   "codemirror_mode": {
    "name": "ipython",
    "version": 3
   },
   "file_extension": ".py",
   "mimetype": "text/x-python",
   "name": "python",
   "nbconvert_exporter": "python",
   "pygments_lexer": "ipython3",
   "version": "3.8.8"
  }
 },
 "nbformat": 4,
 "nbformat_minor": 5
}
