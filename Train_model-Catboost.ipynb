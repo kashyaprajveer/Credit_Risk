{
 "cells": [
  {
   "cell_type": "code",
   "execution_count": 1,
   "id": "08bc93ff",
   "metadata": {},
   "outputs": [
    {
     "name": "stderr",
     "output_type": "stream",
     "text": [
      "C:\\ProgramData\\Anaconda3\\lib\\site-packages\\numpy\\_distributor_init.py:30: UserWarning: loaded more than 1 DLL from .libs:\n",
      "C:\\ProgramData\\Anaconda3\\lib\\site-packages\\numpy\\.libs\\libopenblas.EL2C6PLE4ZYW3ECEVIV3OXXGRN2NRFM2.gfortran-win_amd64.dll\n",
      "C:\\ProgramData\\Anaconda3\\lib\\site-packages\\numpy\\.libs\\libopenblas.GK7GX5KEQ4F6UYO3P26ULGBQYHGQO7J4.gfortran-win_amd64.dll\n",
      "  warnings.warn(\"loaded more than 1 DLL from .libs:\"\n"
     ]
    }
   ],
   "source": [
    "import pandas as pd\n",
    "import numpy as np\n",
    "from sklearn.model_selection import train_test_split\n",
    "from catboost import CatBoostRegressor\n",
    "\n",
    "import warnings\n",
    "warnings.filterwarnings('ignore') "
   ]
  },
  {
   "cell_type": "code",
   "execution_count": 2,
   "id": "772593f6",
   "metadata": {},
   "outputs": [
    {
     "data": {
      "text/html": [
       "<div>\n",
       "<style scoped>\n",
       "    .dataframe tbody tr th:only-of-type {\n",
       "        vertical-align: middle;\n",
       "    }\n",
       "\n",
       "    .dataframe tbody tr th {\n",
       "        vertical-align: top;\n",
       "    }\n",
       "\n",
       "    .dataframe thead th {\n",
       "        text-align: right;\n",
       "    }\n",
       "</style>\n",
       "<table border=\"1\" class=\"dataframe\">\n",
       "  <thead>\n",
       "    <tr style=\"text-align: right;\">\n",
       "      <th></th>\n",
       "      <th>person_age</th>\n",
       "      <th>person_income</th>\n",
       "      <th>person_home_ownership</th>\n",
       "      <th>person_emp_length</th>\n",
       "      <th>loan_intent</th>\n",
       "      <th>loan_grade</th>\n",
       "      <th>loan_amnt</th>\n",
       "      <th>loan_int_rate</th>\n",
       "      <th>loan_status</th>\n",
       "      <th>loan_percent_income</th>\n",
       "      <th>cb_person_default_on_file</th>\n",
       "      <th>cb_person_cred_hist_length</th>\n",
       "      <th>age_group</th>\n",
       "      <th>income_group</th>\n",
       "      <th>loan_amount_group</th>\n",
       "      <th>loan_to_income_ratio</th>\n",
       "      <th>loan_to_emp_length_ratio</th>\n",
       "      <th>int_rate_to_loan_amt_ratio</th>\n",
       "    </tr>\n",
       "  </thead>\n",
       "  <tbody>\n",
       "    <tr>\n",
       "      <th>0</th>\n",
       "      <td>21</td>\n",
       "      <td>9600</td>\n",
       "      <td>OWN</td>\n",
       "      <td>5.0</td>\n",
       "      <td>EDUCATION</td>\n",
       "      <td>B</td>\n",
       "      <td>1000</td>\n",
       "      <td>11.14</td>\n",
       "      <td>0</td>\n",
       "      <td>0.10</td>\n",
       "      <td>N</td>\n",
       "      <td>2</td>\n",
       "      <td>20-25</td>\n",
       "      <td>low</td>\n",
       "      <td>small</td>\n",
       "      <td>0.104167</td>\n",
       "      <td>0.005000</td>\n",
       "      <td>0.01114</td>\n",
       "    </tr>\n",
       "    <tr>\n",
       "      <th>1</th>\n",
       "      <td>25</td>\n",
       "      <td>9600</td>\n",
       "      <td>MORTGAGE</td>\n",
       "      <td>1.0</td>\n",
       "      <td>MEDICAL</td>\n",
       "      <td>C</td>\n",
       "      <td>5500</td>\n",
       "      <td>12.87</td>\n",
       "      <td>1</td>\n",
       "      <td>0.57</td>\n",
       "      <td>N</td>\n",
       "      <td>3</td>\n",
       "      <td>20-25</td>\n",
       "      <td>low</td>\n",
       "      <td>medium</td>\n",
       "      <td>0.572917</td>\n",
       "      <td>0.000182</td>\n",
       "      <td>0.00234</td>\n",
       "    </tr>\n",
       "  </tbody>\n",
       "</table>\n",
       "</div>"
      ],
      "text/plain": [
       "   person_age  person_income person_home_ownership  person_emp_length  \\\n",
       "0          21           9600                   OWN                5.0   \n",
       "1          25           9600              MORTGAGE                1.0   \n",
       "\n",
       "  loan_intent loan_grade  loan_amnt  loan_int_rate  loan_status  \\\n",
       "0   EDUCATION          B       1000          11.14            0   \n",
       "1     MEDICAL          C       5500          12.87            1   \n",
       "\n",
       "   loan_percent_income cb_person_default_on_file  cb_person_cred_hist_length  \\\n",
       "0                 0.10                         N                           2   \n",
       "1                 0.57                         N                           3   \n",
       "\n",
       "  age_group income_group loan_amount_group  loan_to_income_ratio  \\\n",
       "0     20-25          low             small              0.104167   \n",
       "1     20-25          low            medium              0.572917   \n",
       "\n",
       "   loan_to_emp_length_ratio  int_rate_to_loan_amt_ratio  \n",
       "0                  0.005000                     0.01114  \n",
       "1                  0.000182                     0.00234  "
      ]
     },
     "execution_count": 2,
     "metadata": {},
     "output_type": "execute_result"
    }
   ],
   "source": [
    "df = pd.read_csv(\"./data/pre_processed_cat_credit.csv\")\n",
    "df.head(2)"
   ]
  },
  {
   "cell_type": "code",
   "execution_count": 3,
   "id": "63394596",
   "metadata": {},
   "outputs": [
    {
     "data": {
      "text/plain": [
       "Index(['person_age', 'person_income', 'person_home_ownership',\n",
       "       'person_emp_length', 'loan_intent', 'loan_grade', 'loan_amnt',\n",
       "       'loan_int_rate', 'loan_status', 'loan_percent_income',\n",
       "       'cb_person_default_on_file', 'cb_person_cred_hist_length', 'age_group',\n",
       "       'income_group', 'loan_amount_group', 'loan_to_income_ratio',\n",
       "       'loan_to_emp_length_ratio', 'int_rate_to_loan_amt_ratio'],\n",
       "      dtype='object')"
      ]
     },
     "execution_count": 3,
     "metadata": {},
     "output_type": "execute_result"
    }
   ],
   "source": [
    "df.columns"
   ]
  },
  {
   "cell_type": "code",
   "execution_count": 4,
   "id": "81dd4459",
   "metadata": {},
   "outputs": [
    {
     "data": {
      "text/plain": [
       "person_age                     0\n",
       "person_income                  0\n",
       "person_home_ownership          0\n",
       "person_emp_length              0\n",
       "loan_intent                    0\n",
       "loan_grade                     0\n",
       "loan_amnt                      0\n",
       "loan_int_rate                  0\n",
       "loan_status                    0\n",
       "loan_percent_income            0\n",
       "cb_person_default_on_file      0\n",
       "cb_person_cred_hist_length     0\n",
       "age_group                     29\n",
       "income_group                   0\n",
       "loan_amount_group              0\n",
       "loan_to_income_ratio           0\n",
       "loan_to_emp_length_ratio       0\n",
       "int_rate_to_loan_amt_ratio     0\n",
       "dtype: int64"
      ]
     },
     "execution_count": 4,
     "metadata": {},
     "output_type": "execute_result"
    }
   ],
   "source": [
    "df.isnull().sum()"
   ]
  },
  {
   "cell_type": "code",
   "execution_count": 5,
   "id": "66152b68",
   "metadata": {},
   "outputs": [],
   "source": [
    "df = df.dropna()"
   ]
  },
  {
   "cell_type": "code",
   "execution_count": 6,
   "id": "0d4c60da",
   "metadata": {},
   "outputs": [
    {
     "data": {
      "text/plain": [
       "person_age                    0\n",
       "person_income                 0\n",
       "person_home_ownership         0\n",
       "person_emp_length             0\n",
       "loan_intent                   0\n",
       "loan_grade                    0\n",
       "loan_amnt                     0\n",
       "loan_int_rate                 0\n",
       "loan_status                   0\n",
       "loan_percent_income           0\n",
       "cb_person_default_on_file     0\n",
       "cb_person_cred_hist_length    0\n",
       "age_group                     0\n",
       "income_group                  0\n",
       "loan_amount_group             0\n",
       "loan_to_income_ratio          0\n",
       "loan_to_emp_length_ratio      0\n",
       "int_rate_to_loan_amt_ratio    0\n",
       "dtype: int64"
      ]
     },
     "execution_count": 6,
     "metadata": {},
     "output_type": "execute_result"
    }
   ],
   "source": [
    "df.isnull().sum()"
   ]
  },
  {
   "cell_type": "code",
   "execution_count": 7,
   "id": "2a38385c",
   "metadata": {},
   "outputs": [
    {
     "data": {
      "text/html": [
       "<div>\n",
       "<style scoped>\n",
       "    .dataframe tbody tr th:only-of-type {\n",
       "        vertical-align: middle;\n",
       "    }\n",
       "\n",
       "    .dataframe tbody tr th {\n",
       "        vertical-align: top;\n",
       "    }\n",
       "\n",
       "    .dataframe thead th {\n",
       "        text-align: right;\n",
       "    }\n",
       "</style>\n",
       "<table border=\"1\" class=\"dataframe\">\n",
       "  <thead>\n",
       "    <tr style=\"text-align: right;\">\n",
       "      <th></th>\n",
       "      <th>person_age</th>\n",
       "      <th>person_income</th>\n",
       "      <th>person_home_ownership</th>\n",
       "      <th>person_emp_length</th>\n",
       "      <th>loan_intent</th>\n",
       "      <th>loan_grade</th>\n",
       "      <th>loan_amnt</th>\n",
       "      <th>loan_int_rate</th>\n",
       "      <th>loan_status</th>\n",
       "      <th>loan_percent_income</th>\n",
       "      <th>cb_person_default_on_file</th>\n",
       "      <th>cb_person_cred_hist_length</th>\n",
       "      <th>age_group</th>\n",
       "      <th>income_group</th>\n",
       "      <th>loan_amount_group</th>\n",
       "      <th>loan_to_income_ratio</th>\n",
       "      <th>loan_to_emp_length_ratio</th>\n",
       "      <th>int_rate_to_loan_amt_ratio</th>\n",
       "    </tr>\n",
       "  </thead>\n",
       "  <tbody>\n",
       "    <tr>\n",
       "      <th>0</th>\n",
       "      <td>21</td>\n",
       "      <td>9600</td>\n",
       "      <td>OWN</td>\n",
       "      <td>5.0</td>\n",
       "      <td>EDUCATION</td>\n",
       "      <td>B</td>\n",
       "      <td>1000</td>\n",
       "      <td>11.14</td>\n",
       "      <td>0</td>\n",
       "      <td>0.10</td>\n",
       "      <td>N</td>\n",
       "      <td>2</td>\n",
       "      <td>20-25</td>\n",
       "      <td>low</td>\n",
       "      <td>small</td>\n",
       "      <td>0.104167</td>\n",
       "      <td>0.005000</td>\n",
       "      <td>0.01114</td>\n",
       "    </tr>\n",
       "    <tr>\n",
       "      <th>1</th>\n",
       "      <td>25</td>\n",
       "      <td>9600</td>\n",
       "      <td>MORTGAGE</td>\n",
       "      <td>1.0</td>\n",
       "      <td>MEDICAL</td>\n",
       "      <td>C</td>\n",
       "      <td>5500</td>\n",
       "      <td>12.87</td>\n",
       "      <td>1</td>\n",
       "      <td>0.57</td>\n",
       "      <td>N</td>\n",
       "      <td>3</td>\n",
       "      <td>20-25</td>\n",
       "      <td>low</td>\n",
       "      <td>medium</td>\n",
       "      <td>0.572917</td>\n",
       "      <td>0.000182</td>\n",
       "      <td>0.00234</td>\n",
       "    </tr>\n",
       "  </tbody>\n",
       "</table>\n",
       "</div>"
      ],
      "text/plain": [
       "   person_age  person_income person_home_ownership  person_emp_length  \\\n",
       "0          21           9600                   OWN                5.0   \n",
       "1          25           9600              MORTGAGE                1.0   \n",
       "\n",
       "  loan_intent loan_grade  loan_amnt  loan_int_rate  loan_status  \\\n",
       "0   EDUCATION          B       1000          11.14            0   \n",
       "1     MEDICAL          C       5500          12.87            1   \n",
       "\n",
       "   loan_percent_income cb_person_default_on_file  cb_person_cred_hist_length  \\\n",
       "0                 0.10                         N                           2   \n",
       "1                 0.57                         N                           3   \n",
       "\n",
       "  age_group income_group loan_amount_group  loan_to_income_ratio  \\\n",
       "0     20-25          low             small              0.104167   \n",
       "1     20-25          low            medium              0.572917   \n",
       "\n",
       "   loan_to_emp_length_ratio  int_rate_to_loan_amt_ratio  \n",
       "0                  0.005000                     0.01114  \n",
       "1                  0.000182                     0.00234  "
      ]
     },
     "execution_count": 7,
     "metadata": {},
     "output_type": "execute_result"
    }
   ],
   "source": [
    "df.head(2)"
   ]
  },
  {
   "cell_type": "code",
   "execution_count": 8,
   "id": "166cb9b8",
   "metadata": {},
   "outputs": [],
   "source": [
    "y = df[\"loan_status\"]"
   ]
  },
  {
   "cell_type": "code",
   "execution_count": 9,
   "id": "53c4535c",
   "metadata": {},
   "outputs": [],
   "source": [
    "df.drop(['loan_status'],  axis =1 ,inplace=True)"
   ]
  },
  {
   "cell_type": "code",
   "execution_count": 10,
   "id": "98c36c45",
   "metadata": {},
   "outputs": [
    {
     "data": {
      "text/plain": [
       "Index(['person_age', 'person_income', 'person_home_ownership',\n",
       "       'person_emp_length', 'loan_intent', 'loan_grade', 'loan_amnt',\n",
       "       'loan_int_rate', 'loan_percent_income', 'cb_person_default_on_file',\n",
       "       'cb_person_cred_hist_length', 'age_group', 'income_group',\n",
       "       'loan_amount_group', 'loan_to_income_ratio', 'loan_to_emp_length_ratio',\n",
       "       'int_rate_to_loan_amt_ratio'],\n",
       "      dtype='object')"
      ]
     },
     "execution_count": 10,
     "metadata": {},
     "output_type": "execute_result"
    }
   ],
   "source": [
    "df.columns"
   ]
  },
  {
   "cell_type": "code",
   "execution_count": 11,
   "id": "d3d11530",
   "metadata": {},
   "outputs": [],
   "source": [
    "X_train, X_test, y_train, y_test = train_test_split(df, y, test_size=0.33, random_state=42)"
   ]
  },
  {
   "cell_type": "code",
   "execution_count": 12,
   "id": "8111fdc2",
   "metadata": {},
   "outputs": [
    {
     "data": {
      "text/plain": [
       "(19162, 17)"
      ]
     },
     "execution_count": 12,
     "metadata": {},
     "output_type": "execute_result"
    }
   ],
   "source": [
    "X_train.shape"
   ]
  },
  {
   "cell_type": "code",
   "execution_count": 13,
   "id": "9c21f956",
   "metadata": {},
   "outputs": [
    {
     "data": {
      "text/plain": [
       "(9439, 17)"
      ]
     },
     "execution_count": 13,
     "metadata": {},
     "output_type": "execute_result"
    }
   ],
   "source": [
    "X_test.shape"
   ]
  },
  {
   "cell_type": "code",
   "execution_count": 14,
   "id": "1f93e94a",
   "metadata": {},
   "outputs": [
    {
     "data": {
      "text/plain": [
       "(19162,)"
      ]
     },
     "execution_count": 14,
     "metadata": {},
     "output_type": "execute_result"
    }
   ],
   "source": [
    "y_train.shape"
   ]
  },
  {
   "cell_type": "code",
   "execution_count": 15,
   "id": "42d93c9f",
   "metadata": {},
   "outputs": [
    {
     "data": {
      "text/plain": [
       "(9439,)"
      ]
     },
     "execution_count": 15,
     "metadata": {},
     "output_type": "execute_result"
    }
   ],
   "source": [
    "y_test.shape"
   ]
  },
  {
   "cell_type": "code",
   "execution_count": 16,
   "id": "26d2b6c0",
   "metadata": {},
   "outputs": [],
   "source": [
    "categorical_features_indices = np.where(X_train.dtypes != np.float)[0]"
   ]
  },
  {
   "cell_type": "code",
   "execution_count": 17,
   "id": "96a19ea1",
   "metadata": {},
   "outputs": [
    {
     "name": "stdout",
     "output_type": "stream",
     "text": [
      "0:\tlearn: 0.6346476\ttotal: 175ms\tremaining: 8.59s\n",
      "1:\tlearn: 0.5850502\ttotal: 189ms\tremaining: 4.54s\n",
      "2:\tlearn: 0.5439741\ttotal: 205ms\tremaining: 3.21s\n",
      "3:\tlearn: 0.5098914\ttotal: 218ms\tremaining: 2.51s\n",
      "4:\tlearn: 0.4811931\ttotal: 234ms\tremaining: 2.1s\n",
      "5:\tlearn: 0.4566315\ttotal: 248ms\tremaining: 1.81s\n",
      "6:\tlearn: 0.4357975\ttotal: 262ms\tremaining: 1.61s\n",
      "7:\tlearn: 0.4182059\ttotal: 276ms\tremaining: 1.45s\n",
      "8:\tlearn: 0.4030884\ttotal: 290ms\tremaining: 1.32s\n",
      "9:\tlearn: 0.3895629\ttotal: 304ms\tremaining: 1.21s\n",
      "10:\tlearn: 0.3786007\ttotal: 317ms\tremaining: 1.12s\n",
      "11:\tlearn: 0.3684453\ttotal: 331ms\tremaining: 1.05s\n",
      "12:\tlearn: 0.3607646\ttotal: 345ms\tremaining: 982ms\n",
      "13:\tlearn: 0.3529859\ttotal: 359ms\tremaining: 923ms\n",
      "14:\tlearn: 0.3453305\ttotal: 377ms\tremaining: 880ms\n",
      "15:\tlearn: 0.3362404\ttotal: 392ms\tremaining: 834ms\n",
      "16:\tlearn: 0.3283527\ttotal: 406ms\tremaining: 789ms\n",
      "17:\tlearn: 0.3212529\ttotal: 420ms\tremaining: 747ms\n",
      "18:\tlearn: 0.3152073\ttotal: 434ms\tremaining: 708ms\n",
      "19:\tlearn: 0.3091667\ttotal: 447ms\tremaining: 671ms\n",
      "20:\tlearn: 0.3045536\ttotal: 461ms\tremaining: 637ms\n",
      "21:\tlearn: 0.3002517\ttotal: 474ms\tremaining: 604ms\n",
      "22:\tlearn: 0.2964810\ttotal: 488ms\tremaining: 573ms\n",
      "23:\tlearn: 0.2933499\ttotal: 502ms\tremaining: 544ms\n",
      "24:\tlearn: 0.2895460\ttotal: 516ms\tremaining: 516ms\n",
      "25:\tlearn: 0.2862837\ttotal: 530ms\tremaining: 489ms\n",
      "26:\tlearn: 0.2833134\ttotal: 545ms\tremaining: 464ms\n",
      "27:\tlearn: 0.2808386\ttotal: 559ms\tremaining: 439ms\n",
      "28:\tlearn: 0.2783452\ttotal: 578ms\tremaining: 419ms\n",
      "29:\tlearn: 0.2752171\ttotal: 592ms\tremaining: 395ms\n",
      "30:\tlearn: 0.2729632\ttotal: 606ms\tremaining: 372ms\n",
      "31:\tlearn: 0.2713206\ttotal: 621ms\tremaining: 349ms\n",
      "32:\tlearn: 0.2695079\ttotal: 634ms\tremaining: 327ms\n",
      "33:\tlearn: 0.2679835\ttotal: 648ms\tremaining: 305ms\n",
      "34:\tlearn: 0.2660001\ttotal: 662ms\tremaining: 284ms\n",
      "35:\tlearn: 0.2649826\ttotal: 675ms\tremaining: 263ms\n",
      "36:\tlearn: 0.2637432\ttotal: 689ms\tremaining: 242ms\n",
      "37:\tlearn: 0.2625565\ttotal: 703ms\tremaining: 222ms\n",
      "38:\tlearn: 0.2610741\ttotal: 717ms\tremaining: 202ms\n",
      "39:\tlearn: 0.2597884\ttotal: 731ms\tremaining: 183ms\n",
      "40:\tlearn: 0.2586381\ttotal: 745ms\tremaining: 163ms\n",
      "41:\tlearn: 0.2571340\ttotal: 758ms\tremaining: 144ms\n",
      "42:\tlearn: 0.2562121\ttotal: 777ms\tremaining: 127ms\n",
      "43:\tlearn: 0.2549016\ttotal: 792ms\tremaining: 108ms\n",
      "44:\tlearn: 0.2542573\ttotal: 806ms\tremaining: 89.6ms\n",
      "45:\tlearn: 0.2534814\ttotal: 820ms\tremaining: 71.3ms\n",
      "46:\tlearn: 0.2519795\ttotal: 834ms\tremaining: 53.2ms\n",
      "47:\tlearn: 0.2508635\ttotal: 848ms\tremaining: 35.3ms\n",
      "48:\tlearn: 0.2502570\ttotal: 863ms\tremaining: 17.6ms\n",
      "49:\tlearn: 0.2492635\ttotal: 877ms\tremaining: 0us\n"
     ]
    },
    {
     "data": {
      "text/plain": [
       "<catboost.core.CatBoostClassifier at 0x29f157efbe0>"
      ]
     },
     "execution_count": 17,
     "metadata": {},
     "output_type": "execute_result"
    }
   ],
   "source": [
    "from catboost import CatBoostClassifier\n",
    "model=CatBoostClassifier(iterations=50, depth=3, learning_rate=0.1, loss_function='CrossEntropy')\n",
    "model.fit(X_train, y_train,cat_features=categorical_features_indices)"
   ]
  },
  {
   "cell_type": "code",
   "execution_count": 18,
   "id": "8b8ba111",
   "metadata": {},
   "outputs": [],
   "source": [
    "y_pred_catboost = model.predict(X_test)"
   ]
  },
  {
   "cell_type": "code",
   "execution_count": 19,
   "id": "9492ad2d",
   "metadata": {},
   "outputs": [
    {
     "data": {
      "text/plain": [
       "array([0, 0, 0, ..., 0, 0, 0], dtype=int64)"
      ]
     },
     "execution_count": 19,
     "metadata": {},
     "output_type": "execute_result"
    }
   ],
   "source": [
    "y_pred_catboost"
   ]
  },
  {
   "cell_type": "code",
   "execution_count": 20,
   "id": "8b18f8b7",
   "metadata": {},
   "outputs": [
    {
     "data": {
      "text/plain": [
       "array([[7261,  109],\n",
       "       [ 704, 1365]], dtype=int64)"
      ]
     },
     "execution_count": 20,
     "metadata": {},
     "output_type": "execute_result"
    }
   ],
   "source": [
    "from sklearn.metrics import confusion_matrix\n",
    "confusion_matrix(y_test,y_pred_catboost)"
   ]
  },
  {
   "cell_type": "code",
   "execution_count": 21,
   "id": "12ac6cd4",
   "metadata": {},
   "outputs": [
    {
     "data": {
      "text/plain": [
       "0.9138679944909418"
      ]
     },
     "execution_count": 21,
     "metadata": {},
     "output_type": "execute_result"
    }
   ],
   "source": [
    "from sklearn.metrics import accuracy_score\n",
    "accuracy_score(y_test,y_pred_catboost)"
   ]
  },
  {
   "cell_type": "code",
   "execution_count": 22,
   "id": "b398e973",
   "metadata": {},
   "outputs": [
    {
     "name": "stdout",
     "output_type": "stream",
     "text": [
      "Classification report - \n",
      "               precision    recall  f1-score   support\n",
      "\n",
      "           0       0.91      0.99      0.95      7370\n",
      "           1       0.93      0.66      0.77      2069\n",
      "\n",
      "    accuracy                           0.91      9439\n",
      "   macro avg       0.92      0.82      0.86      9439\n",
      "weighted avg       0.91      0.91      0.91      9439\n",
      "\n"
     ]
    }
   ],
   "source": [
    "from sklearn.metrics import classification_report\n",
    "print(\"Classification report - \\n\", classification_report(y_test,y_pred_catboost))"
   ]
  },
  {
   "cell_type": "code",
   "execution_count": 23,
   "id": "67ebc940",
   "metadata": {},
   "outputs": [],
   "source": [
    "probability_predictions = model.predict_proba(X_test)"
   ]
  },
  {
   "cell_type": "code",
   "execution_count": 24,
   "id": "0dcf62ac",
   "metadata": {},
   "outputs": [],
   "source": [
    "from sklearn.metrics import log_loss, roc_auc_score, classification_report"
   ]
  },
  {
   "cell_type": "markdown",
   "id": "f3cedf2f",
   "metadata": {},
   "source": [
    "### Log loss "
   ]
  },
  {
   "cell_type": "code",
   "execution_count": 25,
   "id": "e2323004",
   "metadata": {},
   "outputs": [
    {
     "name": "stdout",
     "output_type": "stream",
     "text": [
      "Log Loss: 0.24894097606771615\n"
     ]
    }
   ],
   "source": [
    "log_loss_value = log_loss(y_test, probability_predictions[:,1])\n",
    "print(f'Log Loss: {log_loss_value}')"
   ]
  },
  {
   "cell_type": "markdown",
   "id": "67694a7c",
   "metadata": {},
   "source": [
    "### ROC AUC "
   ]
  },
  {
   "cell_type": "code",
   "execution_count": 26,
   "id": "90719e3b",
   "metadata": {},
   "outputs": [
    {
     "name": "stdout",
     "output_type": "stream",
     "text": [
      "ROC AUC: 0.9328381161987418\n"
     ]
    }
   ],
   "source": [
    "roc_auc = roc_auc_score(y_test, probability_predictions[:,1])\n",
    "print(f'ROC AUC: {roc_auc}')"
   ]
  },
  {
   "cell_type": "code",
   "execution_count": 28,
   "id": "47cba348",
   "metadata": {},
   "outputs": [
    {
     "data": {
      "image/png": "[encoded data removed]",
      "text/plain": [
       "<Figure size 432x288 with 1 Axes>"
      ]
     },
     "metadata": {
      "needs_background": "light"
     },
     "output_type": "display_data"
    },
    {
     "data": {
      "image/png": "[encoded data removed]",
      "text/plain": [
       "<Figure size 792x576 with 1 Axes>"
      ]
     },
     "metadata": {},
     "output_type": "display_data"
    },
    {
     "data": {
      "text/plain": [
       "<ggplot: (180143101639)>"
      ]
     },
     "execution_count": 28,
     "metadata": {},
     "output_type": "execute_result"
    }
   ],
   "source": [
    "import sklearn.metrics as metrics\n",
    "# calculate the fpr and tpr for all thresholds of the classification\n",
    "probs = model.predict_proba(X_test)\n",
    "preds = probs[:,1]\n",
    "fpr, tpr, threshold = metrics.roc_curve(y_test, preds)\n",
    "roc_auc = metrics.auc(fpr, tpr)\n",
    "\n",
    "# method I: plt\n",
    "import matplotlib.pyplot as plt\n",
    "plt.title('Receiver Operating Characteristic')\n",
    "plt.plot(fpr, tpr, 'b', label = 'AUC = %0.2f' % roc_auc)\n",
    "plt.legend(loc = 'lower right')\n",
    "plt.plot([0, 1], [0, 1],'r--')\n",
    "plt.xlim([0, 1])\n",
    "plt.ylim([0, 1])\n",
    "plt.ylabel('True Positive Rate')\n",
    "plt.xlabel('False Positive Rate')\n",
    "plt.show()\n",
    "\n",
    "# method II: ggplot\n",
    "from ggplot import *\n",
    "df = pd.DataFrame(dict(fpr = fpr, tpr = tpr))\n",
    "ggplot(df, aes(x = 'fpr', y = 'tpr')) + geom_line() + geom_abline(linetype = 'dashed')"
   ]
  }
 ],
 "metadata": {
  "kernelspec": {
   "display_name": "Python 3",
   "language": "python",
   "name": "python3"
  },
  "language_info": {
   "codemirror_mode": {
    "name": "ipython",
    "version": 3
   },
   "file_extension": ".py",
   "mimetype": "text/x-python",
   "name": "python",
   "nbconvert_exporter": "python",
   "pygments_lexer": "ipython3",
   "version": "3.8.8"
  }
 },
 "nbformat": 4,
 "nbformat_minor": 5
}
